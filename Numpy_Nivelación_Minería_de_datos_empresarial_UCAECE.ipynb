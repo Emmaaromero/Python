{
  "nbformat": 4,
  "nbformat_minor": 0,
  "metadata": {
    "colab": {
      "name": "Numpy: Nivelación - Minería de datos empresarial - UCAECE.ipynb",
      "provenance": [],
      "collapsed_sections": []
    },
    "kernelspec": {
      "name": "python3",
      "display_name": "Python 3"
    },
    "language_info": {
      "name": "python"
    }
  },
  "cells": [
    {
      "cell_type": "markdown",
      "metadata": {
        "id": "C1PkYvgDmtSH"
      },
      "source": [
        "Librerias"
      ]
    },
    {
      "cell_type": "code",
      "metadata": {
        "id": "4xUw-ZHjmg3L"
      },
      "source": [
        "from __future__ import print_function, division\n",
        "\n",
        "from builtins import range\n",
        "\n",
        "import numpy as np\n",
        "\n",
        "from datetime import datetime"
      ],
      "execution_count": 2,
      "outputs": []
    },
    {
      "cell_type": "code",
      "metadata": {
        "colab": {
          "base_uri": "https://localhost:8080/"
        },
        "id": "VpxNfpppm7th",
        "outputId": "4fec834b-7964-456c-d9da-b325b3faafe2"
      },
      "source": [
        "# creamos dos vectores\n",
        "\n",
        "a=np.array([1,2,3])\n",
        "\n",
        "b=np.array([2,1,1])\n",
        "\n",
        "print('vector a:', a)\n",
        "\n",
        "print('vector b:' ,b)"
      ],
      "execution_count": 3,
      "outputs": [
        {
          "output_type": "stream",
          "text": [
            "vector a: [1 2 3]\n",
            "vector b: [2 1 1]\n"
          ],
          "name": "stdout"
        }
      ]
    },
    {
      "cell_type": "code",
      "metadata": {
        "colab": {
          "base_uri": "https://localhost:8080/"
        },
        "id": "YNrNikeAnMTe",
        "outputId": "ee779291-102f-4971-cac0-db8c3d7a63f9"
      },
      "source": [
        "# hacemos la suma entre vector, hay que notar que para algebra lineal se multiplican los\n",
        "# mismas ubicaciones y se suman los total.\n",
        "# en este caso sería: (1*2)+(2*1)+(3*1)\n",
        "np.sum(a*b)"
      ],
      "execution_count": 4,
      "outputs": [
        {
          "output_type": "execute_result",
          "data": {
            "text/plain": [
              "7"
            ]
          },
          "metadata": {
            "tags": []
          },
          "execution_count": 4
        }
      ]
    },
    {
      "cell_type": "code",
      "metadata": {
        "colab": {
          "base_uri": "https://localhost:8080/"
        },
        "id": "4XLEPhJinczt",
        "outputId": "625f2ef3-32b6-4fec-a254-e600455dba9e"
      },
      "source": [
        "(a*b).sum()\n",
        "#otra forma de hacer el mismo producto"
      ],
      "execution_count": 5,
      "outputs": [
        {
          "output_type": "execute_result",
          "data": {
            "text/plain": [
              "7"
            ]
          },
          "metadata": {
            "tags": []
          },
          "execution_count": 5
        }
      ]
    },
    {
      "cell_type": "code",
      "metadata": {
        "colab": {
          "base_uri": "https://localhost:8080/"
        },
        "id": "XJp4rKHZn1Tg",
        "outputId": "079ee928-6f5e-487c-f2af-39a1baa907e6"
      },
      "source": [
        "# el vector por un escalar: 1*2|2*2|3*2\n",
        "a*2"
      ],
      "execution_count": 6,
      "outputs": [
        {
          "output_type": "execute_result",
          "data": {
            "text/plain": [
              "array([2, 4, 6])"
            ]
          },
          "metadata": {
            "tags": []
          },
          "execution_count": 6
        }
      ]
    },
    {
      "cell_type": "code",
      "metadata": {
        "colab": {
          "base_uri": "https://localhost:8080/"
        },
        "id": "vbn_6V3in7mc",
        "outputId": "3ec1c994-51c6-4347-b50d-543510010330"
      },
      "source": [
        "#otra forma de hacer el el prodcuto entre lso vectores \"a\" y \"b\"\n",
        "np.dot(a,b)"
      ],
      "execution_count": 7,
      "outputs": [
        {
          "output_type": "execute_result",
          "data": {
            "text/plain": [
              "7"
            ]
          },
          "metadata": {
            "tags": []
          },
          "execution_count": 7
        }
      ]
    },
    {
      "cell_type": "code",
      "metadata": {
        "colab": {
          "base_uri": "https://localhost:8080/"
        },
        "id": "ukoc8iN2oHnn",
        "outputId": "488ab9ec-8e27-4488-8924-c29fcf3a3c9a"
      },
      "source": [
        "#armamos dos matrices\n",
        "M=np.array([[1,4],[2,3],[1,3]])\n",
        "print('matriz M: \\n',M) #el comando \"\\n\" es para dejar un renglon "
      ],
      "execution_count": 8,
      "outputs": [
        {
          "output_type": "stream",
          "text": [
            "matriz M: \n",
            " [[1 4]\n",
            " [2 3]\n",
            " [1 3]]\n"
          ],
          "name": "stdout"
        }
      ]
    },
    {
      "cell_type": "code",
      "metadata": {
        "colab": {
          "base_uri": "https://localhost:8080/"
        },
        "id": "YIcMaQ1upY0-",
        "outputId": "587230c5-1f78-457f-b7a6-7c95d9c02341"
      },
      "source": [
        "N=np.array([2,4])\n",
        "print('matriz N: \\n',N)"
      ],
      "execution_count": 9,
      "outputs": [
        {
          "output_type": "stream",
          "text": [
            "matriz N: \n",
            " [2 4]\n"
          ],
          "name": "stdout"
        }
      ]
    },
    {
      "cell_type": "code",
      "metadata": {
        "colab": {
          "base_uri": "https://localhost:8080/"
        },
        "id": "R4RzNsUjobs4",
        "outputId": "c0e7a96c-dd62-48bc-b5d8-a6f755509272"
      },
      "source": [
        "np.dot(M,N) \n",
        "# 1*2+4*4=2+16=18 |2*2+3*4 =4+12=16| 1*2+3*4=2+12=14"
      ],
      "execution_count": 10,
      "outputs": [
        {
          "output_type": "execute_result",
          "data": {
            "text/plain": [
              "array([18, 16, 14])"
            ]
          },
          "metadata": {
            "tags": []
          },
          "execution_count": 10
        }
      ]
    },
    {
      "cell_type": "code",
      "metadata": {
        "id": "PWmfOiSXooG4",
        "colab": {
          "base_uri": "https://localhost:8080/"
        },
        "outputId": "b040d804-fcf0-4c1a-9508-c7fe7fb1abeb"
      },
      "source": [
        "# Seleccionamos el elemento de la 3era fila y la 2da columna de la matriz \"M\"\n",
        "# en python los indices comienzan e 0 (cero)\n",
        "M[2][1]"
      ],
      "execution_count": 11,
      "outputs": [
        {
          "output_type": "execute_result",
          "data": {
            "text/plain": [
              "3"
            ]
          },
          "metadata": {
            "tags": []
          },
          "execution_count": 11
        }
      ]
    },
    {
      "cell_type": "code",
      "metadata": {
        "colab": {
          "base_uri": "https://localhost:8080/"
        },
        "id": "_sZhycIP6FOy",
        "outputId": "328fbc2c-6455-4606-a950-c566bd973863"
      },
      "source": [
        "M[1][1] #sería el elemento de la 2da fila y la 2da columna"
      ],
      "execution_count": 12,
      "outputs": [
        {
          "output_type": "execute_result",
          "data": {
            "text/plain": [
              "3"
            ]
          },
          "metadata": {
            "tags": []
          },
          "execution_count": 12
        }
      ]
    },
    {
      "cell_type": "code",
      "metadata": {
        "colab": {
          "base_uri": "https://localhost:8080/"
        },
        "id": "pcKpB7kr6fiw",
        "outputId": "91d1038e-1853-44ba-df25-611dd5b503b3"
      },
      "source": [
        "M[1][0] #sería el elemento de la 2da fila y la 1ra columna"
      ],
      "execution_count": 13,
      "outputs": [
        {
          "output_type": "execute_result",
          "data": {
            "text/plain": [
              "2"
            ]
          },
          "metadata": {
            "tags": []
          },
          "execution_count": 13
        }
      ]
    },
    {
      "cell_type": "code",
      "metadata": {
        "colab": {
          "base_uri": "https://localhost:8080/"
        },
        "id": "oxTZqmxI6jbN",
        "outputId": "3250df61-c3d4-40d1-a287-0b9ba08522da"
      },
      "source": [
        "#otras de las formas de acceder a los elementos seria de la siguiente amnera:\n",
        "M[1,0]"
      ],
      "execution_count": 14,
      "outputs": [
        {
          "output_type": "execute_result",
          "data": {
            "text/plain": [
              "2"
            ]
          },
          "metadata": {
            "tags": []
          },
          "execution_count": 14
        }
      ]
    },
    {
      "cell_type": "code",
      "metadata": {
        "colab": {
          "base_uri": "https://localhost:8080/"
        },
        "id": "AGrWrKmY6rM3",
        "outputId": "cfaa7721-6a97-4680-ebda-b8ff55d8f90d"
      },
      "source": [
        "# tambien se pueden usar los np.matrix() pero no es recomendable\n",
        "\n",
        "M1=np.matrix([[1,4],[2,3],[1,3]])\n",
        "\n",
        "M1"
      ],
      "execution_count": 15,
      "outputs": [
        {
          "output_type": "execute_result",
          "data": {
            "text/plain": [
              "matrix([[1, 4],\n",
              "        [2, 3],\n",
              "        [1, 3]])"
            ]
          },
          "metadata": {
            "tags": []
          },
          "execution_count": 15
        }
      ]
    },
    {
      "cell_type": "code",
      "metadata": {
        "colab": {
          "base_uri": "https://localhost:8080/"
        },
        "id": "QDI4b0wi7LDt",
        "outputId": "32760d45-bb78-4597-e3a9-71cc321365cb"
      },
      "source": [
        "# para convertir la matriz en array \n",
        "M2=np.array(M1)\n",
        "\n",
        "M2"
      ],
      "execution_count": 16,
      "outputs": [
        {
          "output_type": "execute_result",
          "data": {
            "text/plain": [
              "array([[1, 4],\n",
              "       [2, 3],\n",
              "       [1, 3]])"
            ]
          },
          "metadata": {
            "tags": []
          },
          "execution_count": 16
        }
      ]
    },
    {
      "cell_type": "code",
      "metadata": {
        "colab": {
          "base_uri": "https://localhost:8080/"
        },
        "id": "rR63ri0O7QVx",
        "outputId": "f70dd8ca-edaf-4de7-c5e6-ca5cbd481013"
      },
      "source": [
        "# para trasponer:\n",
        "M2.T"
      ],
      "execution_count": 17,
      "outputs": [
        {
          "output_type": "execute_result",
          "data": {
            "text/plain": [
              "array([[1, 2, 1],\n",
              "       [4, 3, 3]])"
            ]
          },
          "metadata": {
            "tags": []
          },
          "execution_count": 17
        }
      ]
    },
    {
      "cell_type": "code",
      "metadata": {
        "colab": {
          "base_uri": "https://localhost:8080/"
        },
        "id": "A6IH4-KY7V7n",
        "outputId": "2db6395a-660f-4559-ee48-9f7912062df7"
      },
      "source": [
        "# para generar vectores completos de 0 (ceros), usamos la función \"zeros(cantidad de elementos 0)\"\n",
        "Cero=np.zeros(10)\n",
        "\n",
        "Cero"
      ],
      "execution_count": 18,
      "outputs": [
        {
          "output_type": "execute_result",
          "data": {
            "text/plain": [
              "array([0., 0., 0., 0., 0., 0., 0., 0., 0., 0.])"
            ]
          },
          "metadata": {
            "tags": []
          },
          "execution_count": 18
        }
      ]
    },
    {
      "cell_type": "code",
      "metadata": {
        "colab": {
          "base_uri": "https://localhost:8080/"
        },
        "id": "bfsCXzgd7kkg",
        "outputId": "55eaaaa9-9f8e-4e6c-b325-9a560a558ae8"
      },
      "source": [
        "# si fuera una matriz de 5x5\n",
        "\n",
        "Cero=np.zeros((5,5))\n",
        "\n",
        "Cero"
      ],
      "execution_count": 19,
      "outputs": [
        {
          "output_type": "execute_result",
          "data": {
            "text/plain": [
              "array([[0., 0., 0., 0., 0.],\n",
              "       [0., 0., 0., 0., 0.],\n",
              "       [0., 0., 0., 0., 0.],\n",
              "       [0., 0., 0., 0., 0.],\n",
              "       [0., 0., 0., 0., 0.]])"
            ]
          },
          "metadata": {
            "tags": []
          },
          "execution_count": 19
        }
      ]
    },
    {
      "cell_type": "code",
      "metadata": {
        "colab": {
          "base_uri": "https://localhost:8080/"
        },
        "id": "JTxnbKp27n95",
        "outputId": "9c5287ab-60f5-4276-b213-41b5113d5afa"
      },
      "source": [
        "#si quiero que sean 1s\n",
        "\n",
        "UNOs=np.ones((5,5))\n",
        "\n",
        "UNOs"
      ],
      "execution_count": 20,
      "outputs": [
        {
          "output_type": "execute_result",
          "data": {
            "text/plain": [
              "array([[1., 1., 1., 1., 1.],\n",
              "       [1., 1., 1., 1., 1.],\n",
              "       [1., 1., 1., 1., 1.],\n",
              "       [1., 1., 1., 1., 1.],\n",
              "       [1., 1., 1., 1., 1.]])"
            ]
          },
          "metadata": {
            "tags": []
          },
          "execution_count": 20
        }
      ]
    },
    {
      "cell_type": "code",
      "metadata": {
        "colab": {
          "base_uri": "https://localhost:8080/"
        },
        "id": "kfIPTeXV7tFX",
        "outputId": "10659511-d13f-42ae-b86a-fd4a506589c3"
      },
      "source": [
        "#y si los quiero generados aleatoriamente\n",
        "\n",
        "Rand=np.random.random((5,5))\n",
        "\n",
        "Rand"
      ],
      "execution_count": 22,
      "outputs": [
        {
          "output_type": "execute_result",
          "data": {
            "text/plain": [
              "array([[0.21401154, 0.92330519, 0.2020833 , 0.95481447, 0.83371378],\n",
              "       [0.76859208, 0.12762526, 0.38630867, 0.43136851, 0.52976119],\n",
              "       [0.15914727, 0.95450739, 0.7742096 , 0.05744046, 0.68293155],\n",
              "       [0.30593853, 0.38659021, 0.93813352, 0.54497249, 0.87855674],\n",
              "       [0.89629358, 0.98207008, 0.16758935, 0.10859868, 0.00800203]])"
            ]
          },
          "metadata": {
            "tags": []
          },
          "execution_count": 22
        }
      ]
    },
    {
      "cell_type": "code",
      "metadata": {
        "colab": {
          "base_uri": "https://localhost:8080/"
        },
        "id": "CWJJRLdW7z_S",
        "outputId": "59acd427-224f-48eb-d4ad-0f67f38badbf"
      },
      "source": [
        "#si necesitamos valores que se ajusten a la normalidad usamons \"randn()\"\n",
        "\n",
        "Gauss=np.random.randn(5,5)\n",
        "\n",
        "Gauss"
      ],
      "execution_count": 23,
      "outputs": [
        {
          "output_type": "execute_result",
          "data": {
            "text/plain": [
              "array([[ 0.73549008,  0.19579569,  1.90845022, -0.04161147, -1.65601293],\n",
              "       [ 0.32163409, -0.18768523, -1.15564541, -1.19475491,  0.79313837],\n",
              "       [-0.21514104, -0.10930438,  0.37685016,  1.02712086,  0.1048489 ],\n",
              "       [ 0.543882  , -1.25178385, -1.34102612, -1.75323926,  0.5711949 ],\n",
              "       [ 0.17650955, -0.31461156,  1.07806143, -0.20013776,  0.85465304]])"
            ]
          },
          "metadata": {
            "tags": []
          },
          "execution_count": 23
        }
      ]
    },
    {
      "cell_type": "code",
      "metadata": {
        "colab": {
          "base_uri": "https://localhost:8080/"
        },
        "id": "E8wOqpgF8C0Z",
        "outputId": "dd96ee1a-e6d2-4025-e375-b5face99614b"
      },
      "source": [
        "# calcular la media y la varianza \"mean()\" - \"var()\"\n",
        "\n",
        "print('media: ', Gauss.mean())\n",
        "\n",
        "print('varianza: ', Gauss.var())"
      ],
      "execution_count": 24,
      "outputs": [
        {
          "output_type": "stream",
          "text": [
            "media:  -0.02933298516019986\n",
            "varianza:  0.8346021625615474\n"
          ],
          "name": "stdout"
        }
      ]
    },
    {
      "cell_type": "code",
      "metadata": {
        "colab": {
          "base_uri": "https://localhost:8080/"
        },
        "id": "LyN8Kytx8UlS",
        "outputId": "1bc6a1aa-dfec-48d4-e946-54200eb7f326"
      },
      "source": [
        "#producto de vectores o matrices elemento a elemento (se usa mucho en DS) \n",
        "\n",
        "#recordemos nuestros vectores originales a=np.array([1,2,3]) y b=np.array([2,1,1])\n",
        "\n",
        "a*b\n",
        "\n",
        "#se puede hacer lo mismo con matrices pero deben ser del mismo rango"
      ],
      "execution_count": 25,
      "outputs": [
        {
          "output_type": "execute_result",
          "data": {
            "text/plain": [
              "array([2, 2, 3])"
            ]
          },
          "metadata": {
            "tags": []
          },
          "execution_count": 25
        }
      ]
    },
    {
      "cell_type": "code",
      "metadata": {
        "colab": {
          "base_uri": "https://localhost:8080/"
        },
        "id": "WoC7lV8q8dc9",
        "outputId": "62f6f7c0-39bf-469e-ffab-179d943de9b8"
      },
      "source": [
        "#inversa de una matriz, recordemos que debe ser cuadrada: linalg.inv\n",
        "#deifnomos la matriz\n",
        "M=np.matrix([[1,4,2],[2,3,4],[1,3,1]])\n",
        "M"
      ],
      "execution_count": 28,
      "outputs": [
        {
          "output_type": "execute_result",
          "data": {
            "text/plain": [
              "matrix([[1, 4, 2],\n",
              "        [2, 3, 4],\n",
              "        [1, 3, 1]])"
            ]
          },
          "metadata": {
            "tags": []
          },
          "execution_count": 28
        }
      ]
    },
    {
      "cell_type": "code",
      "metadata": {
        "colab": {
          "base_uri": "https://localhost:8080/"
        },
        "id": "pr05LYp11VIu",
        "outputId": "633755e0-799f-4d0e-8cea-6278fd2f306b"
      },
      "source": [
        "#hacemos la inverza de la matriz definida\n",
        "Minv=np.linalg.inv(M)\n",
        "\n",
        "Minv"
      ],
      "execution_count": 29,
      "outputs": [
        {
          "output_type": "execute_result",
          "data": {
            "text/plain": [
              "matrix([[-1.8,  0.4,  2. ],\n",
              "        [ 0.4, -0.2,  0. ],\n",
              "        [ 0.6,  0.2, -1. ]])"
            ]
          },
          "metadata": {
            "tags": []
          },
          "execution_count": 29
        }
      ]
    },
    {
      "cell_type": "code",
      "metadata": {
        "colab": {
          "base_uri": "https://localhost:8080/"
        },
        "id": "8XdxvDzr80ya",
        "outputId": "cb464c22-3fc7-4be2-e094-d41770c2746e"
      },
      "source": [
        "#como verificacion, si multimplicamos la inversa por la matriz nos da I\n",
        "Minv.dot(M)"
      ],
      "execution_count": 34,
      "outputs": [
        {
          "output_type": "execute_result",
          "data": {
            "text/plain": [
              "matrix([[ 1.0000000e+00, -8.8817842e-16,  0.0000000e+00],\n",
              "        [ 0.0000000e+00,  1.0000000e+00,  0.0000000e+00],\n",
              "        [ 0.0000000e+00,  0.0000000e+00,  1.0000000e+00]])"
            ]
          },
          "metadata": {
            "tags": []
          },
          "execution_count": 34
        }
      ]
    },
    {
      "cell_type": "code",
      "metadata": {
        "colab": {
          "base_uri": "https://localhost:8080/"
        },
        "id": "2aaAlddo848a",
        "outputId": "bd58962c-9d86-4ef9-c245-3dce2fcd855f"
      },
      "source": [
        "#tambien se puede hacer:\n",
        "M.dot(Minv)"
      ],
      "execution_count": 35,
      "outputs": [
        {
          "output_type": "execute_result",
          "data": {
            "text/plain": [
              "matrix([[ 1.00000000e+00,  0.00000000e+00,  0.00000000e+00],\n",
              "        [ 0.00000000e+00,  1.00000000e+00,  0.00000000e+00],\n",
              "        [-1.11022302e-16,  5.55111512e-17,  1.00000000e+00]])"
            ]
          },
          "metadata": {
            "tags": []
          },
          "execution_count": 35
        }
      ]
    },
    {
      "cell_type": "code",
      "metadata": {
        "colab": {
          "base_uri": "https://localhost:8080/"
        },
        "id": "RWGH5rPz9Jii",
        "outputId": "18251142-46d3-4ac5-c3de-e446cf8792ab"
      },
      "source": [
        "#el determinante de M es\n",
        "np.linalg.det(M)\n",
        "\n",
        "#Regla de Cramer\n",
        "# 1 4 2 1 4\n",
        "# 2 3 4 2 3\n",
        "# 1 3 1 1 3"
      ],
      "execution_count": 30,
      "outputs": [
        {
          "output_type": "execute_result",
          "data": {
            "text/plain": [
              "5.000000000000001"
            ]
          },
          "metadata": {
            "tags": []
          },
          "execution_count": 30
        }
      ]
    },
    {
      "cell_type": "code",
      "metadata": {
        "colab": {
          "base_uri": "https://localhost:8080/"
        },
        "id": "yrFR0mi218m-",
        "outputId": "f0e7b950-0c34-4f26-e3e3-84beb48622a6"
      },
      "source": [
        "np.diag(M) #para obtener la diagonal de la matriz"
      ],
      "execution_count": 31,
      "outputs": [
        {
          "output_type": "execute_result",
          "data": {
            "text/plain": [
              "array([1, 3, 1])"
            ]
          },
          "metadata": {
            "tags": []
          },
          "execution_count": 31
        }
      ]
    },
    {
      "cell_type": "code",
      "metadata": {
        "colab": {
          "base_uri": "https://localhost:8080/"
        },
        "id": "5agacalY2Qne",
        "outputId": "73174181-c2b2-4add-fb6e-da8db52c05fa"
      },
      "source": [
        "#el producto externo es (con a=array([1, 2, 3]) y b=array([2, 1, 1]))\n",
        "print('a: ', a)\n",
        "print('b: ', b)\n",
        "c=np.outer(a,b)\n",
        "print('\\n c: ', c)\n"
      ],
      "execution_count": 35,
      "outputs": [
        {
          "output_type": "stream",
          "text": [
            "a:  [1 2 3]\n",
            "b:  [2 1 1]\n",
            "\n",
            " c:  [[2 1 1]\n",
            " [4 2 2]\n",
            " [6 3 3]]\n"
          ],
          "name": "stdout"
        }
      ]
    },
    {
      "cell_type": "code",
      "metadata": {
        "colab": {
          "base_uri": "https://localhost:8080/"
        },
        "id": "LSX5l8kR2Z2l",
        "outputId": "90b0f15b-2ca7-48a6-ed4b-3fa785f98a74"
      },
      "source": [
        "np.inner(a,b)  #es igual al np.dot"
      ],
      "execution_count": 36,
      "outputs": [
        {
          "output_type": "execute_result",
          "data": {
            "text/plain": [
              "7"
            ]
          },
          "metadata": {
            "tags": []
          },
          "execution_count": 36
        }
      ]
    },
    {
      "cell_type": "code",
      "metadata": {
        "colab": {
          "base_uri": "https://localhost:8080/"
        },
        "id": "rVBahZNc3DmZ",
        "outputId": "36c68974-3ef8-4f94-b30b-2aedcf3bf51f"
      },
      "source": [
        "#la traza de una matriz es la suma de los elemetos de la diagonal\n",
        "np.trace(M)"
      ],
      "execution_count": 37,
      "outputs": [
        {
          "output_type": "execute_result",
          "data": {
            "text/plain": [
              "5"
            ]
          },
          "metadata": {
            "tags": []
          },
          "execution_count": 37
        }
      ]
    },
    {
      "cell_type": "code",
      "metadata": {
        "id": "0_MxBOXR3MkG"
      },
      "source": [
        "#tambien sumando la diagonal se hace lo mismo\n",
        "\n",
        "np.diag(M).sum()\n"
      ],
      "execution_count": null,
      "outputs": []
    },
    {
      "cell_type": "markdown",
      "metadata": {
        "id": "2lTVWvmW3RZ0"
      },
      "source": [
        "De álgebra lineal, los autovalores y autovectores \n",
        "\n"
      ]
    },
    {
      "cell_type": "code",
      "metadata": {
        "colab": {
          "base_uri": "https://localhost:8080/"
        },
        "id": "uy5LuPL53R4i",
        "outputId": "b8e500a3-24b8-45ab-8c8e-c2e0f284fc97"
      },
      "source": [
        "# si la matriz es simétrica (A=A.T) o hermitiana (A=A conjugada traspuesta) se usa np.eigh(A)\n",
        "\n",
        "# sino se usa np.eig(A)\n",
        "\n",
        "A=np.array([[2,3,4],[3,5,1],[4,1,2]])\n",
        "\n",
        "A"
      ],
      "execution_count": 38,
      "outputs": [
        {
          "output_type": "execute_result",
          "data": {
            "text/plain": [
              "array([[2, 3, 4],\n",
              "       [3, 5, 1],\n",
              "       [4, 1, 2]])"
            ]
          },
          "metadata": {
            "tags": []
          },
          "execution_count": 38
        }
      ]
    },
    {
      "cell_type": "code",
      "metadata": {
        "colab": {
          "base_uri": "https://localhost:8080/"
        },
        "id": "BKNnK_gC3geq",
        "outputId": "d38f3783-2d85-45e9-88fb-760d1324fddd"
      },
      "source": [
        "A.T"
      ],
      "execution_count": 39,
      "outputs": [
        {
          "output_type": "execute_result",
          "data": {
            "text/plain": [
              "array([[2, 3, 4],\n",
              "       [3, 5, 1],\n",
              "       [4, 1, 2]])"
            ]
          },
          "metadata": {
            "tags": []
          },
          "execution_count": 39
        }
      ]
    },
    {
      "cell_type": "code",
      "metadata": {
        "colab": {
          "base_uri": "https://localhost:8080/"
        },
        "id": "pwZBY4jk3m6y",
        "outputId": "c0e5f753-ff64-4c3f-aafb-0d9d2628a960"
      },
      "source": [
        "np.linalg.eigh(A)\n",
        "\n",
        "#Devuelve dos np.array\n",
        "\n",
        "#el primero es un vector con los autovalores\n",
        "\n",
        "#el otro es la matriz devuelta contiene los autovectores en las columnas"
      ],
      "execution_count": 40,
      "outputs": [
        {
          "output_type": "execute_result",
          "data": {
            "text/plain": [
              "(array([-2.31482723,  2.8619783 ,  8.45284893]),\n",
              " array([[ 0.74045812,  0.31340961, -0.59455546],\n",
              "        [-0.21670595, -0.72604549, -0.65260744],\n",
              "        [-0.63620775,  0.61207219, -0.46968855]]))"
            ]
          },
          "metadata": {
            "tags": []
          },
          "execution_count": 40
        }
      ]
    },
    {
      "cell_type": "code",
      "metadata": {
        "colab": {
          "base_uri": "https://localhost:8080/"
        },
        "id": "LBGoNRxz3q_J",
        "outputId": "4e950667-5c6d-4247-8df9-ddcbdba7aed4"
      },
      "source": [
        "\n",
        "#Para resolver sistemas de ecuaciones lineales entonces podriamos hacerlo, con el siguiente ejemplo\n",
        "\n",
        "# 2 x1 + 3 x2 - 5 x3 = 2\n",
        "\n",
        "# -3 x1 + 2 x2 - x3 = 3\n",
        "\n",
        "# x1 - 3 x2 + 2 x3 = 1\n",
        "\n",
        "A= np.array([[2,3,-5],[-3,2,-1],[1,-3,2]])\n",
        "print('\\n A: \\n', A, '\\n')\n",
        "B= np.array([2,3,1])\n",
        "print('\\n B:\\n', B, '\\n')"
      ],
      "execution_count": 46,
      "outputs": [
        {
          "output_type": "stream",
          "text": [
            "\n",
            " A: \n",
            " [[ 2  3 -5]\n",
            " [-3  2 -1]\n",
            " [ 1 -3  2]] \n",
            "\n",
            "\n",
            " B:\n",
            " [2 3 1] \n",
            "\n"
          ],
          "name": "stdout"
        }
      ]
    },
    {
      "cell_type": "code",
      "metadata": {
        "colab": {
          "base_uri": "https://localhost:8080/"
        },
        "id": "nCOfqWxn4n_e",
        "outputId": "6f169022-1a04-4a7f-e165-fcb3ded9d531"
      },
      "source": [
        "#resolvemos como siempre\n",
        "\n",
        "X=np.linalg.inv(A).dot(B)\n",
        "#obtenemnos la inversa de y multiiplicamos por B\n",
        "X"
      ],
      "execution_count": 48,
      "outputs": [
        {
          "output_type": "execute_result",
          "data": {
            "text/plain": [
              "array([-2., -3., -3.])"
            ]
          },
          "metadata": {
            "tags": []
          },
          "execution_count": 48
        }
      ]
    },
    {
      "cell_type": "code",
      "metadata": {
        "colab": {
          "base_uri": "https://localhost:8080/"
        },
        "id": "tv-vbm3w4siX",
        "outputId": "0cbbbe6b-140d-4799-f820-498750f5a3ef"
      },
      "source": [
        "#esta operación ya existe y se llama np.linalg.solve()\n",
        "\n",
        "np.linalg.solve(A,B)"
      ],
      "execution_count": 49,
      "outputs": [
        {
          "output_type": "execute_result",
          "data": {
            "text/plain": [
              "array([-2., -3., -3.])"
            ]
          },
          "metadata": {
            "tags": []
          },
          "execution_count": 49
        }
      ]
    },
    {
      "cell_type": "code",
      "metadata": {
        "colab": {
          "base_uri": "https://localhost:8080/"
        },
        "id": "V8vKKjrI5GYF",
        "outputId": "1d93496b-946c-422b-e01e-2fd1e3894c8d"
      },
      "source": [
        "Z = np.dot(np.linalg.inv(A),B)\n",
        "Z"
      ],
      "execution_count": 58,
      "outputs": [
        {
          "output_type": "execute_result",
          "data": {
            "text/plain": [
              "array([-2., -3., -3.])"
            ]
          },
          "metadata": {
            "tags": []
          },
          "execution_count": 58
        }
      ]
    }
  ]
}