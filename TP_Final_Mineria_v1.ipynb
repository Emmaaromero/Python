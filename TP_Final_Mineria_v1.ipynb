{
  "nbformat": 4,
  "nbformat_minor": 0,
  "metadata": {
    "colab": {
      "name": "TP_Final_Mineria v1.ipynb",
      "provenance": [],
      "collapsed_sections": [
        "xzAyPyGm9lgO",
        "z7NxfGhu92iF",
        "qxrMZ2Gm-FuR",
        "Qz_5NffV-NOd",
        "ODLOv-pe-b1k",
        "r2Ut8GEh_Gql",
        "P_tLA8xC-_16",
        "dWGcyQnz-5xb",
        "OQmu00K5_uRo",
        "QZZDBJd3_zKM",
        "VcRVGU1RuBc4"
      ]
    },
    "kernelspec": {
      "name": "python3",
      "display_name": "Python 3"
    },
    "language_info": {
      "name": "python"
    }
  },
  "cells": [
    {
      "cell_type": "markdown",
      "metadata": {
        "id": "xzAyPyGm9lgO"
      },
      "source": [
        "# **Librerías**"
      ]
    },
    {
      "cell_type": "code",
      "metadata": {
        "id": "NFkCxFl7VYLj"
      },
      "source": [
        "#Instalar la versión 0.11.1 (o mayor) de Seaborn, necesaria para ejecutar este script\n",
        "#!pip install seaborn --upgrade"
      ],
      "execution_count": null,
      "outputs": []
    },
    {
      "cell_type": "code",
      "metadata": {
        "id": "FwcZ5I5hUNgg",
        "colab": {
          "base_uri": "https://localhost:8080/"
        },
        "outputId": "9e37d839-3d1e-407d-ab2d-803f980c53c7"
      },
      "source": [
        "# Tratamiento de datos\n",
        "# ------------------------------------------------------------------------------\n",
        "import numpy as np\n",
        "import pandas as pd\n",
        "#import statsmodels.api as sm\n",
        "\n",
        "# Gráficos\n",
        "# ------------------------------------------------------------------------------\n",
        "import matplotlib.pyplot as plt\n",
        "import seaborn as sns\n",
        "\n",
        "# Preprocesado y modelado\n",
        "# ------------------------------------------------------------------------------\n",
        "from sklearn.model_selection import train_test_split\n",
        "from sklearn.tree import DecisionTreeClassifier\n",
        "from sklearn.ensemble import BaggingClassifier\n",
        "from sklearn.linear_model import LogisticRegression\n",
        "from sklearn.tree import plot_tree\n",
        "from sklearn.tree import export_graphviz\n",
        "from sklearn.tree import export_text\n",
        "from sklearn.model_selection import GridSearchCV\n",
        "from sklearn.compose import ColumnTransformer\n",
        "from sklearn.preprocessing import OneHotEncoder\n",
        "from sklearn.metrics import accuracy_score\n",
        "from sklearn.metrics import recall_score\n",
        "from sklearn.metrics import confusion_matrix\n",
        "\n",
        "from sklearn.metrics import roc_curve\n",
        "from sklearn.metrics import roc_auc_score\n",
        "from sklearn.metrics import precision_recall_curve\n",
        "from sklearn.metrics import f1_score\n",
        "from sklearn.metrics import auc\n",
        "\n",
        "#Necesarias para PCA\n",
        "# ==============================================================================\n",
        "import statsmodels.api as sm\n",
        "#import statsmodels.formula.api as smf\n",
        "\n",
        "# Preprocesado y modelado\n",
        "# ==============================================================================\n",
        "from sklearn.decomposition import PCA\n",
        "from sklearn.pipeline import make_pipeline\n",
        "from sklearn.preprocessing import StandardScaler\n",
        "from sklearn.preprocessing import scale\n",
        "\n",
        "# Configuración warnings\n",
        "# ==============================================================================\n",
        "import warnings\n",
        "warnings.filterwarnings('ignore')\n",
        "\n",
        "# Calculo de chi cuadrado\n",
        "# ==============================================================================\n",
        "from scipy.stats import chi2_contingency\n",
        "from scipy.stats import pointbiserialr\n",
        "\n",
        "#from datetime import datetime\n",
        "\n",
        "#from scipy import misc\n",
        "\n",
        "\n",
        "#from funpymodeling.exploratory import status, freq_tbl, profiling_num\n",
        "\n"
      ],
      "execution_count": null,
      "outputs": [
        {
          "output_type": "stream",
          "text": [
            "/usr/local/lib/python3.7/dist-packages/statsmodels/tools/_testing.py:19: FutureWarning: pandas.util.testing is deprecated. Use the functions in the public API at pandas.testing instead.\n",
            "  import pandas.util.testing as tm\n"
          ],
          "name": "stderr"
        }
      ]
    },
    {
      "cell_type": "code",
      "metadata": {
        "id": "6vY8r6ut4q_f",
        "colab": {
          "base_uri": "https://localhost:8080/"
        },
        "outputId": "e59e1cf4-d387-4cdd-d327-4e0dc57fe79e"
      },
      "source": [
        "from google.colab import drive\n",
        "drive.mount('/content/gdrive/')\n"
      ],
      "execution_count": null,
      "outputs": [
        {
          "output_type": "stream",
          "text": [
            "Mounted at /content/gdrive/\n"
          ],
          "name": "stdout"
        }
      ]
    },
    {
      "cell_type": "markdown",
      "metadata": {
        "id": "z7NxfGhu92iF"
      },
      "source": [
        "# **Data set (subida e información general)**"
      ]
    },
    {
      "cell_type": "code",
      "metadata": {
        "id": "Ddcq8sgN6uvO"
      },
      "source": [
        "df_attrition=pd.read_csv(\"/content/gdrive/My Drive/Colab Notebooks/attrition_data.csv\",encoding='cp1252',index_col='id1')"
      ],
      "execution_count": null,
      "outputs": []
    },
    {
      "cell_type": "code",
      "metadata": {
        "id": "Q7JQvHao4vhl"
      },
      "source": [
        "df_attrition.tail()"
      ],
      "execution_count": null,
      "outputs": []
    },
    {
      "cell_type": "code",
      "metadata": {
        "id": "-RncpcjQoLGq"
      },
      "source": [
        "df_attrition.head()"
      ],
      "execution_count": null,
      "outputs": []
    },
    {
      "cell_type": "code",
      "metadata": {
        "id": "aYdCa-ID4vyL"
      },
      "source": [
        "#Obtenemos el numero de filas y el numero de columnas del dataset\n",
        "df_attrition.shape"
      ],
      "execution_count": null,
      "outputs": []
    },
    {
      "cell_type": "code",
      "metadata": {
        "id": "Qqt49M4z4wEe"
      },
      "source": [
        "#Obtenemos las columnas y el tipo\n",
        "df_attrition.info()"
      ],
      "execution_count": null,
      "outputs": []
    },
    {
      "cell_type": "code",
      "metadata": {
        "id": "8AUkVLRM4wV0"
      },
      "source": [
        "# Las variables involucradas son:\n",
        "#  id1: Identificador del registro\n",
        "#  ID: segundo identificador del registro (pero se repite, asi que no lo tomamos como identificador)\n",
        "#  Name: nombre del empleado (está blureado)\n",
        "#  ProjectName: Proyectos en donde trabajó el empleado\n",
        "#  Location: Lugar de trabajo del empleado (categórica)\n",
        "#  Capability: Tecnologías con la cual trabaja?\n",
        "#  JobLevel: Categoría del empleado (categórica)\n",
        "#  PerformanceRating: Performance (categórica / ordinal)\n",
        "#  ProficiencyLevel: Nivel de competencia (categorica / ordinal / Tienes 2490 filas con valores vacíos)\n",
        "#  PromotionElegibility: Elegibilidad (categórica / Tienes 6229 filas con valores vacíos)\n",
        "#  PromotionOutcome: Resultado de la promoción (categórica / Tienes 2 filas con valores vacíos)\n",
        "#  CareerLevel: Nivel de carrera (coinciden con los valores de columna Job Level)\n",
        "#  MonthsHired: Cantidad de meses contratados (numérica)\n",
        "#  CompRatio: Tasa??? (numérica)\n",
        "#  LastPromotionDate: Ultima fecha de promoción (fecha)\n",
        "#  MonthAtLevel: desde cuando esta en el cargo (numérica)\n",
        "#  Gender: Genero (categórica)\n",
        "#  Age: Edad (numérica)\n",
        "#  Locationpreference: Lugar a donde le gustaría trabajar el empleado\n",
        "#  ExitMonth: Mes de egreso (categorica, pero la mayoría de las filas no tienen datos)\n",
        "#  EducationalQualification_: Nivel educativo (categórica)\n",
        "#  Onboard_or_Exit: variable objetivo (categórica)"
      ],
      "execution_count": null,
      "outputs": []
    },
    {
      "cell_type": "markdown",
      "metadata": {
        "id": "qxrMZ2Gm-FuR"
      },
      "source": [
        "# **Primeras transformaciones de variables (nulos)**"
      ]
    },
    {
      "cell_type": "code",
      "metadata": {
        "id": "j_1KhDu2Ld5H"
      },
      "source": [
        "# Generamos una función para mostrar las frecuencias\n",
        "\n",
        "def view_freq_column(column_name):\n",
        "    print('-----------------------------------------------------------')\n",
        "    print('  Análisis de frecuencia columna: [' + column_name + ']:')\n",
        "    print('-----------------------------------------------------------')\n",
        "    print(pd.value_counts(df_attrition[column_name],dropna=False))\n",
        "    \n",
        "def diff_days(date1, date2):\n",
        "    dif_date = date2-date1\n",
        "    return dif_date.days"
      ],
      "execution_count": null,
      "outputs": []
    },
    {
      "cell_type": "code",
      "metadata": {
        "id": "SsKAu1G74wqs",
        "colab": {
          "base_uri": "https://localhost:8080/"
        },
        "outputId": "90bfe949-51b4-4490-b7bd-f5b7b0bd0f3a"
      },
      "source": [
        "# Verificamos si las columnas que tienen N/A\n",
        "df_attrition.isna().sum()"
      ],
      "execution_count": null,
      "outputs": [
        {
          "output_type": "execute_result",
          "data": {
            "text/plain": [
              "ID                               0\n",
              "Name                             0\n",
              "ProjectName                      0\n",
              "Location                         0\n",
              "Capability                       0\n",
              "JobLevel                         0\n",
              "PerformanceRating                0\n",
              "ProficiencyLevel              2490\n",
              "PromotionEligibility          6229\n",
              "PromotionOutcome                 2\n",
              "CareerLevel                      0\n",
              "MonthsHired                      0\n",
              "CompRatio                        0\n",
              "LastPromotionDate                0\n",
              "MonthAtLevel                     0\n",
              "Gender                           0\n",
              "Age                              0\n",
              "Locationpreference               0\n",
              "ExitMonth                    33794\n",
              "EducationalQualification_        0\n",
              "Onboard_or_Exit                  0\n",
              "dtype: int64"
            ]
          },
          "metadata": {
            "tags": []
          },
          "execution_count": 6
        }
      ]
    },
    {
      "cell_type": "code",
      "metadata": {
        "id": "Kl1Gi5zrtJT6",
        "colab": {
          "base_uri": "https://localhost:8080/"
        },
        "outputId": "93d73991-3e4e-4962-87a2-7f5ac4f5a44f"
      },
      "source": [
        "print('\\n valores de: Proficency', df_attrition.ProficiencyLevel.value_counts())"
      ],
      "execution_count": null,
      "outputs": [
        {
          "output_type": "stream",
          "text": [
            "\n",
            " valores de: Proficency P3 - Advanced      10631\n",
            "P2 - Proficient     9594\n",
            "P1 - Novice         5875\n",
            "P0 - Trained        3487\n",
            "P4 - Expert         3478\n",
            "Name: ProficiencyLevel, dtype: int64\n"
          ],
          "name": "stdout"
        }
      ]
    },
    {
      "cell_type": "code",
      "metadata": {
        "id": "tEIPLMfNGuLC"
      },
      "source": [
        "# Procedemos a poner un valor por defecto a los valores vacíos en las tres columnas:\n",
        "# ProficiencyLevel              2490\n",
        "# PromotionEligibility          6229\n",
        "# PromotionOutcome                 2\n",
        "\n",
        "df_attrition.fillna({'ProficiencyLevel': 'p5 - unknown'}, inplace=True)\n",
        "df_attrition.fillna({'PromotionEligibility': 'unknown'}, inplace=True)\n",
        "df_attrition.fillna({'PromotionOutcome': 'none'}, inplace=True)\n"
      ],
      "execution_count": null,
      "outputs": []
    },
    {
      "cell_type": "markdown",
      "metadata": {
        "id": "Qz_5NffV-NOd"
      },
      "source": [
        "# **Primer EDA**"
      ]
    },
    {
      "cell_type": "code",
      "metadata": {
        "id": "0fjb0XIT4w57",
        "colab": {
          "base_uri": "https://localhost:8080/"
        },
        "outputId": "819fdf86-9a5c-4b3e-d16b-6378bf0a3943"
      },
      "source": [
        "#Visualizar datos estadísticos como percentiles, media, desviación estándard, etc.\n",
        "df_attrition.describe()"
      ],
      "execution_count": null,
      "outputs": [
        {
          "output_type": "execute_result",
          "data": {
            "text/html": [
              "<div>\n",
              "<style scoped>\n",
              "    .dataframe tbody tr th:only-of-type {\n",
              "        vertical-align: middle;\n",
              "    }\n",
              "\n",
              "    .dataframe tbody tr th {\n",
              "        vertical-align: top;\n",
              "    }\n",
              "\n",
              "    .dataframe thead th {\n",
              "        text-align: right;\n",
              "    }\n",
              "</style>\n",
              "<table border=\"1\" class=\"dataframe\">\n",
              "  <thead>\n",
              "    <tr style=\"text-align: right;\">\n",
              "      <th></th>\n",
              "      <th>ID</th>\n",
              "      <th>MonthsHired</th>\n",
              "      <th>CompRatio</th>\n",
              "      <th>MonthAtLevel</th>\n",
              "      <th>Age</th>\n",
              "    </tr>\n",
              "  </thead>\n",
              "  <tbody>\n",
              "    <tr>\n",
              "      <th>count</th>\n",
              "      <td>35555.000000</td>\n",
              "      <td>35555.000000</td>\n",
              "      <td>35555.000000</td>\n",
              "      <td>35555.000000</td>\n",
              "      <td>35555.000000</td>\n",
              "    </tr>\n",
              "    <tr>\n",
              "      <th>mean</th>\n",
              "      <td>6711.458163</td>\n",
              "      <td>61.345184</td>\n",
              "      <td>0.956795</td>\n",
              "      <td>36.975868</td>\n",
              "      <td>29.705583</td>\n",
              "    </tr>\n",
              "    <tr>\n",
              "      <th>std</th>\n",
              "      <td>4226.177520</td>\n",
              "      <td>25.511501</td>\n",
              "      <td>0.078788</td>\n",
              "      <td>22.386320</td>\n",
              "      <td>4.574621</td>\n",
              "    </tr>\n",
              "    <tr>\n",
              "      <th>min</th>\n",
              "      <td>1.000000</td>\n",
              "      <td>19.000000</td>\n",
              "      <td>0.490000</td>\n",
              "      <td>2.000000</td>\n",
              "      <td>20.000000</td>\n",
              "    </tr>\n",
              "    <tr>\n",
              "      <th>25%</th>\n",
              "      <td>3171.000000</td>\n",
              "      <td>39.000000</td>\n",
              "      <td>0.930000</td>\n",
              "      <td>17.000000</td>\n",
              "      <td>26.000000</td>\n",
              "    </tr>\n",
              "    <tr>\n",
              "      <th>50%</th>\n",
              "      <td>6348.000000</td>\n",
              "      <td>59.000000</td>\n",
              "      <td>0.950000</td>\n",
              "      <td>33.000000</td>\n",
              "      <td>29.000000</td>\n",
              "    </tr>\n",
              "    <tr>\n",
              "      <th>75%</th>\n",
              "      <td>9847.500000</td>\n",
              "      <td>79.000000</td>\n",
              "      <td>1.000000</td>\n",
              "      <td>50.000000</td>\n",
              "      <td>33.000000</td>\n",
              "    </tr>\n",
              "    <tr>\n",
              "      <th>max</th>\n",
              "      <td>16533.000000</td>\n",
              "      <td>151.000000</td>\n",
              "      <td>1.810000</td>\n",
              "      <td>136.000000</td>\n",
              "      <td>54.000000</td>\n",
              "    </tr>\n",
              "  </tbody>\n",
              "</table>\n",
              "</div>"
            ],
            "text/plain": [
              "                 ID   MonthsHired     CompRatio  MonthAtLevel           Age\n",
              "count  35555.000000  35555.000000  35555.000000  35555.000000  35555.000000\n",
              "mean    6711.458163     61.345184      0.956795     36.975868     29.705583\n",
              "std     4226.177520     25.511501      0.078788     22.386320      4.574621\n",
              "min        1.000000     19.000000      0.490000      2.000000     20.000000\n",
              "25%     3171.000000     39.000000      0.930000     17.000000     26.000000\n",
              "50%     6348.000000     59.000000      0.950000     33.000000     29.000000\n",
              "75%     9847.500000     79.000000      1.000000     50.000000     33.000000\n",
              "max    16533.000000    151.000000      1.810000    136.000000     54.000000"
            ]
          },
          "metadata": {
            "tags": []
          },
          "execution_count": 15
        }
      ]
    },
    {
      "cell_type": "code",
      "metadata": {
        "id": "dDP15U6KDjOm",
        "colab": {
          "base_uri": "https://localhost:8080/"
        },
        "outputId": "9e98b7e0-e9e8-4139-8375-de08885503ae"
      },
      "source": [
        "#Obtenemos la cantidad de empleados que se fueron de la compañia y la cantida de empleados que se quedan\n",
        "#Esto es la variable objetivo\n",
        "#Como vemos, el dataset está muy desbalanceado\n",
        "freq = df_attrition['Onboard_or_Exit'].value_counts()\n",
        "print(freq)\n",
        "perc_freq = \"{:.2%}\".format(1-freq[1]/(freq[0]+freq[1]))\n",
        "print(\"La cantidad de Ex/Resig sobre el total es de\", perc_freq)\n"
      ],
      "execution_count": null,
      "outputs": [
        {
          "output_type": "stream",
          "text": [
            "Onboard     33794\n",
            "Ex/Resig     1761\n",
            "Name: Onboard_or_Exit, dtype: int64\n",
            "La cantidad de Ex/Resig sobre el total es de 95.05%\n"
          ],
          "name": "stdout"
        }
      ]
    },
    {
      "cell_type": "code",
      "metadata": {
        "colab": {
          "base_uri": "https://localhost:8080/"
        },
        "id": "d7qU6L-IlW8_",
        "outputId": "ece0463e-c89f-485d-93de-2becec02ffeb"
      },
      "source": [
        "# Armamos un gráfico de distribución\n",
        "sns.countplot(x=\"Onboard_or_Exit\",data=df_attrition)"
      ],
      "execution_count": null,
      "outputs": [
        {
          "output_type": "execute_result",
          "data": {
            "text/plain": [
              "<matplotlib.axes._subplots.AxesSubplot at 0x7f7e5ea64610>"
            ]
          },
          "metadata": {
            "tags": []
          },
          "execution_count": 17
        },
        {
          "output_type": "display_data",
          "data": {
            "image/png": "[encoded data removed]",
            "text/plain": [
              "<Figure size 432x288 with 1 Axes>"
            ]
          },
          "metadata": {
            "tags": [],
            "needs_background": "light"
          }
        }
      ]
    },
    {
      "cell_type": "code",
      "metadata": {
        "colab": {
          "base_uri": "https://localhost:8080/"
        },
        "id": "EngZ6AGsNs3f",
        "outputId": "7de3c9d6-5cf2-4f21-d877-8eed59d9eca9"
      },
      "source": [
        "# Verificamos como es la distribución de ExitMonth en el grupo en la clase de los que se fueron\n",
        "sns.countplot(x=\"ExitMonth\",data=df_attrition)\n"
      ],
      "execution_count": null,
      "outputs": [
        {
          "output_type": "execute_result",
          "data": {
            "text/plain": [
              "<matplotlib.axes._subplots.AxesSubplot at 0x7f7e5e9c2e10>"
            ]
          },
          "metadata": {
            "tags": []
          },
          "execution_count": 18
        },
        {
          "output_type": "display_data",
          "data": {
            "image/png": "[encoded data removed]",
            "text/plain": [
              "<Figure size 432x288 with 1 Axes>"
            ]
          },
          "metadata": {
            "tags": [],
            "needs_background": "light"
          }
        }
      ]
    },
    {
      "cell_type": "code",
      "metadata": {
        "colab": {
          "base_uri": "https://localhost:8080/"
        },
        "id": "UBGEi0zLPpM9",
        "outputId": "ee102eed-2b47-40be-a645-6e93029be8cf"
      },
      "source": [
        "# Verificamos con PromotionOutcome\n",
        "ax = sns.displot(df_attrition, x=\"PromotionOutcome\", hue=\"Onboard_or_Exit\", stat=\"density\", common_norm=False, multiple=\"dodge\")\n",
        "\n",
        "# Vemos que la variable tiene el 99,98% de los valores en la clase \"DO NOT PROMOTE\" con lo cual tambien la eliminamos del dataset"
      ],
      "execution_count": null,
      "outputs": [
        {
          "output_type": "display_data",
          "data": {
            "image/png": "[encoded data removed]",
            "text/plain": [
              "<Figure size 449.875x360 with 1 Axes>"
            ]
          },
          "metadata": {
            "tags": [],
            "needs_background": "light"
          }
        }
      ]
    },
    {
      "cell_type": "markdown",
      "metadata": {
        "id": "ODLOv-pe-b1k"
      },
      "source": [
        "# **Segunda Transformación de variables (Formatos de datos y eliminación de columnas)**"
      ]
    },
    {
      "cell_type": "code",
      "metadata": {
        "id": "yD3__bQpCQMs"
      },
      "source": [
        "# -------------------------\n",
        "# Transformación de datos:\n",
        "# -------------------------\n",
        "\n",
        "# 1 - Eliminamos la columna ExitMonth porque no tienen datos\n",
        "df_attrition.drop('ExitMonth', axis=1, inplace=True) #La eliminamos porque no se pueden desambiguar los mese de J, A, M\n",
        "\n",
        "# 2 - Generamos una columna que calcule si la preferencia de locación respecto a la locación es la misma\n",
        "# 2.a - hay que tranformar en el campo Locationpreference los valores \"Kolkata (to\" a \"Kolkata\")\n",
        "df_attrition.Locationpreference = df_attrition.Locationpreference.replace({\"Kolkata (to\": \"Kolkata\"})\n",
        "# 2.b - se genera una columna auxiliar RequestLocationChange (valores 'Yes' o 'No')\n",
        "df_attrition['RequestLocationChange'] = np.where(df_attrition['Location'] != df_attrition['Locationpreference'], 'Yes', 'No')\n",
        "# 2.c - se elimina la columna Locationpreference\n",
        "df_attrition.drop('Locationpreference', axis=1, inplace=True)\n",
        "\n",
        "# 3.a - se convierte columna LastPromotionDate a fecha\n",
        "# df_attrition['LastPromotionDate_d'] = df_attrition['LastPromotionDate'].apply((lambda x: datetime.strptime(x), \"%m/%d/%Y\"))\n",
        "df_attrition['LastPromotionDate'] = df_attrition['LastPromotionDate'].apply((lambda x: pd.to_datetime(x, format=\"%m/%d/%Y\")))\n",
        "# 3.b - Se genera columna con cantidad de dias desde última promoción (DaysLastPromotion). Se utiliza como referencia 31/12/2019\n",
        "df_attrition['DaysLastPromotion'] = df_attrition['LastPromotionDate'].apply((lambda x: diff_days(x, pd.to_datetime(\"today\"))))\n",
        "# 3.c - Se elimina columna LastPromotionDate\n",
        "df_attrition.drop('LastPromotionDate', axis=1, inplace=True)\n",
        "\n",
        "# 4 - Generamos una columna Onboard_or_Exit_bin tipo categórica binaria (0=Onboard, 1=Ex/Resig), a partir de la columna Onboard_or_Exit\n",
        "df_attrition['Onboard_or_Exit_bin'] = np.where(df_attrition['Onboard_or_Exit'] == 'Onboard', 0, 1)\n",
        "\n",
        "# 5 - Se eliminan las columnas Onboard_or_Exit, Name, ID, y ExitMonth, PromotionOutcome\n",
        "df_attrition.drop('Onboard_or_Exit', axis=1, inplace=True)\n",
        "df_attrition.drop('Name', axis=1, inplace=True)\n",
        "df_attrition.drop('ID', axis=1, inplace=True)\n",
        "df_attrition.drop('PromotionOutcome', axis=1, inplace=True)\n",
        "\n",
        "\n",
        "# 6 - Transformaciones varias\n",
        "# Education - muchos valore posibles, agrupamos segun categoria\n",
        "df_attrition.loc[df_attrition.EducationalQualification_.isin(['Master of Accounting',\n",
        " 'Bachelor of Commercial Science', 'Master of Social Work', 'Master of Finance and Controls',\n",
        " 'Master in Human Resource Management', 'Cost and Works Accountant',\n",
        " 'Bachelor of Corporate Secretaryship',  'Doctor of Science', 'Doctor of Business Admin',\n",
        "'Bachelor of Science', 'Bachelor of Commerce', 'Master of Science', 'Master of Business Admin',\n",
        "'Bachelor of Business Admin', 'Bachelor of Business Management', 'Master of Management Studies',\n",
        "'Bachelor of Economics', 'Master of Financial Management', 'Master of Commerce']),'EducationalQualification_']='Businnes/Econ/Socials'\n",
        "\n",
        "df_attrition.loc[df_attrition.EducationalQualification_.isin(['Associate of Engineering',\n",
        "'Master of Mechanical Engineer', 'Master of Civil Engineering', 'Bachelor of Engineering',\n",
        "'Master of Engineering', 'Bachelor of Mathematics']),'EducationalQualification_']='Engineering'\n",
        "\n",
        "df_attrition.loc[df_attrition.EducationalQualification_.isin(['Bachelor of Technology',\n",
        "'BCA (Bachelor of Computer Application)', 'Master of Computer Application', \n",
        "'Bachelor of Computer', 'Master of Technology', 'Master in Computer Science',\n",
        "'Master of Computer Science', 'Master in Information Technology', 'Bachelor of Computer Studies']),'EducationalQualification_']='IT'\n",
        "\n",
        "df_attrition.loc[df_attrition.EducationalQualification_.isin([ 'Bachelor of Textile Technology',\n",
        "'Local Degree', 'Bachelor of Architecture', 'Certificate', 'Associate of Science', 'Other Local Degree',\n",
        "'Diploma in Business', 'Diploma in Hotel Management', 'Advanced Level', 'Honorary Degree',\n",
        "'High School Graduate', 'Bachelor of Fine Arts', 'Diploma', 'Other Graduate Degree',\n",
        "'Bachelor of Arts', 'Studies', 'other', 'Bachelor', 'Bachelor of Theology', \n",
        "'Bachelor of Arts Honors', 'Other', 'Chartered Accountant', 'Master of Education',\n",
        "'Bachelor of Hotel Management', 'Master of Arts','Bachelor of Law', 'Bachelor of Dental Studies',\n",
        "'Doctor of Medicine', 'Bachelor of Nursing', 'Bachelor of Pharmacy']),'EducationalQualification_']='Oher'\n",
        "\n",
        "df_attrition.EducationalQualification_ = df_attrition.EducationalQualification_.str.upper()\n",
        "\n",
        "df_attrition['ProficiencyLevel'] = df_attrition['ProficiencyLevel'].str.upper()\n",
        "\n",
        "df_attrition['PromotionEligibility'] = df_attrition['PromotionEligibility'].str.upper()\n",
        "\n",
        "df_attrition['Location'] = df_attrition['Location'].str.upper()\n",
        "\n",
        "\n",
        "#capability: tiene 129 valores posibles\n",
        "#se agrupa en tres variables, segun frecuencia: <10 - <200 - <500 <1000 - >1000\n",
        "\n",
        "df_attrition.loc[df_attrition.Capability.isin(['Tech Research/Innovation', 'IBM Skills', 'CMT-EHT',\n",
        "'Development Technologies', 'Integrated Marketing',\n",
        "'Customer Analytics', 'Enterprise Perfmnc Mgmt', 'CMT-M&E',\n",
        "'Other Vendor Products', 'Core', 'PRD-Consumer Goods & Services',\n",
        "'PRD-Retail', 'HR Service Delivery', 'Health & Life Sciences', 'H&PS',\n",
        "'RES', ' Methods/Tools', 'Pharmaceuticals Processes',\n",
        "'Assets & Offering Mgmt', 'Supply Chain & Operations',\n",
        "'Finance Services & Admin', 'BMC', 'Customer Service', 'Sun',\n",
        "'Business Operations', 'RES-Natural Resources', 'Insurance Processes',\n",
        "'Open Source', 'Informatica', 'Utilities', 'Interwoven',\n",
        "'Media and Entertainment', 'RES-Chemicals', 'HR and Talent Management',\n",
        "'FS', 'Consumer Goods & Services', 'Commercial Management',\n",
        "'PRD-Air, Freight & Logistics and', 'Customer Service Delivery',\n",
        "'Adobe', 'Organization Management', 'Electronics & High Tech',\n",
        "'Pegasystems', 'Natural Resources', 'Callidus', 'Energy',\n",
        "'RES-Utilities', 'CA', 'Marketing Serv Delivery', 'Retail',\n",
        "'Customer Strategy & Arch', 'Growth Strategy', 'Research',\n",
        "'SAP-SCM-Planning & Logistics Ski', 'SAP-Technology Skills', 'BEA',\n",
        "'Google', 'Healthcare Processes', 'Operational Strategy',\n",
        "'Corp. Strategy & Growth', 'SAP-Solution Extensions Skills',\n",
        "'WebSphere Skills', 'H&PS-Defense/Pub Safety', 'Source To Pay Services',\n",
        "'EMC', 'Microsoft Platform Skills', 'Res&LifeCycMgmt', 'Omniture',\n",
        "'Chemicals', 'Industrial Equipment', 'Apache', 'Technical',\n",
        "'Automotive', 'Finance Accounting Operations Ex']),'Capability']='lowf' #<10\n",
        "\n",
        "df_attrition.loc[df_attrition.Capability.isin(['Industry Applications-HPS', 'Cloud Computing',\n",
        "'Service Mobilization', 'H&PS-Health','Industry Applications-PRD'\n",
        "'User Experience', 'CMT-Communications', 'IT Strat & Transformation','Sales Execution',\n",
        "'Learning & Collaboration', 'Sales', 'Marketing', 'IT Service Excellence', 'Insurance',\n",
        "'JD Edwards', 'Application Modernization', 'FS-Banking', 'Capital Markets', \n",
        "'RES-Energy', 'Communications', 'FS-Capital Markets', 'Health', 'PRD-Life Sciences',\n",
        "'Language', 'Performance Engineering', 'Banking', 'CMT', 'Industry Applications-PRD', 'User Experience',\n",
        "'Service Management', 'Microsoft Business Apps', 'Quality', 'Industry Applications-FS', 'Industry Applications-RES',\n",
        "'FS-Insurance']),'Capability']='lowf_plus'#<200\n",
        "\n",
        "df_attrition.loc[df_attrition.Capability.isin([ 'Workplace & Collaboration',\n",
        "'Industry Applications-CMT', 'Digital Soln & Web Arch', 'Network & Communications', \n",
        "'Delivery Lifecycle', 'C/C++', 'Data Center', 'Security & Risk', 'PeopleSoft', 'Industry Applications']),'Capability']='medf' #<500\n",
        "\n",
        "df_attrition.loc[df_attrition.Capability.isin(['Delivery Management', 'Functional Applications']), 'Capability'] = 'medf_plus' #<1000\n",
        "df_attrition['Capability'] = df_attrition['Capability'].str.upper()\n",
        "\n",
        "#career label\n",
        "#para los valores ACCE y SREX tiene muy poco representatividad en proporcion a los demas\n",
        "#procedemos a agruparlos\n",
        "df_attrition.replace(\n",
        "    to_replace = {'ACCE': 'ACCE-SREX', 'SREX': 'ACCE-SREX'},\n",
        "    inplace = True\n",
        ")\n",
        "\n",
        "#project Name\n",
        "#es extremadamente cardinal, lo eliminamos\n",
        "df_attrition.drop(labels = 'ProjectName',\n",
        "                  axis = 1,\n",
        "                  inplace = True)"
      ],
      "execution_count": null,
      "outputs": []
    },
    {
      "cell_type": "code",
      "metadata": {
        "id": "Md5MZ9Z-5HYP",
        "colab": {
          "base_uri": "https://localhost:8080/"
        },
        "outputId": "339eb554-9269-4f75-cfc2-1f1ac4538429"
      },
      "source": [
        "# Mostramos las frecuencias de todas las columnas\n",
        "for column in df_attrition:\n",
        "    if (column != 'ID' and column != 'ProjectName' and column != 'Name' and column != 'DaysLastPromotion' and column != 'MonthsHired' and column != 'CompRatio' and column != 'MonthAtLevel' and column != 'Age' and column != 'DaysLastPromotion'):\n",
        "        view_freq_column(column)"
      ],
      "execution_count": null,
      "outputs": [
        {
          "output_type": "stream",
          "text": [
            "-----------------------------------------------------------\n",
            "  Análisis de frecuencia columna: [Location]:\n",
            "-----------------------------------------------------------\n",
            "BANGALORE    16271\n",
            "MUMBAI        5278\n",
            "HYDERABAD     4286\n",
            "CHENNAI       4109\n",
            "PUNE          2968\n",
            "GURGAON       2451\n",
            "KOLKATA        192\n",
            "Name: Location, dtype: int64\n",
            "-----------------------------------------------------------\n",
            "  Análisis de frecuencia columna: [Capability]:\n",
            "-----------------------------------------------------------\n",
            "SAP                         6293\n",
            "TESTING                     5354\n",
            "MICROSOFT PLATFORM          4048\n",
            "MEDF                        3283\n",
            "JAVA TECHNOLOGY PLATFORM    2983\n",
            "INFORMATION MANAGEMENT      2633\n",
            "ORACLE                      2331\n",
            "LOWF_PLUS                   1733\n",
            "PPSM                        1664\n",
            "HOSTCENTRIC PLATFORM        1547\n",
            "TECHNOLOGY ARCHITECTURE     1289\n",
            "MEDF_PLUS                   1191\n",
            "SIEBEL                      1018\n",
            "LOWF                         188\n",
            "Name: Capability, dtype: int64\n",
            "-----------------------------------------------------------\n",
            "  Análisis de frecuencia columna: [JobLevel]:\n",
            "-----------------------------------------------------------\n",
            "SSE          9982\n",
            "TL           9067\n",
            "SE           8908\n",
            "AM           4586\n",
            "M            1948\n",
            "SM            804\n",
            "ASE           150\n",
            "ACCE-SREX     110\n",
            "Name: JobLevel, dtype: int64\n",
            "-----------------------------------------------------------\n",
            "  Análisis de frecuencia columna: [PerformanceRating]:\n",
            "-----------------------------------------------------------\n",
            "CSAPG    29829\n",
            "CVTPG     5726\n",
            "Name: PerformanceRating, dtype: int64\n",
            "-----------------------------------------------------------\n",
            "  Análisis de frecuencia columna: [ProficiencyLevel]:\n",
            "-----------------------------------------------------------\n",
            "P3 - ADVANCED      10631\n",
            "P2 - PROFICIENT     9594\n",
            "P1 - NOVICE         5875\n",
            "P0 - TRAINED        3487\n",
            "P4 - EXPERT         3478\n",
            "P5 - UNKNOWN        2490\n",
            "Name: ProficiencyLevel, dtype: int64\n",
            "-----------------------------------------------------------\n",
            "  Análisis de frecuencia columna: [PromotionEligibility]:\n",
            "-----------------------------------------------------------\n",
            "ELIGIBLE     25655\n",
            "UNKNOWN       6229\n",
            "NOT ELIGI     3671\n",
            "Name: PromotionEligibility, dtype: int64\n",
            "-----------------------------------------------------------\n",
            "  Análisis de frecuencia columna: [CareerLevel]:\n",
            "-----------------------------------------------------------\n",
            "SSE          9982\n",
            "TL           9067\n",
            "SE           8908\n",
            "AM           4586\n",
            "M            1948\n",
            "SM            804\n",
            "ASE           150\n",
            "ACCE-SREX     110\n",
            "Name: CareerLevel, dtype: int64\n",
            "-----------------------------------------------------------\n",
            "  Análisis de frecuencia columna: [Gender]:\n",
            "-----------------------------------------------------------\n",
            "M    26548\n",
            "F     9007\n",
            "Name: Gender, dtype: int64\n",
            "-----------------------------------------------------------\n",
            "  Análisis de frecuencia columna: [EducationalQualification_]:\n",
            "-----------------------------------------------------------\n",
            "ENGINEERING              16211\n",
            "IT                        8920\n",
            "BUSINNES/ECON/SOCIALS     7821\n",
            "OHER                      2603\n",
            "Name: EducationalQualification_, dtype: int64\n",
            "-----------------------------------------------------------\n",
            "  Análisis de frecuencia columna: [RequestLocationChange]:\n",
            "-----------------------------------------------------------\n",
            "No     27751\n",
            "Yes     7804\n",
            "Name: RequestLocationChange, dtype: int64\n",
            "-----------------------------------------------------------\n",
            "  Análisis de frecuencia columna: [Onboard_or_Exit_bin]:\n",
            "-----------------------------------------------------------\n",
            "0    33794\n",
            "1     1761\n",
            "Name: Onboard_or_Exit_bin, dtype: int64\n"
          ],
          "name": "stdout"
        }
      ]
    },
    {
      "cell_type": "code",
      "metadata": {
        "id": "U4wL_8Pu5H8l",
        "colab": {
          "base_uri": "https://localhost:8080/"
        },
        "outputId": "188865bb-8139-4185-9cc1-cc37cf4cf0f5"
      },
      "source": [
        "print('----------------------')\n",
        "print('Media de cada variable')\n",
        "print('----------------------')\n",
        "pd.DataFrame(df_attrition, columns = ['MonthsHired','MonthAtLevel','CompRatio','Age','DaysLastPromotion']).mean(axis=0)"
      ],
      "execution_count": null,
      "outputs": [
        {
          "output_type": "stream",
          "text": [
            "----------------------\n",
            "Media de cada variable\n",
            "----------------------\n"
          ],
          "name": "stdout"
        },
        {
          "output_type": "execute_result",
          "data": {
            "text/plain": [
              "MonthsHired            61.345184\n",
              "MonthAtLevel           36.975868\n",
              "CompRatio               0.956795\n",
              "Age                    29.705583\n",
              "DaysLastPromotion    2505.474532\n",
              "dtype: float64"
            ]
          },
          "metadata": {
            "tags": []
          },
          "execution_count": 11
        }
      ]
    },
    {
      "cell_type": "code",
      "metadata": {
        "id": "DH8oGQvM5QGN",
        "colab": {
          "base_uri": "https://localhost:8080/"
        },
        "outputId": "e3e37b8d-fe4d-4e8e-a000-3b257eab957a"
      },
      "source": [
        "print('-------------------------')\n",
        "print('Varianza de cada variable')\n",
        "print('-------------------------')\n",
        "pd.DataFrame(df_attrition, columns = ['MonthsHired','MonthAtLevel','CompRatio','Age','DaysLastPromotion']).var(axis=0)"
      ],
      "execution_count": null,
      "outputs": [
        {
          "output_type": "stream",
          "text": [
            "-------------------------\n",
            "Varianza de cada variable\n",
            "-------------------------\n"
          ],
          "name": "stdout"
        },
        {
          "output_type": "execute_result",
          "data": {
            "text/plain": [
              "MonthsHired             650.836659\n",
              "MonthAtLevel            501.147305\n",
              "CompRatio                 0.006208\n",
              "Age                      20.927154\n",
              "DaysLastPromotion    175310.161380\n",
              "dtype: float64"
            ]
          },
          "metadata": {
            "tags": []
          },
          "execution_count": 12
        }
      ]
    },
    {
      "cell_type": "markdown",
      "metadata": {
        "id": "r2Ut8GEh_Gql"
      },
      "source": [
        "# **Segundo EDA**"
      ]
    },
    {
      "cell_type": "code",
      "metadata": {
        "id": "HXj0k_U95ZtE"
      },
      "source": [
        "# Analizamos el comportamiento de algunas variables, como edad, sexo, y antiguedad\n",
        "# También analizamos la variable Monthhired\n",
        "# en los grupos que se quedan vs los grupos que se van"
      ],
      "execution_count": null,
      "outputs": []
    },
    {
      "cell_type": "code",
      "metadata": {
        "id": "KfQI9HKx5cp7",
        "colab": {
          "base_uri": "https://localhost:8080/"
        },
        "outputId": "d295ddd1-899b-4c56-8993-fe23a2f23e50"
      },
      "source": [
        "# Empezamos con edad\n",
        "sns.displot(df_attrition, x=\"Age\", hue=\"Onboard_or_Exit_bin\", stat=\"density\", common_norm=False, multiple=\"dodge\")\n"
      ],
      "execution_count": null,
      "outputs": [
        {
          "output_type": "execute_result",
          "data": {
            "text/plain": [
              "<seaborn.axisgrid.FacetGrid at 0x7f7e561d6710>"
            ]
          },
          "metadata": {
            "tags": []
          },
          "execution_count": 25
        },
        {
          "output_type": "display_data",
          "data": {
            "image/png": "[encoded data removed]",
            "text/plain": [
              "<Figure size 470.375x360 with 1 Axes>"
            ]
          },
          "metadata": {
            "tags": [],
            "needs_background": "light"
          }
        }
      ]
    },
    {
      "cell_type": "code",
      "metadata": {
        "id": "ciDO7rtjG6hu",
        "colab": {
          "base_uri": "https://localhost:8080/"
        },
        "outputId": "f46a58fb-5ac1-419c-9837-6400d87bc244"
      },
      "source": [
        "# Seguimos con el sexo\n",
        "ax = sns.displot(df_attrition, x=\"Gender\", hue=\"Onboard_or_Exit_bin\", stat=\"density\", common_norm=False, multiple=\"dodge\")"
      ],
      "execution_count": null,
      "outputs": [
        {
          "output_type": "display_data",
          "data": {
            "image/png": "[encoded data removed]",
            "text/plain": [
              "<Figure size 470.375x360 with 1 Axes>"
            ]
          },
          "metadata": {
            "tags": [],
            "needs_background": "light"
          }
        }
      ]
    },
    {
      "cell_type": "code",
      "metadata": {
        "id": "1tCSHjwCHPVC"
      },
      "source": [
        "# Como se ve, ambas variables tienen aproximadamente la misma distribución para ambas clases (los que se va y lo que se quedan)"
      ],
      "execution_count": null,
      "outputs": []
    },
    {
      "cell_type": "code",
      "metadata": {
        "id": "6j_B1SDOTsqZ",
        "colab": {
          "base_uri": "https://localhost:8080/"
        },
        "outputId": "d8cf6e57-e582-4a28-8986-4809bc45f0f2"
      },
      "source": [
        "# Verificamos con compRatio\n",
        "\n",
        "ax = sns.displot(df_attrition, x=\"CompRatio\", hue=\"Onboard_or_Exit_bin\", stat=\"density\", common_norm=False, multiple=\"dodge\")"
      ],
      "execution_count": null,
      "outputs": [
        {
          "output_type": "display_data",
          "data": {
            "image/png": "[encoded data removed]",
            "text/plain": [
              "<Figure size 470.375x360 with 1 Axes>"
            ]
          },
          "metadata": {
            "tags": [],
            "needs_background": "light"
          }
        }
      ]
    },
    {
      "cell_type": "code",
      "metadata": {
        "id": "fwqPE3gJW0fw",
        "colab": {
          "base_uri": "https://localhost:8080/"
        },
        "outputId": "fd91a33e-6104-42e4-8bad-792f48f6fed1"
      },
      "source": [
        "# Verificamos con RequestLocationChange\n",
        "\n",
        "ax = sns.displot(df_attrition, x=\"RequestLocationChange\", hue=\"Onboard_or_Exit_bin\", stat=\"density\", common_norm=False, multiple=\"dodge\")"
      ],
      "execution_count": null,
      "outputs": [
        {
          "output_type": "display_data",
          "data": {
            "image/png": "[encoded data removed]",
            "text/plain": [
              "<Figure size 470.375x360 with 1 Axes>"
            ]
          },
          "metadata": {
            "tags": [],
            "needs_background": "light"
          }
        }
      ]
    },
    {
      "cell_type": "markdown",
      "metadata": {
        "id": "iqDFdmGv-2G0"
      },
      "source": [
        "# **Analisis de dependencia entre variables**"
      ]
    },
    {
      "cell_type": "markdown",
      "metadata": {
        "id": "P_tLA8xC-_16"
      },
      "source": [
        "## Variables Cuantitativas (punto bi-serial)"
      ]
    },
    {
      "cell_type": "code",
      "metadata": {
        "id": "8oUyn6n55Qtr",
        "colab": {
          "base_uri": "https://localhost:8080/"
        },
        "outputId": "aec0457d-f79c-4f6c-ffa6-e730bfdf31f8"
      },
      "source": [
        "# -------------------------\n",
        "# Analisis bi-variado\n",
        "# Variables cuanlitativas\n",
        "# -------------------------\n",
        "\n",
        "# Calculamos la correlación punto-biserial para cada una de las columnas cuantitativas versus la columna de resultado\n",
        "# Para eso previamente convertimos la columna Onboard_or_exit en binaria (0 o 1)\n",
        "# Se utiliza una hipótesis de independencia\n",
        "# H0 = Sí hay independencia entre las variables (p>0,05) \n",
        "# H1 = No hay independencia entre las variables (p<0,05), o bien las variables son dependientes.\n",
        "fig = plt.subplots(figsize = (8,8))\n",
        "\n",
        "def p_value_calc(column1, column2):\n",
        "    correlation, p_value = pointbiserialr(df_attrition[column2].values, df_attrition[column1].values)\n",
        "    return p_value\n",
        "\n",
        "# Generamos un vector con los nombres de las columnas\n",
        "columnas_numericas = ['MonthsHired','MonthAtLevel','CompRatio', 'Age','DaysLastPromotion']\n",
        "\n",
        "cant_columnas_numericas = len(columnas_numericas)\n",
        "\n",
        "# Generamos un vector para cada una de las variables\n",
        "m_values= np.ones((1,cant_columnas_numericas)) # Vector de unos\n",
        "\n",
        "# Llenamos la matriz con las frecuencias\n",
        "for c in range(0,cant_columnas_numericas):\n",
        "    columna = columnas_numericas[c]\n",
        "    m_values[0,c] = round(p_value_calc(columna, 'Onboard_or_Exit_bin'),2)\n",
        "\n",
        "sns.heatmap(m_values, annot=True, xticklabels = columnas_numericas, cmap = sns.diverging_palette(20, 220, n=200))\n",
        "        \n",
        "# Mostramos las frecuencias de todas las columnas\n",
        "for f in range(0,cant_columnas_numericas):\n",
        "    column = columnas_numericas[f]\n",
        "    #print(df_attrition[column].values)\n",
        "    p_value = p_value_calc(column, 'Onboard_or_Exit_bin')\n",
        "    if (p_value > 0.05):\n",
        "        resultado_p_value = 'independiente de Onboard_or_exit'\n",
        "    else:\n",
        "        resultado_p_value = 'DEPENDIENTE de Onboard_or_exi'\n",
        "\n",
        "    print('p_value para variable [', f , '-', column, '] es:', p_value, ' y es ', resultado_p_value)\n",
        "\n",
        "    \n",
        "# Se observa que todas las variables categóricas excepto ['RequesLocationChange'] y ['PromotionOutcome'] dependientes\n",
        "# de la variable objetivo ['OnBoard_or_exit']"
      ],
      "execution_count": null,
      "outputs": [
        {
          "output_type": "stream",
          "text": [
            "p_value para variable [ 0 - MonthsHired ] es: 0.014667745235732377  y es  DEPENDIENTE de Onboard_or_exi\n",
            "p_value para variable [ 1 - MonthAtLevel ] es: 1.5449045193001009e-28  y es  DEPENDIENTE de Onboard_or_exi\n",
            "p_value para variable [ 2 - CompRatio ] es: 0.1557476190966168  y es  independiente de Onboard_or_exit\n",
            "p_value para variable [ 3 - Age ] es: 2.9859378760591845e-32  y es  DEPENDIENTE de Onboard_or_exi\n",
            "p_value para variable [ 4 - DaysLastPromotion ] es: 6.441338165638432e-126  y es  DEPENDIENTE de Onboard_or_exi\n"
          ],
          "name": "stdout"
        },
        {
          "output_type": "display_data",
          "data": {
            "image/png": "[encoded data removed]",
            "text/plain": [
              "<Figure size 576x576 with 2 Axes>"
            ]
          },
          "metadata": {
            "tags": [],
            "needs_background": "light"
          }
        }
      ]
    },
    {
      "cell_type": "markdown",
      "metadata": {
        "id": "dWGcyQnz-5xb"
      },
      "source": [
        "## Variables Cualitativas (chi cuadrado)"
      ]
    },
    {
      "cell_type": "code",
      "metadata": {
        "id": "4SGHKP7o5Qfj",
        "colab": {
          "base_uri": "https://localhost:8080/"
        },
        "outputId": "f6b407ad-a781-4dbf-b08e-402a33b30fbe"
      },
      "source": [
        "# -------------------------\n",
        "# Analisis bi-variado\n",
        "# Variables cualitativas\n",
        "# -------------------------\n",
        "\n",
        "# Realizamos un análisis bi-variado chi-cuadrado contra la variable objetivo\n",
        "\n",
        "# La prueba de chi-cuadrado de Pearson contrasta si las diferencias observadas entre los dos grupos son atribuibles al azar. \n",
        "# H0 = Sí hay independencia entre las variables (p>0,05) \n",
        "# H1 = No hay independencia entre las variables (p<0,05), o bien las variables son dependientes.\n",
        "fig = plt.subplots(figsize = (10,10))\n",
        "\n",
        "def chi_scuare(column1, column2):\n",
        "    contigency_gender= pd.crosstab(df_attrition[column1], df_attrition[column2]) \n",
        "    c, p, dof, expected = chi2_contingency(contigency_gender)\n",
        "    return p\n",
        "\n",
        "# Generamos un vector con los nombres de las columnas\n",
        "columnas_categoricas = ['Onboard_or_Exit_bin','Location','Capability','JobLevel','PerformanceRating','ProficiencyLevel','PromotionEligibility','CareerLevel','Gender','EducationalQualification_','RequestLocationChange','DaysLastPromotion']\n",
        "\n",
        "cant_columnas_categoricas = len(columnas_categoricas)\n",
        "\n",
        "# Generamos una matriz cuadrada de (13+1) x (13+1) para cada una de las variables + la variable objetivo Onboard_or_Exit\n",
        "m_values= np.ones((cant_columnas_categoricas, cant_columnas_categoricas)) # Matriz de unos\n",
        "\n",
        "# Llenamos la matriz con las frecuencias\n",
        "for f in range(0,cant_columnas_categoricas):\n",
        "    for c in range(0,cant_columnas_categoricas):\n",
        "        fila = columnas_categoricas[f]\n",
        "        columna = columnas_categoricas[c]\n",
        "        m_values[f,c] = round(chi_scuare(fila, columna),2)\n",
        "      \n",
        "sns.heatmap(m_values, annot=True, xticklabels = columnas_categoricas, yticklabels = columnas_categoricas, cmap = sns.diverging_palette(20, 220, n=200))\n",
        "\n",
        "for f in range(1,cant_columnas_categoricas):\n",
        "    column = columnas_categoricas[f]\n",
        "    p_value = chi_scuare(column, 'Onboard_or_Exit_bin')\n",
        "    if (p_value > 0.05):\n",
        "        resultado_p_value = 'independiente de Onboard_or_exit'\n",
        "    else:\n",
        "        resultado_p_value = 'DEPENDIENTE de Onboard_or_exi'\n",
        "\n",
        "    print('p (chi-cuadrado) para variable [', f , '-', column, '] es:', p_value, ' y es ', resultado_p_value)\n",
        "\n",
        "\n",
        "# Se observa que todas las variables categóricas excepto ['RequesLocationChange'] y ['PromotionOutcome'] dependientes\n",
        "# de la variable objetivo ['OnBoard_or_exit']"
      ],
      "execution_count": null,
      "outputs": [
        {
          "output_type": "stream",
          "text": [
            "p (chi-cuadrado) para variable [ 1 - Location ] es: 0.00980981573097441  y es  DEPENDIENTE de Onboard_or_exi\n",
            "p (chi-cuadrado) para variable [ 2 - Capability ] es: 6.139699045321579e-12  y es  DEPENDIENTE de Onboard_or_exi\n",
            "p (chi-cuadrado) para variable [ 3 - JobLevel ] es: 3.09457650219644e-61  y es  DEPENDIENTE de Onboard_or_exi\n",
            "p (chi-cuadrado) para variable [ 4 - PerformanceRating ] es: 0.023345323620421302  y es  DEPENDIENTE de Onboard_or_exi\n",
            "p (chi-cuadrado) para variable [ 5 - ProficiencyLevel ] es: 0.0  y es  DEPENDIENTE de Onboard_or_exi\n",
            "p (chi-cuadrado) para variable [ 6 - PromotionEligibility ] es: 5.6758877292079876e-12  y es  DEPENDIENTE de Onboard_or_exi\n",
            "p (chi-cuadrado) para variable [ 7 - CareerLevel ] es: 3.09457650219644e-61  y es  DEPENDIENTE de Onboard_or_exi\n",
            "p (chi-cuadrado) para variable [ 8 - Gender ] es: 1.59300309458372e-06  y es  DEPENDIENTE de Onboard_or_exi\n",
            "p (chi-cuadrado) para variable [ 9 - EducationalQualification_ ] es: 1.9119920329010783e-12  y es  DEPENDIENTE de Onboard_or_exi\n",
            "p (chi-cuadrado) para variable [ 10 - RequestLocationChange ] es: 0.8143414941947599  y es  independiente de Onboard_or_exit\n",
            "p (chi-cuadrado) para variable [ 11 - DaysLastPromotion ] es: 2.033727597197764e-178  y es  DEPENDIENTE de Onboard_or_exi\n"
          ],
          "name": "stdout"
        },
        {
          "output_type": "display_data",
          "data": {
            "image/png": "[encoded data removed]",
            "text/plain": [
              "<Figure size 720x720 with 2 Axes>"
            ]
          },
          "metadata": {
            "tags": [],
            "needs_background": "light"
          }
        }
      ]
    },
    {
      "cell_type": "markdown",
      "metadata": {
        "id": "ZmEU0Gc8_qLr"
      },
      "source": [
        "# **Modelos**"
      ]
    },
    {
      "cell_type": "markdown",
      "metadata": {
        "id": "OQmu00K5_uRo"
      },
      "source": [
        "## One Hot Encoding"
      ]
    },
    {
      "cell_type": "code",
      "metadata": {
        "id": "ytqbf_S-a4iH"
      },
      "source": [
        "# Comenzamos a armar el modelo. Como el modelo está tan desbalanceado aplicamos muestreo"
      ],
      "execution_count": null,
      "outputs": []
    },
    {
      "cell_type": "code",
      "metadata": {
        "id": "Mu1U2EbY580f"
      },
      "source": [
        "#antes agreamos una analisis de correlacione tnre variables:"
      ],
      "execution_count": null,
      "outputs": []
    },
    {
      "cell_type": "code",
      "metadata": {
        "id": "3Ysa9KH85_mW"
      },
      "source": [
        "df2 = df_attrition\n",
        "# convertimos toas las variables a numericas \n",
        "from sklearn import preprocessing\n",
        "# TODO: create a LabelEncoder object and fit it to each feature in X\n",
        "\n",
        "\n",
        "# 1. INSTANTIATE\n",
        "# encode labels with value between 0 and n_classes-1.\n",
        "le = preprocessing.LabelEncoder()\n",
        "\n",
        "\n",
        "# 2/3. FIT AND TRANSFORM\n",
        "# use df.apply() to apply le.fit_transform to all columns\n",
        "df2 = df_attrition.apply(le.fit_transform)\n",
        "#df2.head()"
      ],
      "execution_count": null,
      "outputs": []
    },
    {
      "cell_type": "markdown",
      "metadata": {
        "id": "QZZDBJd3_zKM"
      },
      "source": [
        "## Correlacion entre variables"
      ]
    },
    {
      "cell_type": "code",
      "metadata": {
        "colab": {
          "base_uri": "https://localhost:8080/"
        },
        "id": "vkeqaWwY6Gvi",
        "outputId": "c61ef0a3-41b6-4ddb-8aed-690325d1bf8e"
      },
      "source": [
        "corr_matrix = df2.corr(method='pearson')\n",
        "\n",
        "# Heatmap matriz de correlaciones\n",
        "# ==============================================================================\n",
        "fig, ax = plt.subplots(nrows=1, ncols=1, figsize=(10, 10))\n",
        "\n",
        "sns.heatmap(\n",
        "    corr_matrix,\n",
        "    annot     = True,\n",
        "    cbar      = False,\n",
        "    annot_kws = {\"size\": 8},\n",
        "    vmin      = -1,\n",
        "    vmax      = 1,\n",
        "    center    = 0,\n",
        "    cmap      = sns.diverging_palette(20, 220, n=200),\n",
        "    square    = True,\n",
        "    ax        = ax\n",
        ")\n",
        "\n",
        "ax.set_xticklabels(\n",
        "    ax.get_xticklabels(),\n",
        "    rotation = 45,\n",
        "    horizontalalignment = 'right',\n",
        ")\n",
        "\n",
        "ax.tick_params(labelsize = 10)"
      ],
      "execution_count": null,
      "outputs": [
        {
          "output_type": "display_data",
          "data": {
            "image/png": "[encoded data removed]",
            "text/plain": [
              "<Figure size 720x720 with 1 Axes>"
            ]
          },
          "metadata": {
            "tags": [],
            "needs_background": "light"
          }
        }
      ]
    },
    {
      "cell_type": "code",
      "metadata": {
        "id": "7XxtZ88o6JTV"
      },
      "source": [
        "df2.drop(\n",
        "    labels = (['CareerLevel', 'MonthAtLevel']),\n",
        "    axis = 1,\n",
        "    inplace = True\n",
        ")"
      ],
      "execution_count": null,
      "outputs": []
    },
    {
      "cell_type": "code",
      "metadata": {
        "id": "T71j54F3DSzg"
      },
      "source": [
        "X = df2.drop(columns = ['Onboard_or_Exit_bin' ], inplace=False)\n",
        "y = np.asarray(df2['Onboard_or_Exit_bin'])"
      ],
      "execution_count": null,
      "outputs": []
    },
    {
      "cell_type": "markdown",
      "metadata": {
        "id": "tXSzMXqx_3KW"
      },
      "source": [
        "## División de Entrenamiento/test"
      ]
    },
    {
      "cell_type": "code",
      "metadata": {
        "id": "dkUVQ0-YFXpn"
      },
      "source": [
        "# División de los datos en train y test\n",
        "# ------------------------------------------------------------------------------\n",
        "X_train, X_test, y_train, y_test = train_test_split(\n",
        "                                        X,\n",
        "                                        y,\n",
        "                                        random_state = 123\n",
        "                                    )"
      ],
      "execution_count": null,
      "outputs": []
    },
    {
      "cell_type": "code",
      "metadata": {
        "id": "8N3BhefWtGv0"
      },
      "source": [
        "# Se identifica el nombre de las columnas numéricas\n",
        "#cat_cols = X_train.select_dtypes(include=['object', 'category']).columns.to_list()\n",
        "numeric_cols = X_train.select_dtypes(include=['float64', 'int', 'int64']).columns.to_list()"
      ],
      "execution_count": null,
      "outputs": []
    },
    {
      "cell_type": "code",
      "metadata": {
        "id": "tfDf7rhJa5LB"
      },
      "source": [
        "# Convertir el output del ColumnTransformer en dataframe y añadir el nombre de las columnas\n",
        "# ------------------------------------------------------------------------------\n",
        "# Nombre de todas las columnas\n",
        "#encoded_cat = preprocessor.named_transformers_['onehot'].get_feature_names(cat_cols)\n",
        "#labels = np.concatenate([numeric_cols, encoded_cat])\n",
        "\n"
      ],
      "execution_count": null,
      "outputs": []
    },
    {
      "cell_type": "code",
      "metadata": {
        "id": "Vze2xZtBSJPt"
      },
      "source": [
        "# Conversión a dataframe\n",
        "#X_train_prep = pd.DataFrame(X_train_prep.toarray(), columns=labels)\n",
        "#X_test_prep  = pd.DataFrame(X_test_prep.toarray(), columns=labels)\n",
        "#X_train_prep.info()"
      ],
      "execution_count": null,
      "outputs": []
    },
    {
      "cell_type": "markdown",
      "metadata": {
        "id": "VcRVGU1RuBc4"
      },
      "source": [
        "## Escalado de variables"
      ]
    },
    {
      "cell_type": "code",
      "metadata": {
        "id": "mUQNrvAiuA9_"
      },
      "source": [
        "from sklearn.preprocessing import scale\n",
        "cat_cols = df2.select_dtypes(include=['object', 'category']).columns.to_list()\n",
        "numeric_cols = df2.select_dtypes(include=['float64', 'int', 'int64']).columns.to_list()\n",
        "labels = np.concatenate([numeric_cols, cat_cols])\n",
        "df2 = pd.DataFrame(scale(df2), columns = labels )"
      ],
      "execution_count": null,
      "outputs": []
    },
    {
      "cell_type": "code",
      "metadata": {
        "id": "DRZ5sx-6uIu5",
        "colab": {
          "base_uri": "https://localhost:8080/"
        },
        "outputId": "5baf9990-85e3-47b0-ef0d-bf006a5ae79c"
      },
      "source": [
        "df2.head()"
      ],
      "execution_count": null,
      "outputs": [
        {
          "output_type": "execute_result",
          "data": {
            "text/html": [
              "<div>\n",
              "<style scoped>\n",
              "    .dataframe tbody tr th:only-of-type {\n",
              "        vertical-align: middle;\n",
              "    }\n",
              "\n",
              "    .dataframe tbody tr th {\n",
              "        vertical-align: top;\n",
              "    }\n",
              "\n",
              "    .dataframe thead th {\n",
              "        text-align: right;\n",
              "    }\n",
              "</style>\n",
              "<table border=\"1\" class=\"dataframe\">\n",
              "  <thead>\n",
              "    <tr style=\"text-align: right;\">\n",
              "      <th></th>\n",
              "      <th>Location</th>\n",
              "      <th>Capability</th>\n",
              "      <th>JobLevel</th>\n",
              "      <th>PerformanceRating</th>\n",
              "      <th>ProficiencyLevel</th>\n",
              "      <th>PromotionEligibility</th>\n",
              "      <th>MonthsHired</th>\n",
              "      <th>CompRatio</th>\n",
              "      <th>Gender</th>\n",
              "      <th>Age</th>\n",
              "      <th>EducationalQualification_</th>\n",
              "      <th>RequestLocationChange</th>\n",
              "      <th>DaysLastPromotion</th>\n",
              "      <th>Onboard_or_Exit_bin</th>\n",
              "    </tr>\n",
              "  </thead>\n",
              "  <tbody>\n",
              "    <tr>\n",
              "      <th>0</th>\n",
              "      <td>0.055195</td>\n",
              "      <td>0.659154</td>\n",
              "      <td>0.56116</td>\n",
              "      <td>-0.438133</td>\n",
              "      <td>-0.258798</td>\n",
              "      <td>-0.586503</td>\n",
              "      <td>0.417670</td>\n",
              "      <td>-0.086193</td>\n",
              "      <td>0.582471</td>\n",
              "      <td>-0.591467</td>\n",
              "      <td>0.961385</td>\n",
              "      <td>-0.530297</td>\n",
              "      <td>0.979103</td>\n",
              "      <td>-0.228276</td>\n",
              "    </tr>\n",
              "    <tr>\n",
              "      <th>1</th>\n",
              "      <td>-0.862912</td>\n",
              "      <td>-0.083000</td>\n",
              "      <td>-0.44685</td>\n",
              "      <td>-0.438133</td>\n",
              "      <td>-1.012531</td>\n",
              "      <td>-0.586503</td>\n",
              "      <td>-0.091923</td>\n",
              "      <td>-0.086193</td>\n",
              "      <td>0.582471</td>\n",
              "      <td>-0.591467</td>\n",
              "      <td>0.961385</td>\n",
              "      <td>-0.530297</td>\n",
              "      <td>-0.754390</td>\n",
              "      <td>-0.228276</td>\n",
              "    </tr>\n",
              "    <tr>\n",
              "      <th>2</th>\n",
              "      <td>1.891408</td>\n",
              "      <td>0.659154</td>\n",
              "      <td>-0.44685</td>\n",
              "      <td>-0.438133</td>\n",
              "      <td>-1.766264</td>\n",
              "      <td>1.999288</td>\n",
              "      <td>-0.679915</td>\n",
              "      <td>-0.086193</td>\n",
              "      <td>-1.716824</td>\n",
              "      <td>-1.028696</td>\n",
              "      <td>-0.207232</td>\n",
              "      <td>1.885735</td>\n",
              "      <td>0.312375</td>\n",
              "      <td>-0.228276</td>\n",
              "    </tr>\n",
              "    <tr>\n",
              "      <th>3</th>\n",
              "      <td>1.891408</td>\n",
              "      <td>0.659154</td>\n",
              "      <td>-0.44685</td>\n",
              "      <td>-0.438133</td>\n",
              "      <td>-1.012531</td>\n",
              "      <td>1.999288</td>\n",
              "      <td>-0.679915</td>\n",
              "      <td>-0.086193</td>\n",
              "      <td>0.582471</td>\n",
              "      <td>-0.591467</td>\n",
              "      <td>-1.375849</td>\n",
              "      <td>-0.530297</td>\n",
              "      <td>-1.021081</td>\n",
              "      <td>-0.228276</td>\n",
              "    </tr>\n",
              "    <tr>\n",
              "      <th>4</th>\n",
              "      <td>-0.862912</td>\n",
              "      <td>-1.814691</td>\n",
              "      <td>0.56116</td>\n",
              "      <td>-0.438133</td>\n",
              "      <td>-0.258798</td>\n",
              "      <td>-0.586503</td>\n",
              "      <td>1.123260</td>\n",
              "      <td>-0.086193</td>\n",
              "      <td>-1.716824</td>\n",
              "      <td>0.282991</td>\n",
              "      <td>-1.375849</td>\n",
              "      <td>-0.530297</td>\n",
              "      <td>0.979103</td>\n",
              "      <td>-0.228276</td>\n",
              "    </tr>\n",
              "  </tbody>\n",
              "</table>\n",
              "</div>"
            ],
            "text/plain": [
              "   Location  Capability  ...  DaysLastPromotion  Onboard_or_Exit_bin\n",
              "0  0.055195    0.659154  ...           0.979103            -0.228276\n",
              "1 -0.862912   -0.083000  ...          -0.754390            -0.228276\n",
              "2  1.891408    0.659154  ...           0.312375            -0.228276\n",
              "3  1.891408    0.659154  ...          -1.021081            -0.228276\n",
              "4 -0.862912   -1.814691  ...           0.979103            -0.228276\n",
              "\n",
              "[5 rows x 14 columns]"
            ]
          },
          "metadata": {
            "tags": []
          },
          "execution_count": 43
        }
      ]
    },
    {
      "cell_type": "code",
      "metadata": {
        "id": "oWxc0Cg9uSTw",
        "colab": {
          "base_uri": "https://localhost:8080/"
        },
        "outputId": "4ecb83e4-d411-40b6-bd59-25e3d5d4fe7c"
      },
      "source": [
        "df2.tail()"
      ],
      "execution_count": null,
      "outputs": [
        {
          "output_type": "execute_result",
          "data": {
            "text/html": [
              "<div>\n",
              "<style scoped>\n",
              "    .dataframe tbody tr th:only-of-type {\n",
              "        vertical-align: middle;\n",
              "    }\n",
              "\n",
              "    .dataframe tbody tr th {\n",
              "        vertical-align: top;\n",
              "    }\n",
              "\n",
              "    .dataframe thead th {\n",
              "        text-align: right;\n",
              "    }\n",
              "</style>\n",
              "<table border=\"1\" class=\"dataframe\">\n",
              "  <thead>\n",
              "    <tr style=\"text-align: right;\">\n",
              "      <th></th>\n",
              "      <th>Location</th>\n",
              "      <th>Capability</th>\n",
              "      <th>JobLevel</th>\n",
              "      <th>PerformanceRating</th>\n",
              "      <th>ProficiencyLevel</th>\n",
              "      <th>PromotionEligibility</th>\n",
              "      <th>MonthsHired</th>\n",
              "      <th>CompRatio</th>\n",
              "      <th>Gender</th>\n",
              "      <th>Age</th>\n",
              "      <th>EducationalQualification_</th>\n",
              "      <th>RequestLocationChange</th>\n",
              "      <th>DaysLastPromotion</th>\n",
              "      <th>Onboard_or_Exit_bin</th>\n",
              "    </tr>\n",
              "  </thead>\n",
              "  <tbody>\n",
              "    <tr>\n",
              "      <th>35550</th>\n",
              "      <td>-0.862912</td>\n",
              "      <td>0.659154</td>\n",
              "      <td>-1.958865</td>\n",
              "      <td>-0.438133</td>\n",
              "      <td>1.248668</td>\n",
              "      <td>0.706392</td>\n",
              "      <td>-0.013524</td>\n",
              "      <td>2.203663</td>\n",
              "      <td>0.582471</td>\n",
              "      <td>0.501605</td>\n",
              "      <td>-0.207232</td>\n",
              "      <td>-0.530297</td>\n",
              "      <td>-0.354353</td>\n",
              "      <td>4.380666</td>\n",
              "    </tr>\n",
              "    <tr>\n",
              "      <th>35551</th>\n",
              "      <td>-0.862912</td>\n",
              "      <td>0.659154</td>\n",
              "      <td>1.065165</td>\n",
              "      <td>-0.438133</td>\n",
              "      <td>1.248668</td>\n",
              "      <td>0.706392</td>\n",
              "      <td>-0.601516</td>\n",
              "      <td>-0.467836</td>\n",
              "      <td>0.582471</td>\n",
              "      <td>1.157448</td>\n",
              "      <td>-0.207232</td>\n",
              "      <td>-0.530297</td>\n",
              "      <td>0.979103</td>\n",
              "      <td>4.380666</td>\n",
              "    </tr>\n",
              "    <tr>\n",
              "      <th>35552</th>\n",
              "      <td>1.891408</td>\n",
              "      <td>0.659154</td>\n",
              "      <td>-1.958865</td>\n",
              "      <td>-0.438133</td>\n",
              "      <td>1.248668</td>\n",
              "      <td>-0.586503</td>\n",
              "      <td>-0.640716</td>\n",
              "      <td>-1.231121</td>\n",
              "      <td>0.582471</td>\n",
              "      <td>0.720219</td>\n",
              "      <td>-0.207232</td>\n",
              "      <td>1.885735</td>\n",
              "      <td>-0.754390</td>\n",
              "      <td>4.380666</td>\n",
              "    </tr>\n",
              "    <tr>\n",
              "      <th>35553</th>\n",
              "      <td>-0.862912</td>\n",
              "      <td>0.659154</td>\n",
              "      <td>0.561160</td>\n",
              "      <td>-0.438133</td>\n",
              "      <td>-0.258798</td>\n",
              "      <td>-0.586503</td>\n",
              "      <td>-0.562317</td>\n",
              "      <td>0.804307</td>\n",
              "      <td>0.582471</td>\n",
              "      <td>-0.372853</td>\n",
              "      <td>-1.375849</td>\n",
              "      <td>1.885735</td>\n",
              "      <td>-0.754390</td>\n",
              "      <td>4.380666</td>\n",
              "    </tr>\n",
              "    <tr>\n",
              "      <th>35554</th>\n",
              "      <td>-0.862912</td>\n",
              "      <td>-0.083000</td>\n",
              "      <td>0.561160</td>\n",
              "      <td>-0.438133</td>\n",
              "      <td>-0.258798</td>\n",
              "      <td>-0.586503</td>\n",
              "      <td>-0.719115</td>\n",
              "      <td>-1.103907</td>\n",
              "      <td>0.582471</td>\n",
              "      <td>-0.591467</td>\n",
              "      <td>0.961385</td>\n",
              "      <td>-0.530297</td>\n",
              "      <td>-0.754390</td>\n",
              "      <td>4.380666</td>\n",
              "    </tr>\n",
              "  </tbody>\n",
              "</table>\n",
              "</div>"
            ],
            "text/plain": [
              "       Location  Capability  ...  DaysLastPromotion  Onboard_or_Exit_bin\n",
              "35550 -0.862912    0.659154  ...          -0.354353             4.380666\n",
              "35551 -0.862912    0.659154  ...           0.979103             4.380666\n",
              "35552  1.891408    0.659154  ...          -0.754390             4.380666\n",
              "35553 -0.862912    0.659154  ...          -0.754390             4.380666\n",
              "35554 -0.862912   -0.083000  ...          -0.754390             4.380666\n",
              "\n",
              "[5 rows x 14 columns]"
            ]
          },
          "metadata": {
            "tags": []
          },
          "execution_count": 44
        }
      ]
    },
    {
      "cell_type": "markdown",
      "metadata": {
        "id": "L-qDWRbY_-jP"
      },
      "source": [
        "## Modelo de arbol (gini)"
      ]
    },
    {
      "cell_type": "code",
      "metadata": {
        "id": "kdg4f1iAAfH5"
      },
      "source": [
        "# Creación del modelo de Arbol\n",
        "# ------------------------------------------------------------------------------\n",
        "model_tree = DecisionTreeClassifier(\n",
        "            max_depth         = 5,\n",
        "            criterion         = 'gini',\n",
        "            random_state      = 123\n",
        "          )\n",
        "\n",
        "# Entrenamiento del modelo\n",
        "# ------------------------------------------------------------------------------\n",
        "model_tree.fit(X_train, y_train)"
      ],
      "execution_count": null,
      "outputs": []
    },
    {
      "cell_type": "code",
      "metadata": {
        "id": "SFveetSPa5eZ"
      },
      "source": [
        "# Estructura del árbol creado\n",
        "# ------------------------------------------------------------------------------\n",
        "fig, ax = plt.subplots(figsize=(20, 8))\n",
        "\n",
        "print(f\"Profundidad del árbol: {model_tree.get_depth()}\")\n",
        "print(f\"Número de nodos terminales: {model_tree.get_n_leaves()}\")\n",
        "\n",
        "plot = plot_tree(\n",
        "            decision_tree = model_tree,\n",
        "            feature_names = labels.tolist(),\n",
        "            class_names   = 'attrition',\n",
        "            filled        = True,\n",
        "            impurity      = False,\n",
        "            fontsize      = 7,\n",
        "            ax            = ax\n",
        "       )\n"
      ],
      "execution_count": null,
      "outputs": []
    },
    {
      "cell_type": "code",
      "metadata": {
        "id": "MVrFsnykW3yW"
      },
      "source": [
        "import graphviz \n",
        "\n",
        "df2_feat = (['Location', 'Capability', 'JobLevel', 'PerformanceRating',\n",
        "       'ProficiencyLevel', 'PromotionEligibility', 'MonthsHired', 'CompRatio',\n",
        "       'Gender', 'Age', 'EducationalQualification_', 'RequestLocationChange',\n",
        "       'DaysLastPromotion'])\n",
        "df2_target = (['Onboard', 'Exit'])\n",
        "\n",
        "model_tree = DecisionTreeClassifier(\n",
        "            max_depth         = 5,\n",
        "            criterion         = 'gini',\n",
        "            random_state      = 123\n",
        "          )\n",
        "model_tree.fit(X_train, y_train)\n",
        "\n",
        "#dot_data = tree.export_graphviz(model_tree, out_file=None) \n",
        "#graph = graphviz.Source(dot_data) \n",
        "#graph.render(\"att\") \n",
        "\n",
        "dot_data = tree.export_graphviz(model_tree, out_file=None, \n",
        "                      feature_names=df2_feat,  \n",
        "                      class_names=df2_target,\n",
        "                      label='all',\n",
        "                      leaves_parallel = True,\n",
        "                      proportion = True,  \n",
        "                      filled = True, \n",
        "                      rounded = True,  \n",
        "                      special_characters = True)  \n",
        "graph = graphviz.Source(dot_data)  \n",
        "graph.render(\"attrition\")\n",
        "files.download('attrition.pdf')"
      ],
      "execution_count": null,
      "outputs": []
    },
    {
      "cell_type": "markdown",
      "metadata": {
        "id": "2J1jVKmFADvi"
      },
      "source": [
        "## Modelo de Arbol (Ensemble)"
      ]
    },
    {
      "cell_type": "code",
      "metadata": {
        "id": "H_8o-VtoYaZ-",
        "colab": {
          "base_uri": "https://localhost:8080/"
        },
        "outputId": "dda9e60f-f342-414a-dcc2-6d53fe225bc7"
      },
      "source": [
        "# Creación del modelo de Arbol utilizando Ensemble (BaggingClassifier)\n",
        "# ------------------------------------------------------------------------------\n",
        "model_tree_ensemble = BaggingClassifier(\n",
        "    DecisionTreeClassifier(\n",
        "            max_depth         = 5,\n",
        "            criterion         = 'gini',\n",
        "            random_state      = 123\n",
        "          ),\n",
        "    n_estimators = 10,\n",
        "    random_state = 0\n",
        ")\n",
        "\n",
        "# Entrenamiento del modelo\n",
        "# ------------------------------------------------------------------------------\n",
        "model_tree_ensemble.fit(X_train, y_train)\n"
      ],
      "execution_count": null,
      "outputs": [
        {
          "output_type": "execute_result",
          "data": {
            "text/plain": [
              "BaggingClassifier(base_estimator=DecisionTreeClassifier(ccp_alpha=0.0,\n",
              "                                                        class_weight=None,\n",
              "                                                        criterion='gini',\n",
              "                                                        max_depth=5,\n",
              "                                                        max_features=None,\n",
              "                                                        max_leaf_nodes=None,\n",
              "                                                        min_impurity_decrease=0.0,\n",
              "                                                        min_impurity_split=None,\n",
              "                                                        min_samples_leaf=1,\n",
              "                                                        min_samples_split=2,\n",
              "                                                        min_weight_fraction_leaf=0.0,\n",
              "                                                        presort='deprecated',\n",
              "                                                        random_state=123,\n",
              "                                                        splitter='best'),\n",
              "                  bootstrap=True, bootstrap_features=False, max_features=1.0,\n",
              "                  max_samples=1.0, n_estimators=10, n_jobs=None,\n",
              "                  oob_score=False, random_state=0, verbose=0, warm_start=False)"
            ]
          },
          "metadata": {
            "tags": []
          },
          "execution_count": 99
        }
      ]
    },
    {
      "cell_type": "code",
      "metadata": {
        "colab": {
          "base_uri": "https://localhost:8080/"
        },
        "id": "BD71uwV1tX88",
        "outputId": "7efa7714-610d-4009-ec39-803d38cf9c11"
      },
      "source": [
        "model_tree_ensemble.oob_score"
      ],
      "execution_count": null,
      "outputs": [
        {
          "output_type": "execute_result",
          "data": {
            "text/plain": [
              "False"
            ]
          },
          "metadata": {
            "tags": []
          },
          "execution_count": 112
        }
      ]
    },
    {
      "cell_type": "code",
      "metadata": {
        "colab": {
          "base_uri": "https://localhost:8080/",
          "height": 361
        },
        "id": "Ee6AfdVGi9oU",
        "outputId": "7bb2b5c2-56b2-434f-822d-bd4b6dac3853"
      },
      "source": [
        "dot_data = tree.export_graphviz(model_tree_ensemble, out_file=None, \n",
        "                      feature_names=df2_feat,  \n",
        "                      class_names=df2_target,\n",
        "                      label='all',\n",
        "                      leaves_parallel = True,\n",
        "                      proportion = True,  \n",
        "                      filled = True, \n",
        "                      rounded = True,  \n",
        "                      special_characters = True)  \n",
        "graph = graphviz.Source(dot_data)  \n",
        "graph.render(\"attrition2\")\n",
        "files.download('attrition2.pdf')"
      ],
      "execution_count": null,
      "outputs": [
        {
          "output_type": "error",
          "ename": "AttributeError",
          "evalue": "ignored",
          "traceback": [
            "\u001b[0;31m---------------------------------------------------------------------------\u001b[0m",
            "\u001b[0;31mAttributeError\u001b[0m                            Traceback (most recent call last)",
            "\u001b[0;32m<ipython-input-100-811bf810f723>\u001b[0m in \u001b[0;36m<module>\u001b[0;34m()\u001b[0m\n\u001b[1;32m      7\u001b[0m                       \u001b[0mfilled\u001b[0m \u001b[0;34m=\u001b[0m \u001b[0;32mTrue\u001b[0m\u001b[0;34m,\u001b[0m\u001b[0;34m\u001b[0m\u001b[0;34m\u001b[0m\u001b[0m\n\u001b[1;32m      8\u001b[0m                       \u001b[0mrounded\u001b[0m \u001b[0;34m=\u001b[0m \u001b[0;32mTrue\u001b[0m\u001b[0;34m,\u001b[0m\u001b[0;34m\u001b[0m\u001b[0;34m\u001b[0m\u001b[0m\n\u001b[0;32m----> 9\u001b[0;31m                       special_characters = True)  \n\u001b[0m\u001b[1;32m     10\u001b[0m \u001b[0mgraph\u001b[0m \u001b[0;34m=\u001b[0m \u001b[0mgraphviz\u001b[0m\u001b[0;34m.\u001b[0m\u001b[0mSource\u001b[0m\u001b[0;34m(\u001b[0m\u001b[0mdot_data\u001b[0m\u001b[0;34m)\u001b[0m\u001b[0;34m\u001b[0m\u001b[0;34m\u001b[0m\u001b[0m\n\u001b[1;32m     11\u001b[0m \u001b[0mgraph\u001b[0m\u001b[0;34m.\u001b[0m\u001b[0mrender\u001b[0m\u001b[0;34m(\u001b[0m\u001b[0;34m\"attrition2\"\u001b[0m\u001b[0;34m)\u001b[0m\u001b[0;34m\u001b[0m\u001b[0;34m\u001b[0m\u001b[0m\n",
            "\u001b[0;32m/usr/local/lib/python3.7/dist-packages/sklearn/tree/_export.py\u001b[0m in \u001b[0;36mexport_graphviz\u001b[0;34m(decision_tree, out_file, max_depth, feature_names, class_names, label, filled, leaves_parallel, impurity, node_ids, proportion, rotate, rounded, special_characters, precision)\u001b[0m\n\u001b[1;32m    762\u001b[0m             \u001b[0mrounded\u001b[0m\u001b[0;34m=\u001b[0m\u001b[0mrounded\u001b[0m\u001b[0;34m,\u001b[0m \u001b[0mspecial_characters\u001b[0m\u001b[0;34m=\u001b[0m\u001b[0mspecial_characters\u001b[0m\u001b[0;34m,\u001b[0m\u001b[0;34m\u001b[0m\u001b[0;34m\u001b[0m\u001b[0m\n\u001b[1;32m    763\u001b[0m             precision=precision)\n\u001b[0;32m--> 764\u001b[0;31m         \u001b[0mexporter\u001b[0m\u001b[0;34m.\u001b[0m\u001b[0mexport\u001b[0m\u001b[0;34m(\u001b[0m\u001b[0mdecision_tree\u001b[0m\u001b[0;34m)\u001b[0m\u001b[0;34m\u001b[0m\u001b[0;34m\u001b[0m\u001b[0m\n\u001b[0m\u001b[1;32m    765\u001b[0m \u001b[0;34m\u001b[0m\u001b[0m\n\u001b[1;32m    766\u001b[0m         \u001b[0;32mif\u001b[0m \u001b[0mreturn_string\u001b[0m\u001b[0;34m:\u001b[0m\u001b[0;34m\u001b[0m\u001b[0;34m\u001b[0m\u001b[0m\n",
            "\u001b[0;32m/usr/local/lib/python3.7/dist-packages/sklearn/tree/_export.py\u001b[0m in \u001b[0;36mexport\u001b[0;34m(self, decision_tree)\u001b[0m\n\u001b[1;32m    404\u001b[0m             \u001b[0mself\u001b[0m\u001b[0;34m.\u001b[0m\u001b[0mrecurse\u001b[0m\u001b[0;34m(\u001b[0m\u001b[0mdecision_tree\u001b[0m\u001b[0;34m,\u001b[0m \u001b[0;36m0\u001b[0m\u001b[0;34m,\u001b[0m \u001b[0mcriterion\u001b[0m\u001b[0;34m=\u001b[0m\u001b[0;34m\"impurity\"\u001b[0m\u001b[0;34m)\u001b[0m\u001b[0;34m\u001b[0m\u001b[0;34m\u001b[0m\u001b[0m\n\u001b[1;32m    405\u001b[0m         \u001b[0;32melse\u001b[0m\u001b[0;34m:\u001b[0m\u001b[0;34m\u001b[0m\u001b[0;34m\u001b[0m\u001b[0m\n\u001b[0;32m--> 406\u001b[0;31m             self.recurse(decision_tree.tree_, 0,\n\u001b[0m\u001b[1;32m    407\u001b[0m                          criterion=decision_tree.criterion)\n\u001b[1;32m    408\u001b[0m \u001b[0;34m\u001b[0m\u001b[0m\n",
            "\u001b[0;31mAttributeError\u001b[0m: 'BaggingClassifier' object has no attribute 'tree_'"
          ]
        }
      ]
    },
    {
      "cell_type": "markdown",
      "metadata": {
        "id": "rdKsE3dxAKrQ"
      },
      "source": [
        "## Regresión logística"
      ]
    },
    {
      "cell_type": "code",
      "metadata": {
        "colab": {
          "base_uri": "https://localhost:8080/"
        },
        "id": "DYpAmy0FCgZP",
        "outputId": "ccd1a56d-a9b8-4fee-cd6f-5569d5e20dbc"
      },
      "source": [
        "# Creación del modelo de Regresión Logística (LogisticRegression)\n",
        "# ------------------------------------------------------------------------------\n",
        "model_log_reg = LogisticRegression(random_state=123, class_weight=None)\n",
        "\n",
        "# Entrenamiento del modelo\n",
        "# ------------------------------------------------------------------------------\n",
        "model_log_reg.fit(X_train, y_train)"
      ],
      "execution_count": null,
      "outputs": [
        {
          "output_type": "execute_result",
          "data": {
            "text/plain": [
              "LogisticRegression(C=1.0, class_weight=None, dual=False, fit_intercept=True,\n",
              "                   intercept_scaling=1, l1_ratio=None, max_iter=100,\n",
              "                   multi_class='auto', n_jobs=None, penalty='l2',\n",
              "                   random_state=123, solver='lbfgs', tol=0.0001, verbose=0,\n",
              "                   warm_start=False)"
            ]
          },
          "metadata": {
            "tags": []
          },
          "execution_count": 42
        }
      ]
    },
    {
      "cell_type": "code",
      "metadata": {
        "colab": {
          "base_uri": "https://localhost:8080/"
        },
        "id": "ovh1RK6GyDwF",
        "outputId": "6fdd365f-4c30-4a07-ac8d-aff3f0bf0d35"
      },
      "source": [
        "# A la matriz de predictores se le tiene que añadir una columna de 1s para el intercept del modelo\n",
        "import statsmodels.api as sm\n",
        "\n",
        "x_train = sm.add_constant(X_train, prepend=True)\n",
        "modelo_log_reg = sm.Logit(endog=y_train, exog=x_train,)\n",
        "modelo_log_reg = modelo_log_reg.fit()\n",
        "print(modelo_log_reg.summary())"
      ],
      "execution_count": null,
      "outputs": [
        {
          "output_type": "stream",
          "text": [
            "Optimization terminated successfully.\n",
            "         Current function value: 0.155307\n",
            "         Iterations 8\n",
            "                           Logit Regression Results                           \n",
            "==============================================================================\n",
            "Dep. Variable:                      y   No. Observations:                26666\n",
            "Model:                          Logit   Df Residuals:                    26654\n",
            "Method:                           MLE   Df Model:                           11\n",
            "Date:                Tue, 22 Jun 2021   Pseudo R-squ.:                  0.2109\n",
            "Time:                        18:06:25   Log-Likelihood:                -4141.4\n",
            "converged:                       True   LL-Null:                       -5248.5\n",
            "Covariance Type:            nonrobust   LLR p-value:                     0.000\n",
            "=============================================================================================\n",
            "                                coef    std err          z      P>|z|      [0.025      0.975]\n",
            "---------------------------------------------------------------------------------------------\n",
            "const                        -3.3293      0.167    -19.955      0.000      -3.656      -3.002\n",
            "Location                      0.0060      0.014      0.423      0.673      -0.022       0.034\n",
            "Capability                    0.0079      0.007      1.053      0.292      -0.007       0.023\n",
            "JobLevel                     -0.0092      0.017     -0.546      0.585      -0.042       0.024\n",
            "PerformanceRating            -0.2597      0.089     -2.926      0.003      -0.434      -0.086\n",
            "ProficiencyLevel              0.9537      0.025     37.486      0.000       0.904       1.004\n",
            "PromotionEligibility         -0.0694      0.043     -1.615      0.106      -0.154       0.015\n",
            "MonthsHired                  -0.0126      0.002     -6.671      0.000      -0.016      -0.009\n",
            "Gender                       -0.1169      0.070     -1.668      0.095      -0.254       0.020\n",
            "Age                          -0.2700      0.012    -23.340      0.000      -0.293      -0.247\n",
            "EducationalQualification_    -0.0108      0.039     -0.279      0.780      -0.087       0.065\n",
            "DaysLastPromotion             0.0838      0.005     18.508      0.000       0.075       0.093\n",
            "=============================================================================================\n"
          ],
          "name": "stdout"
        }
      ]
    },
    {
      "cell_type": "markdown",
      "metadata": {
        "id": "U5unoqQ2APv-"
      },
      "source": [
        "## Regresión logística balanceada"
      ]
    },
    {
      "cell_type": "code",
      "metadata": {
        "colab": {
          "base_uri": "https://localhost:8080/"
        },
        "id": "thCL0ajyJ6VL",
        "outputId": "73545b40-6745-418e-deee-6e86a7a47471"
      },
      "source": [
        "# Probamos la regresión logística pero poniendole pesos \n",
        "# para compensar el desbalanceo del dataset\n",
        "\n",
        "# definir pesos de clase \n",
        "w = {0: 5, 1:95}\n",
        "\n",
        "# Creación del modelo de Regresión Logística con pesos (LogisticRegression)\n",
        "# ------------------------------------------------------------------------------\n",
        "model_log_reg_w = LogisticRegression(random_state=123, class_weight=w)\n",
        "\n",
        "# Entrenamiento del modelo\n",
        "# ------------------------------------------------------------------------------\n",
        "model_log_reg_w.fit(X_train, y_train)"
      ],
      "execution_count": null,
      "outputs": [
        {
          "output_type": "execute_result",
          "data": {
            "text/plain": [
              "LogisticRegression(C=1.0, class_weight={0: 5, 1: 95}, dual=False,\n",
              "                   fit_intercept=True, intercept_scaling=1, l1_ratio=None,\n",
              "                   max_iter=100, multi_class='auto', n_jobs=None, penalty='l2',\n",
              "                   random_state=123, solver='lbfgs', tol=0.0001, verbose=0,\n",
              "                   warm_start=False)"
            ]
          },
          "metadata": {
            "tags": []
          },
          "execution_count": 46
        }
      ]
    },
    {
      "cell_type": "markdown",
      "metadata": {
        "id": "xy1nkPwEAVD7"
      },
      "source": [
        "## Resutlados de los modelos"
      ]
    },
    {
      "cell_type": "code",
      "metadata": {
        "id": "Bbpw6ejMHeyC"
      },
      "source": [
        "# Calculamos las tablas de contingencia y los valores de accuracy de cada modelo\n",
        "# ------------------------------------------------------------------------------"
      ],
      "execution_count": null,
      "outputs": []
    },
    {
      "cell_type": "code",
      "metadata": {
        "colab": {
          "base_uri": "https://localhost:8080/"
        },
        "id": "D30D4vT7VrzF",
        "outputId": "33e306a1-e8ca-4b06-afe5-b837ee40e185"
      },
      "source": [
        "predicciones_tree = model_tree.predict(X = X_test)\n",
        "tree_conf_mat = confusion_matrix(\n",
        "    y_true    = y_test,\n",
        "    y_pred    = predicciones_tree\n",
        ")\n",
        "mat_cost = np.array([[-1, 100], [1,0]])\n",
        "(tree_conf_mat*mat_cost).sum()"
      ],
      "execution_count": null,
      "outputs": [
        {
          "output_type": "execute_result",
          "data": {
            "text/plain": [
              "280"
            ]
          },
          "metadata": {
            "tags": []
          },
          "execution_count": 27
        }
      ]
    },
    {
      "cell_type": "code",
      "metadata": {
        "colab": {
          "base_uri": "https://localhost:8080/"
        },
        "id": "PZbSG3T1HPFl",
        "outputId": "174afad5-aab5-4ffb-924e-b15cdd1c398a"
      },
      "source": [
        "\n",
        "# Error de test del modelo Arbol\n",
        "#-------------------------------------------------------------------------------\n",
        "predicciones_tree = model_tree.predict(X = X_test,)\n",
        "\n",
        "print(\"Matriz de confusión del modelo Arbol\")\n",
        "print(\"------------------------------------\")\n",
        "print(confusion_matrix(\n",
        "    y_true    = y_test,\n",
        "    y_pred    = predicciones_tree\n",
        "))\n",
        "\n",
        "accuracy = accuracy_score(\n",
        "            y_true    = y_test,\n",
        "            y_pred    = predicciones_tree,\n",
        "            normalize = True\n",
        "           )\n",
        "print(f\"El accuracy de test del modelo Arbol es: {100 * accuracy} %\")\n",
        "print(f'Area Under Curve (AUC): {roc_auc_score (y_test , predicciones_tree)} ') \n",
        "print(f'Recall: {recall_score (y_test, predicciones_tree)}')\n",
        "print(\" \")\n",
        "\n",
        "# Error de test del modelo Arbol Ensemble\n",
        "#-------------------------------------------------------------------------------\n",
        "predicciones_tree_ense = model_tree_ensemble.predict(X = X_test,)\n",
        "\n",
        "print(\"Matriz de confusión del modelo Arbol Ensemble\")\n",
        "print(\"---------------------------------------------\")\n",
        "print(confusion_matrix(\n",
        "    y_true    = y_test,\n",
        "    y_pred    = predicciones_tree_ense\n",
        "))\n",
        "\n",
        "accuracy_tree_ense = accuracy_score(\n",
        "            y_true    = y_test,\n",
        "            y_pred    = predicciones_tree_ense,\n",
        "            normalize = True\n",
        "           )\n",
        "print(f\"El accuracy de test del modelo Arbol Ensemble es: {100 * accuracy_tree_ense} %\")\n",
        "print(f'Area Under Curve (AUC): {roc_auc_score (y_test , predicciones_tree_ense)} ') \n",
        "print(f'Recall: {recall_score (y_test, predicciones_tree_ense)}')\n",
        "print(\" \")\n",
        "\n",
        "# Error de test del modelo Regresión logística\n",
        "#-------------------------------------------------------------------------------\n",
        "predicciones_log_reg = model_log_reg.predict(X = X_test,)\n",
        "print(\"Matriz de confusión del modelo Regesión logística\")\n",
        "print(\"---------------------------------------------\")\n",
        "print(confusion_matrix(\n",
        "    y_true    = y_test,\n",
        "    y_pred    = predicciones_log_reg\n",
        "))\n",
        "\n",
        "accuracy_log_reg = accuracy_score(\n",
        "            y_true    = y_test,\n",
        "            y_pred    = predicciones_log_reg,\n",
        "            normalize = True\n",
        "           )\n",
        "print(f\"El accuracy de test del modelo Regresión logística es: {100 * accuracy_log_reg} %\")\n",
        "print(f'Area Under Curve (AUC): {roc_auc_score (y_test , predicciones_log_reg)} ') \n",
        "print(f'Recall: {recall_score (y_test, predicciones_log_reg)}')\n",
        "print(\" \")\n",
        "\n",
        "# Error de test del modelo Regresión logística con pesos\n",
        "#-------------------------------------------------------------------------------\n",
        "predicciones_log_reg_w = model_log_reg_w.predict(X = X_test,)\n",
        "print(\"Matriz de confusión del modelo Regesión logística con pesos\")\n",
        "print(\"--------------------------------------------------\")\n",
        "print(confusion_matrix(\n",
        "    y_true    = y_test,\n",
        "    y_pred    = predicciones_log_reg_w\n",
        "))\n",
        "\n",
        "accuracy_log_reg_w = accuracy_score(\n",
        "            y_true    = y_test,\n",
        "            y_pred    = predicciones_log_reg_w,\n",
        "            normalize = True\n",
        "           )\n",
        "print(f\"El accuracy de test del modelo Regresión logística con pesos es: {100 * accuracy_log_reg} %\")\n",
        "print(f'Area Under Curve (AUC): {roc_auc_score (y_test , predicciones_log_reg_w)} ') \n",
        "print(f'Recall: {recall_score (y_test, predicciones_log_reg_w)}')\n",
        "print(\" \")\n"
      ],
      "execution_count": null,
      "outputs": [
        {
          "output_type": "stream",
          "text": [
            "Matriz de confusión del modelo Arbol\n",
            "------------------------------------\n",
            "[[8362   84]\n",
            " [ 242  201]]\n",
            "El accuracy de test del modelo Arbol es: 96.33254584317696 %\n",
            "Area Under Curve (AUC): 0.7218895343087863 \n",
            "Recall: 0.45372460496614\n",
            " \n",
            "Matriz de confusión del modelo Arbol Ensemble\n",
            "---------------------------------------------\n",
            "[[8378   68]\n",
            " [ 243  200]]\n",
            "El accuracy de test del modelo Arbol Ensemble es: 96.50129373382833 %\n",
            "Area Under Curve (AUC): 0.7217080600751875 \n",
            "Recall: 0.45146726862302483\n",
            " \n",
            "Matriz de confusión del modelo Regesión logística\n",
            "---------------------------------------------\n",
            "[[8416   30]\n",
            " [ 349   94]]\n",
            "El accuracy de test del modelo Regresión logística es: 95.7363032962088 %\n",
            "Area Under Curve (AUC): 0.604318819492738 \n",
            "Recall: 0.21218961625282168\n",
            " \n",
            "Matriz de confusión del modelo Regesión logística con pesos\n",
            "--------------------------------------------------\n",
            "[[6656 1790]\n",
            " [ 135  308]]\n",
            "El accuracy de test del modelo Regresión logística con pesos es: 95.7363032962088 %\n",
            "Area Under Curve (AUC): 0.7416624750305886 \n",
            "Recall: 0.6952595936794582\n",
            " \n"
          ],
          "name": "stdout"
        }
      ]
    },
    {
      "cell_type": "code",
      "metadata": {
        "id": "wgc_HdXXVYyA"
      },
      "source": [
        "#Generamos las curvas ROC y de Sensibilidad/Recall\n",
        "\n",
        "# Predecimos las probabilidades\n",
        "lr_probs_tree = model_tree.predict_proba(X_test)\n",
        "lr_probs_tree_ense = model_tree_ensemble.predict_proba(X_test)\n",
        "lr_probs_log_reg = model_log_reg.predict_proba(X_test)\n",
        "lr_probs_log_reg_w = model_log_reg_w.predict_proba(X_test)\n",
        "#Nos quedamos con las probabilidades de la clase positiva (la probabilidad de predecir 1)\n",
        "lr_probs_tree = lr_probs_tree[:, 1]\n",
        "lr_probs_tree_ense = lr_probs_tree_ense[:, 1]\n",
        "lr_probs_log_reg = lr_probs_log_reg[:, 1]\n",
        "lr_probs_log_reg_w = lr_probs_log_reg_w[:, 1]"
      ],
      "execution_count": null,
      "outputs": []
    },
    {
      "cell_type": "code",
      "metadata": {
        "id": "8XviyVruVZVF",
        "colab": {
          "base_uri": "https://localhost:8080/",
          "height": 360
        },
        "outputId": "0c5c7ac8-7bdc-41f1-f15f-90804857742b"
      },
      "source": [
        "#Generamos las curvas ROC \n",
        "\n",
        "#Generamos un clasificador sin entrenar , que asignará 0 a todo\n",
        "ns_probs = [0 for _ in range(len(y_test))]\n",
        "# Calculamos el AUC\n",
        "ns_auc = roc_auc_score(y_test, ns_probs)\n",
        "lr_auc_tree = roc_auc_score(y_test, lr_probs_tree)\n",
        "lr_auc_tree_ense = roc_auc_score(y_test, lr_probs_tree_ense)\n",
        "lr_auc_log_reg = roc_auc_score(y_test, lr_probs_log_reg)\n",
        "lr_auc_log_reg_w = roc_auc_score(y_test, lr_probs_log_reg_w)\n",
        "# Imprimimos en pantalla\n",
        "print('Sin entrenar: ROC AUC=%.3f' % (ns_auc))\n",
        "print('Arbol común: ROC AUC=%.3f' % (lr_auc_tree))\n",
        "print('Arbol con Ensemble: ROC AUC=%.3f' % (lr_auc_tree_ense))\n",
        "print('Regresión logística: ROC AUC=%.3f' % (lr_auc_log_reg))\n",
        "print('Regresión logística ponderada: ROC AUC=%.3f' % (lr_auc_log_reg_w))\n",
        "# Calculamos las curvas ROC\n",
        "ns_fpr, ns_tpr, _ = roc_curve(y_test, ns_probs)\n",
        "lr_fpr_tree, lr_tpr_tree, _ = roc_curve(y_test, lr_probs_tree)\n",
        "lr_fpr_tree_ense, lr_tpr_tree_ense, _ = roc_curve(y_test, lr_probs_tree_ense)\n",
        "lr_fpr_log_reg, lr_tpr_log_reg, _ = roc_curve(y_test, lr_probs_log_reg)\n",
        "lr_fpr_log_reg_w, lr_tpr_log_reg_w, _ = roc_curve(y_test, lr_probs_log_reg_w)\n",
        "# Pintamos las curvas ROC\n",
        "plt.plot(ns_fpr, ns_tpr, linestyle='--', label='Sin entrenar')\n",
        "plt.plot(lr_fpr_tree, lr_tpr_tree, marker='.', label='Arbol común')\n",
        "plt.plot(lr_fpr_tree_ense, lr_tpr_tree_ense, marker='.', label='Arbol con Ensemble')\n",
        "plt.plot(lr_fpr_log_reg, lr_tpr_log_reg, marker='.', label='Regresión logística')\n",
        "plt.plot(lr_fpr_log_reg_w, lr_tpr_log_reg_w, marker='.', label='Regresión logística ponderada')\n",
        "# Etiquetas de los ejes\n",
        "plt.xlabel('Tasa de Falsos Positivos')\n",
        "plt.ylabel('Tasa de Verdaderos Positivos')\n",
        "plt.legend()\n",
        "plt.show()"
      ],
      "execution_count": null,
      "outputs": [
        {
          "output_type": "stream",
          "text": [
            "Sin entrenar: ROC AUC=0.500\n",
            "Arbol común: ROC AUC=0.841\n",
            "Arbol con Ensemble: ROC AUC=0.860\n",
            "Regresión logística: ROC AUC=0.824\n",
            "Regresión logística ponderada: ROC AUC=0.832\n"
          ],
          "name": "stdout"
        },
        {
          "output_type": "display_data",
          "data": {
            "image/png": "[encoded data removed]",
            "text/plain": [
              "<Figure size 432x288 with 1 Axes>"
            ]
          },
          "metadata": {
            "tags": [],
            "needs_background": "light"
          }
        }
      ]
    },
    {
      "cell_type": "code",
      "metadata": {
        "id": "LQ_lTT88VZrE",
        "colab": {
          "base_uri": "https://localhost:8080/",
          "height": 343
        },
        "outputId": "5505f34d-1c59-419a-99cf-eff249313938"
      },
      "source": [
        "#Generamos las curvas Precisión - Sensibilidad/Recall\n",
        "\n",
        "# Sacamos los valores\n",
        "yhat_tree = model_tree.predict(X_test)\n",
        "yhat_tree_ense = model_tree_ensemble.predict(X_test)\n",
        "yhat_log_reg = model_log_reg.predict(X_test)\n",
        "yhat_log_reg_w = model_log_reg_w.predict(X_test)\n",
        "lr_precision_tree, lr_recall_tree, _ = precision_recall_curve(y_test, lr_probs_tree)\n",
        "lr_precision_tree_ense, lr_recall_tree_ense, _ = precision_recall_curve(y_test, lr_probs_tree_ense)\n",
        "lr_precision_log_reg, lr_recall_log_reg, _ = precision_recall_curve(y_test, lr_probs_log_reg)\n",
        "lr_precision_log_reg_w, lr_recall_log_reg_w, _ = precision_recall_curve(y_test, lr_probs_log_reg_w)\n",
        "lr_f1_tree, lr_auc_tree = f1_score(y_test, yhat_tree), auc(lr_recall_tree, lr_precision_tree)\n",
        "lr_f1_tree_ense, lr_auc_tree_ense = f1_score(y_test, yhat_tree_ense), auc(lr_recall_tree_ense, lr_precision_tree_ense)\n",
        "lr_f1_log_reg, lr_auc_log_reg = f1_score(y_test, yhat_log_reg), auc(lr_recall_log_reg, lr_precision_log_reg)\n",
        "lr_f1_log_reg_w, lr_auc_log_reg_w = f1_score(y_test, yhat_log_reg_w), auc(lr_recall_log_reg_w, lr_precision_log_reg_w)\n",
        "# Resumimos s\n",
        "print('Arbol: f1=%.3f auc=%.3f' % (lr_f1_tree, lr_auc_tree))\n",
        "print('Arbol Ensemble: f1=%.3f auc=%.3f' % (lr_f1_tree_ense, lr_auc_tree_ense))\n",
        "print('Regresión logística: f1=%.3f auc=%.3f' % (lr_f1_log_reg, lr_auc_log_reg))\n",
        "print('Regresión logística ponderada: f1=%.3f auc=%.3f' % (lr_f1_log_reg_w, lr_auc_log_reg_w))\n",
        "# plot the precision-recall curves\n",
        "no_skill = len(y_test[y_test==1]) / len(y_test)\n",
        "plt.plot([0, 1], [no_skill, no_skill], linestyle='--', label='Sin entrenar')\n",
        "plt.plot(lr_recall_tree, lr_precision_tree, marker='.', label='Arbol')\n",
        "plt.plot(lr_recall_tree_ense, lr_precision_tree_ense, marker='.', label='Arbol Ensemble')\n",
        "plt.plot(lr_recall_log_reg, lr_precision_log_reg, marker='.', label='Regresión logística')\n",
        "plt.plot(lr_recall_log_reg_w, lr_precision_log_reg_w, marker='.', label='Regresión logística ponderada')\n",
        "#Etiquetas de ejes\n",
        "plt.xlabel('Sensibilidad')\n",
        "plt.ylabel('Precisión')\n",
        "plt.legend()\n",
        "plt.show()"
      ],
      "execution_count": null,
      "outputs": [
        {
          "output_type": "stream",
          "text": [
            "Arbol: f1=0.552 auc=0.403\n",
            "Arbol Ensemble: f1=0.563 auc=0.529\n",
            "Regresión logística: f1=0.332 auc=0.444\n",
            "Regresión logística ponderada: f1=0.242 auc=0.388\n"
          ],
          "name": "stdout"
        },
        {
          "output_type": "display_data",
          "data": {
            "image/png": "[encoded data removed]",
            "text/plain": [
              "<Figure size 432x288 with 1 Axes>"
            ]
          },
          "metadata": {
            "tags": [],
            "needs_background": "light"
          }
        }
      ]
    },
    {
      "cell_type": "markdown",
      "metadata": {
        "id": "BwvYibC8tRoq"
      },
      "source": [
        "# Otros Gráficos"
      ]
    },
    {
      "cell_type": "code",
      "metadata": {
        "colab": {
          "base_uri": "https://localhost:8080/",
          "height": 508
        },
        "id": "3S7VZTV7u9NG",
        "outputId": "6aa82023-91c7-495a-9923-1d05f8871774"
      },
      "source": [
        "df_attrition"
      ],
      "execution_count": null,
      "outputs": [
        {
          "output_type": "execute_result",
          "data": {
            "text/html": [
              "<div>\n",
              "<style scoped>\n",
              "    .dataframe tbody tr th:only-of-type {\n",
              "        vertical-align: middle;\n",
              "    }\n",
              "\n",
              "    .dataframe tbody tr th {\n",
              "        vertical-align: top;\n",
              "    }\n",
              "\n",
              "    .dataframe thead th {\n",
              "        text-align: right;\n",
              "    }\n",
              "</style>\n",
              "<table border=\"1\" class=\"dataframe\">\n",
              "  <thead>\n",
              "    <tr style=\"text-align: right;\">\n",
              "      <th></th>\n",
              "      <th>Location</th>\n",
              "      <th>Capability</th>\n",
              "      <th>JobLevel</th>\n",
              "      <th>PerformanceRating</th>\n",
              "      <th>ProficiencyLevel</th>\n",
              "      <th>PromotionEligibility</th>\n",
              "      <th>CareerLevel</th>\n",
              "      <th>MonthsHired</th>\n",
              "      <th>CompRatio</th>\n",
              "      <th>MonthAtLevel</th>\n",
              "      <th>Gender</th>\n",
              "      <th>Age</th>\n",
              "      <th>EducationalQualification_</th>\n",
              "      <th>RequestLocationChange</th>\n",
              "      <th>DaysLastPromotion</th>\n",
              "      <th>Onboard_or_Exit_bin</th>\n",
              "    </tr>\n",
              "    <tr>\n",
              "      <th>id1</th>\n",
              "      <th></th>\n",
              "      <th></th>\n",
              "      <th></th>\n",
              "      <th></th>\n",
              "      <th></th>\n",
              "      <th></th>\n",
              "      <th></th>\n",
              "      <th></th>\n",
              "      <th></th>\n",
              "      <th></th>\n",
              "      <th></th>\n",
              "      <th></th>\n",
              "      <th></th>\n",
              "      <th></th>\n",
              "      <th></th>\n",
              "      <th></th>\n",
              "    </tr>\n",
              "  </thead>\n",
              "  <tbody>\n",
              "    <tr>\n",
              "      <th>1</th>\n",
              "      <td>GURGAON</td>\n",
              "      <td>SAP</td>\n",
              "      <td>SSE</td>\n",
              "      <td>CSAPG</td>\n",
              "      <td>P2 - PROFICIENT</td>\n",
              "      <td>ELIGIBLE</td>\n",
              "      <td>SSE</td>\n",
              "      <td>72</td>\n",
              "      <td>0.95</td>\n",
              "      <td>37</td>\n",
              "      <td>M</td>\n",
              "      <td>27</td>\n",
              "      <td>IT</td>\n",
              "      <td>No</td>\n",
              "      <td>2853</td>\n",
              "      <td>0</td>\n",
              "    </tr>\n",
              "    <tr>\n",
              "      <th>2</th>\n",
              "      <td>BANGALORE</td>\n",
              "      <td>MICROSOFT PLATFORM</td>\n",
              "      <td>SE</td>\n",
              "      <td>CSAPG</td>\n",
              "      <td>P1 - NOVICE</td>\n",
              "      <td>ELIGIBLE</td>\n",
              "      <td>SE</td>\n",
              "      <td>59</td>\n",
              "      <td>0.95</td>\n",
              "      <td>48</td>\n",
              "      <td>M</td>\n",
              "      <td>27</td>\n",
              "      <td>IT</td>\n",
              "      <td>No</td>\n",
              "      <td>2123</td>\n",
              "      <td>0</td>\n",
              "    </tr>\n",
              "    <tr>\n",
              "      <th>3</th>\n",
              "      <td>PUNE</td>\n",
              "      <td>SAP</td>\n",
              "      <td>SE</td>\n",
              "      <td>CSAPG</td>\n",
              "      <td>P0 - TRAINED</td>\n",
              "      <td>UNKNOWN</td>\n",
              "      <td>SE</td>\n",
              "      <td>44</td>\n",
              "      <td>0.95</td>\n",
              "      <td>15</td>\n",
              "      <td>F</td>\n",
              "      <td>25</td>\n",
              "      <td>ENGINEERING</td>\n",
              "      <td>Yes</td>\n",
              "      <td>2672</td>\n",
              "      <td>0</td>\n",
              "    </tr>\n",
              "    <tr>\n",
              "      <th>4</th>\n",
              "      <td>PUNE</td>\n",
              "      <td>SAP</td>\n",
              "      <td>SE</td>\n",
              "      <td>CSAPG</td>\n",
              "      <td>P1 - NOVICE</td>\n",
              "      <td>UNKNOWN</td>\n",
              "      <td>SE</td>\n",
              "      <td>44</td>\n",
              "      <td>0.95</td>\n",
              "      <td>39</td>\n",
              "      <td>M</td>\n",
              "      <td>27</td>\n",
              "      <td>BUSINNES/ECON/SOCIALS</td>\n",
              "      <td>No</td>\n",
              "      <td>1942</td>\n",
              "      <td>0</td>\n",
              "    </tr>\n",
              "    <tr>\n",
              "      <th>5</th>\n",
              "      <td>BANGALORE</td>\n",
              "      <td>HOSTCENTRIC PLATFORM</td>\n",
              "      <td>SSE</td>\n",
              "      <td>CSAPG</td>\n",
              "      <td>P2 - PROFICIENT</td>\n",
              "      <td>ELIGIBLE</td>\n",
              "      <td>SSE</td>\n",
              "      <td>90</td>\n",
              "      <td>0.95</td>\n",
              "      <td>55</td>\n",
              "      <td>F</td>\n",
              "      <td>31</td>\n",
              "      <td>BUSINNES/ECON/SOCIALS</td>\n",
              "      <td>No</td>\n",
              "      <td>2853</td>\n",
              "      <td>0</td>\n",
              "    </tr>\n",
              "    <tr>\n",
              "      <th>...</th>\n",
              "      <td>...</td>\n",
              "      <td>...</td>\n",
              "      <td>...</td>\n",
              "      <td>...</td>\n",
              "      <td>...</td>\n",
              "      <td>...</td>\n",
              "      <td>...</td>\n",
              "      <td>...</td>\n",
              "      <td>...</td>\n",
              "      <td>...</td>\n",
              "      <td>...</td>\n",
              "      <td>...</td>\n",
              "      <td>...</td>\n",
              "      <td>...</td>\n",
              "      <td>...</td>\n",
              "      <td>...</td>\n",
              "    </tr>\n",
              "    <tr>\n",
              "      <th>35551</th>\n",
              "      <td>BANGALORE</td>\n",
              "      <td>SAP</td>\n",
              "      <td>AM</td>\n",
              "      <td>CSAPG</td>\n",
              "      <td>P4 - EXPERT</td>\n",
              "      <td>NOT ELIGI</td>\n",
              "      <td>AM</td>\n",
              "      <td>61</td>\n",
              "      <td>1.13</td>\n",
              "      <td>38</td>\n",
              "      <td>M</td>\n",
              "      <td>32</td>\n",
              "      <td>ENGINEERING</td>\n",
              "      <td>No</td>\n",
              "      <td>2488</td>\n",
              "      <td>1</td>\n",
              "    </tr>\n",
              "    <tr>\n",
              "      <th>35552</th>\n",
              "      <td>BANGALORE</td>\n",
              "      <td>SAP</td>\n",
              "      <td>TL</td>\n",
              "      <td>CSAPG</td>\n",
              "      <td>P4 - EXPERT</td>\n",
              "      <td>NOT ELIGI</td>\n",
              "      <td>TL</td>\n",
              "      <td>46</td>\n",
              "      <td>0.92</td>\n",
              "      <td>10</td>\n",
              "      <td>M</td>\n",
              "      <td>35</td>\n",
              "      <td>ENGINEERING</td>\n",
              "      <td>No</td>\n",
              "      <td>2853</td>\n",
              "      <td>1</td>\n",
              "    </tr>\n",
              "    <tr>\n",
              "      <th>35553</th>\n",
              "      <td>PUNE</td>\n",
              "      <td>SAP</td>\n",
              "      <td>AM</td>\n",
              "      <td>CSAPG</td>\n",
              "      <td>P4 - EXPERT</td>\n",
              "      <td>ELIGIBLE</td>\n",
              "      <td>AM</td>\n",
              "      <td>45</td>\n",
              "      <td>0.86</td>\n",
              "      <td>33</td>\n",
              "      <td>M</td>\n",
              "      <td>33</td>\n",
              "      <td>ENGINEERING</td>\n",
              "      <td>Yes</td>\n",
              "      <td>2123</td>\n",
              "      <td>1</td>\n",
              "    </tr>\n",
              "    <tr>\n",
              "      <th>35554</th>\n",
              "      <td>BANGALORE</td>\n",
              "      <td>SAP</td>\n",
              "      <td>SSE</td>\n",
              "      <td>CSAPG</td>\n",
              "      <td>P2 - PROFICIENT</td>\n",
              "      <td>ELIGIBLE</td>\n",
              "      <td>SSE</td>\n",
              "      <td>47</td>\n",
              "      <td>1.02</td>\n",
              "      <td>36</td>\n",
              "      <td>M</td>\n",
              "      <td>28</td>\n",
              "      <td>BUSINNES/ECON/SOCIALS</td>\n",
              "      <td>Yes</td>\n",
              "      <td>2123</td>\n",
              "      <td>1</td>\n",
              "    </tr>\n",
              "    <tr>\n",
              "      <th>35555</th>\n",
              "      <td>BANGALORE</td>\n",
              "      <td>MICROSOFT PLATFORM</td>\n",
              "      <td>SSE</td>\n",
              "      <td>CSAPG</td>\n",
              "      <td>P2 - PROFICIENT</td>\n",
              "      <td>ELIGIBLE</td>\n",
              "      <td>SSE</td>\n",
              "      <td>43</td>\n",
              "      <td>0.87</td>\n",
              "      <td>32</td>\n",
              "      <td>M</td>\n",
              "      <td>27</td>\n",
              "      <td>IT</td>\n",
              "      <td>No</td>\n",
              "      <td>2123</td>\n",
              "      <td>1</td>\n",
              "    </tr>\n",
              "  </tbody>\n",
              "</table>\n",
              "<p>35555 rows × 16 columns</p>\n",
              "</div>"
            ],
            "text/plain": [
              "        Location            Capability  ... DaysLastPromotion Onboard_or_Exit_bin\n",
              "id1                                     ...                                      \n",
              "1        GURGAON                   SAP  ...              2853                   0\n",
              "2      BANGALORE    MICROSOFT PLATFORM  ...              2123                   0\n",
              "3           PUNE                   SAP  ...              2672                   0\n",
              "4           PUNE                   SAP  ...              1942                   0\n",
              "5      BANGALORE  HOSTCENTRIC PLATFORM  ...              2853                   0\n",
              "...          ...                   ...  ...               ...                 ...\n",
              "35551  BANGALORE                   SAP  ...              2488                   1\n",
              "35552  BANGALORE                   SAP  ...              2853                   1\n",
              "35553       PUNE                   SAP  ...              2123                   1\n",
              "35554  BANGALORE                   SAP  ...              2123                   1\n",
              "35555  BANGALORE    MICROSOFT PLATFORM  ...              2123                   1\n",
              "\n",
              "[35555 rows x 16 columns]"
            ]
          },
          "metadata": {
            "tags": []
          },
          "execution_count": 28
        }
      ]
    },
    {
      "cell_type": "code",
      "metadata": {
        "colab": {
          "base_uri": "https://localhost:8080/",
          "height": 393
        },
        "id": "frYuopHctUfq",
        "outputId": "5cc10997-d3bf-4ced-82c6-d1f7aad5fc96"
      },
      "source": [
        "df_num1 = df_attrition.select_dtypes(include= (['float64', 'int64']))\n",
        "\n",
        "sns.set_theme(style=\"ticks\")\n",
        "\n",
        "# Initialize the figure with a logarithmic x axis\n",
        "f, ax = plt.subplots(figsize=(7, 6))\n",
        "#ax.set_xscale(\"log\")\n",
        "\n",
        "# Plot the orbital period with horizontal boxes\n",
        "sns.boxplot(x=\"MonthsHired\", data=df_attrition,\n",
        "            whis=[0, 100], width=.6, palette=\"vlag\")\n",
        "\n",
        "# Add in points to show each observation\n",
        "sns.stripplot(x=\"MonthsHired\", data=df_attrition,\n",
        "              size=4, color=\".3\", linewidth=0, alpha = 0.7)\n",
        "\n",
        "# Tweak the visual presentation\n",
        "ax.xaxis.grid(True)\n",
        "ax.set(ylabel=\"\")\n",
        "sns.despine(trim=True, left=True)"
      ],
      "execution_count": null,
      "outputs": [
        {
          "output_type": "display_data",
          "data": {
            "image/png": "[encoded data removed]",
            "text/plain": [
              "<Figure size 504x432 with 1 Axes>"
            ]
          },
          "metadata": {
            "tags": []
          }
        }
      ]
    },
    {
      "cell_type": "code",
      "metadata": {
        "colab": {
          "base_uri": "https://localhost:8080/",
          "height": 295
        },
        "id": "ie9zk0yexnj4",
        "outputId": "4d5efae5-deea-4abd-f5d4-3c4c06514d9f"
      },
      "source": [
        "sns.set_theme(style=\"ticks\", palette=\"pastel\")\n",
        "\n",
        "\n",
        "# Draw a nested boxplot to show bills by day and time\n",
        "sns.boxplot(x=\"MonthsHired\",\n",
        "            hue=\"Onboard_or_Exit_bin\", palette=[\"m\", \"g\"],\n",
        "            data=df_attrition)\n",
        "sns.despine(offset=10, trim=True)"
      ],
      "execution_count": null,
      "outputs": [
        {
          "output_type": "display_data",
          "data": {
            "image/png": "[encoded data removed]",
            "text/plain": [
              "<Figure size 432x288 with 1 Axes>"
            ]
          },
          "metadata": {
            "tags": []
          }
        }
      ]
    },
    {
      "cell_type": "code",
      "metadata": {
        "colab": {
          "base_uri": "https://localhost:8080/",
          "height": 200
        },
        "id": "4FysPJm4xsqb",
        "outputId": "19942c7e-72a2-43b8-9ab6-096940a1ed0c"
      },
      "source": [
        "\n",
        "df_attrition[\"VALOR_CUANTILES\"] = pd.qcut(df.Month, 5)\n",
        "df.boxplot(column=\"INDICE_CRIMEN\", by=\"VALOR_CUANTILES\",\n",
        "\tfigsize=(8,6))\n",
        "plt.show()\n"
      ],
      "execution_count": null,
      "outputs": [
        {
          "output_type": "execute_result",
          "data": {
            "text/html": [
              "<div>\n",
              "<style scoped>\n",
              "    .dataframe tbody tr th:only-of-type {\n",
              "        vertical-align: middle;\n",
              "    }\n",
              "\n",
              "    .dataframe tbody tr th {\n",
              "        vertical-align: top;\n",
              "    }\n",
              "\n",
              "    .dataframe thead th {\n",
              "        text-align: right;\n",
              "    }\n",
              "</style>\n",
              "<table border=\"1\" class=\"dataframe\">\n",
              "  <thead>\n",
              "    <tr style=\"text-align: right;\">\n",
              "      <th></th>\n",
              "      <th>total_bill</th>\n",
              "      <th>tip</th>\n",
              "      <th>sex</th>\n",
              "      <th>smoker</th>\n",
              "      <th>day</th>\n",
              "      <th>time</th>\n",
              "      <th>size</th>\n",
              "    </tr>\n",
              "  </thead>\n",
              "  <tbody>\n",
              "    <tr>\n",
              "      <th>0</th>\n",
              "      <td>16.99</td>\n",
              "      <td>1.01</td>\n",
              "      <td>Female</td>\n",
              "      <td>No</td>\n",
              "      <td>Sun</td>\n",
              "      <td>Dinner</td>\n",
              "      <td>2</td>\n",
              "    </tr>\n",
              "    <tr>\n",
              "      <th>1</th>\n",
              "      <td>10.34</td>\n",
              "      <td>1.66</td>\n",
              "      <td>Male</td>\n",
              "      <td>No</td>\n",
              "      <td>Sun</td>\n",
              "      <td>Dinner</td>\n",
              "      <td>3</td>\n",
              "    </tr>\n",
              "    <tr>\n",
              "      <th>2</th>\n",
              "      <td>21.01</td>\n",
              "      <td>3.50</td>\n",
              "      <td>Male</td>\n",
              "      <td>No</td>\n",
              "      <td>Sun</td>\n",
              "      <td>Dinner</td>\n",
              "      <td>3</td>\n",
              "    </tr>\n",
              "    <tr>\n",
              "      <th>3</th>\n",
              "      <td>23.68</td>\n",
              "      <td>3.31</td>\n",
              "      <td>Male</td>\n",
              "      <td>No</td>\n",
              "      <td>Sun</td>\n",
              "      <td>Dinner</td>\n",
              "      <td>2</td>\n",
              "    </tr>\n",
              "    <tr>\n",
              "      <th>4</th>\n",
              "      <td>24.59</td>\n",
              "      <td>3.61</td>\n",
              "      <td>Female</td>\n",
              "      <td>No</td>\n",
              "      <td>Sun</td>\n",
              "      <td>Dinner</td>\n",
              "      <td>4</td>\n",
              "    </tr>\n",
              "  </tbody>\n",
              "</table>\n",
              "</div>"
            ],
            "text/plain": [
              "   total_bill   tip     sex smoker  day    time  size\n",
              "0       16.99  1.01  Female     No  Sun  Dinner     2\n",
              "1       10.34  1.66    Male     No  Sun  Dinner     3\n",
              "2       21.01  3.50    Male     No  Sun  Dinner     3\n",
              "3       23.68  3.31    Male     No  Sun  Dinner     2\n",
              "4       24.59  3.61  Female     No  Sun  Dinner     4"
            ]
          },
          "metadata": {
            "tags": []
          },
          "execution_count": 42
        }
      ]
    },
    {
      "cell_type": "code",
      "metadata": {
        "id": "aiDybSK7xyIk"
      },
      "source": [
        ""
      ],
      "execution_count": null,
      "outputs": []
    }
  ]
}