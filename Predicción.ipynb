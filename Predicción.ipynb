{
  "nbformat": 4,
  "nbformat_minor": 0,
  "metadata": {
    "colab": {
      "name": "Predicción.ipynb",
      "provenance": [],
      "collapsed_sections": []
    },
    "kernelspec": {
      "name": "python3",
      "display_name": "Python 3"
    }
  },
  "cells": [
    {
      "cell_type": "markdown",
      "metadata": {
        "id": "Cxb-LNs711Dk"
      },
      "source": [
        "**Predicting Commuter Transportation Choices (Python)**"
      ]
    },
    {
      "cell_type": "code",
      "metadata": {
        "id": "Ghz3gZ7E1o_S"
      },
      "source": [
        "# Importamos paquetes\r\n",
        "from __future__ import division, print_function\r\n",
        "import numpy as np\r\n",
        "import pandas as pd\r\n",
        "import statsmodels.api as sm"
      ],
      "execution_count": 45,
      "outputs": []
    },
    {
      "cell_type": "code",
      "metadata": {
        "colab": {
          "resources": {
            "http://localhost:8080/nbextensions/google.colab/files.js": {
              "data": "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",
              "ok": true,
              "headers": [
                [
                  "content-type",
                  "application/javascript"
                ]
              ],
              "status": 200,
              "status_text": ""
            }
          },
          "base_uri": "https://localhost:8080/",
          "height": 109
        },
        "id": "ljmtmI441yuA",
        "outputId": "ee3d2d92-eeae-4d06-fc47-c7ad4abe81f0"
      },
      "source": [
        "# importamos datos \r\n",
        "from google.colab import files\r\n",
        "sydney = files.upload()\r\n",
        "print('/n', sydney)"
      ],
      "execution_count": 17,
      "outputs": [
        {
          "output_type": "display_data",
          "data": {
            "text/html": [
              "\n",
              "     <input type=\"file\" id=\"files-c4bda56b-e296-4a1a-aae5-c56af1e694c0\" name=\"files[]\" multiple disabled\n",
              "        style=\"border:none\" />\n",
              "     <output id=\"result-c4bda56b-e296-4a1a-aae5-c56af1e694c0\">\n",
              "      Upload widget is only available when the cell has been executed in the\n",
              "      current browser session. Please rerun this cell to enable.\n",
              "      </output>\n",
              "      <script src=\"/nbextensions/google.colab/files.js\"></script> "
            ],
            "text/plain": [
              "<IPython.core.display.HTML object>"
            ]
          },
          "metadata": {
            "tags": []
          }
        },
        {
          "output_type": "stream",
          "text": [
            "Saving sydney.csv to sydney (2).csv\n",
            "/n {'sydney.csv': b'cartime,carcost,traintime,traincost,choice\\r70,50,64,39,TRAIN\\r50,230,60,32,TRAIN\\r50,70,58,40,CAR\\r60,108,93,62,CAR\\r70,60,68,26,TRAIN\\r20,32,72,65,CAR\\r40,30,60,37,TRAIN\\r15,8,22,20,CAR\\r60,60,83,31,TRAIN\\r29,20,40,17,CAR\\r36,30,65,70,CAR\\r50,30,125,60,CAR\\r63,35,145,60,CAR\\r20,30,48,25,CAR\\r60,40,85,45,CAR\\r30,20,60,35,TRAIN\\r47,60,79,26,TRAIN\\r60,72,50,26,TRAIN\\r55,40,43,26,TRAIN\\r35,80,51,29,TRAIN\\r15,30,25,20,TRAIN\\r55,50,70,27,TRAIN\\r50,50,65,26,TRAIN\\r39,25,50,55,CAR\\r17,20,78,35,CAR\\r35,56,87,40,CAR\\r65,55,90,26,TRAIN\\r38,40,74,23,TRAIN\\r15,15,40,34,CAR\\r65,130,74,30,TRAIN\\r40,80,80,88,CAR\\r15,35,45,33,TRAIN\\r55,82,65,36,TRAIN\\r25,36,68,36,TRAIN\\r75,72,69,65,CAR\\r25,60,44,18,TRAIN\\r61,50,61,33,TRAIN\\r15,36,37,28,CAR\\r15,44,35,50,CAR\\r35,36,68,25,CAR\\r50,60,73,30,CAR\\r65,120,47,46,TRAIN\\r40,60,67,37,CAR\\r60,56,75,26,CAR\\r35,56,71,45,CAR\\r20,24,83,55,CAR\\r31,25,64,45,CAR\\r35,50,80,49,CAR\\r34,77,70,60,CAR\\r65,50,90,30,TRAIN\\r45,60,70,32,TRAIN\\r59,37,91,35,TRAIN\\r58,55,60,42,TRAIN\\r55,99,115,60,CAR\\r26,28,31,39,CAR\\r50,80,65,39,CAR\\r12,12,35,22,CAR\\r15,12,13,7,CAR\\r45,50,57,31,CAR\\r69,57,75,36,CAR\\r20,30,51,33,CAR\\r32,44,88,20,CAR\\r60,52,56,26,TRAIN\\r22,28,39,14,CAR\\r65,65,50,25,TRAIN\\r12,16,45,30,CAR\\r25,60,45,28,CAR\\r60,60,80,28,CAR\\r30,48,53,40,CAR\\r38,56,95,30,CAR\\r21,30,42,24,CAR\\r30,54,61,30,CAR\\r26,20,100,60,CAR\\r35,60,50,34,TRAIN\\r35,65,55,31,TRAIN\\r25,50,40,17,CAR\\r40,40,95,50,CAR\\r65,60,137,65,TRAIN\\r31,40,55,35,CAR\\r30,50,37,20,CAR\\r30,50,3,45,CAR\\r25,30,36,47,CAR\\r15,10,45,12,CAR\\r30,22,60,25,CAR\\r14,25,28,12,CAR\\r65,94,71,50,TRAIN\\r70,25,77,26,TRAIN\\r28,20,54,36,CAR\\r55,30,100,40,CAR\\r50,35,88,51,CAR\\r65,75,62,30,TRAIN\\r25,20,70,16,CAR\\r50,40,95,70,CAR\\r32,25,86,65,CAR\\r43,60,55,26,CAR\\r27,40,65,75,CAR\\r35,30,90,97,CAR\\r69,55,74,27,TRAIN\\r85,92,65,28,TRAIN\\r45,70,56,35,TRAIN\\r50,75,65,27,TRAIN\\r32,99,65,70,CAR\\r50,70,60,26,TRAIN\\r45,52,46,22,CAR\\r35,30,65,25,CAR\\r70,100,62,26,TRAIN\\r30,40,50,40,CAR\\r25,40,90,48,TRAIN\\r40,80,99,57,CAR\\r30,42,70,36,TRAIN\\r50,50,60,45,TRAIN\\r25,32,60,52,CAR\\r90,70,73,68,CAR\\r75,61,60,36,CAR\\r30,50,58,38,TRAIN\\r45,50,77,57,CAR\\r20,40,95,42,CAR\\r60,99,73,31,TRAIN\\r45,99,72,31,TRAIN\\r45,99,73,31,TRAIN\\r70,50,67,36,TRAIN\\r20,50,78,41,CAR\\r25,70,68,34,CAR\\r40,50,65,59,CAR\\r25,20,64,41,CAR\\r40,50,77,52,CAR\\r75,72,65,36,TRAIN\\r55,50,63,33,TRAIN\\r50,70,99,33,TRAIN\\r75,60,75,31,TRAIN\\r95,70,70,31,TRAIN\\r22,20,70,32,CAR\\r48,100,90,67,CAR\\r35,75,85,65,CAR\\r60,40,72,33,CAR\\r47,55,67,26,TRAIN\\r53,72,68,26,TRAIN\\r62,92,60,32,TRAIN\\r55,76,75,26,CAR\\r30,50,72,72,CAR\\r25,15,50,42,CAR\\r25,30,47,15,CAR\\r60,68,64,50,CAR\\r60,30,99,58,CAR\\r60,110,63,30,TRAIN\\r53,60,59,25,TRAIN\\r30,50,70,80,CAR\\r25,25,78,50,CAR\\r60,30,80,55,CAR\\r25,30,70,65,CAR\\r55,60,7,32,CAR\\r70,70,65,33,CAR\\r50,50,55,35,CAR\\r45,50,60,28,CAR\\r30,64,70,26,TRAIN\\r30,64,66,37,CAR\\r70,60,70,26,TRAIN\\r60,53,69,26,TRAIN\\r30,40,65,26,TRAIN\\r35,50,112,60,CAR\\r60,60,76,31,TRAIN\\r50,40,66,26,TRAIN\\r65,60,60,52,CAR\\r60,60,80,26,TRAIN\\r47,56,75,54,CAR\\r50,99,72,38,TRAIN\\r85,40,69,31,TRAIN\\r65,50,63,36,TRAIN\\r43,60,112,46,TRAIN\\r70,99,90,40,TRAIN\\r38,30,53,30,TRAIN\\r46,136,70,30,TRAIN\\r70,84,75,38,TRAIN\\r15,26,32,20,CAR\\r45,36,94,44,CAR\\r70,59,76,30,TRAIN\\r30,40,50,48,CAR\\r50,10,45,38,CAR\\r46,180,73,29,TRAIN\\r10,20,37,26,CAR\\r40,114,76,44,TRAIN\\r55,80,68,28,TRAIN\\r45,72,80,56,TRAIN\\r20,20,38,14,CAR\\r60,60,53,37,CAR\\r60,99,74,33,TRAIN\\r55,68,70,30,CAR\\r65,90,55,26,TRAIN\\r45,68,84,48,TRAIN\\r37,60,75,60,CAR\\r70,148,75,26,TRAIN\\r40,80,55,26,TRAIN\\r25,20,22,25,CAR\\r35,25,85,59,CAR\\r35,45,73,55,CAR\\r12,9,18,10,CAR\\r45,40,85,58,CAR\\r23,30,100,25,CAR\\r30,25,55,25,CAR\\r37,30,57,60,CAR\\r35,20,60,26,TRAIN\\r60,60,53,38,TRAIN\\r65,68,76,43,TRAIN\\r30,50,57,22,TRAIN\\r65,85,73,32,TRAIN\\r40,145,73,26,TRAIN\\r70,50,53,25,TRAIN\\r70,75,128,50,TRAIN\\r65,40,56,33,CAR\\r50,68,77,40,CAR\\r60,152,65,50,CAR\\r95,75,72,28,TRAIN\\r50,75,62,26,TRAIN\\r13,37,56,30,CAR\\r70,60,97,38,TRAIN\\r65,15,62,36,CAR\\r35,40,75,35,CAR\\r55,30,80,50,CAR\\r35,30,57,43,CAR\\r40,40,50,20,CAR\\r35,52,45,40,CAR\\r34,40,70,32,CAR\\r50,143,61,26,TRAIN\\r80,99,66,27,TRAIN\\r13,15,26,9,CAR\\r50,30,54,26,TRAIN\\r25,30,45,28,CAR\\r33,32,37,31,CAR\\r55,68,60,25,TRAIN\\r45,60,77,40,TRAIN\\r30,48,43,41,CAR\\r35,40,94,80,CAR\\r63,72,90,50,CAR\\r70,60,78,26,TRAIN\\r20,20,45,30,CAR\\r91,48,102,65,CAR\\r55,80,53,26,TRAIN\\r40,30,125,45,CAR\\r40,60,47,41,TRAIN\\r65,150,70,36,TRAIN\\r50,150,70,38,TRAIN\\r37,40,76,39,TRAIN\\r60,50,62,58,CAR\\r62,68,69,44,CAR\\r26,20,48,37,CAR\\r55,75,66,36,TRAIN\\r60,60,79,40,TRAIN\\r20,20,71,42,CAR\\r30,30,69,77,CAR\\r25,30,60,37,CAR\\r35,30,69,58,TRAIN\\r45,60,40,29,TRAIN\\r37,30,71,42,CAR\\r60,74,75,33,TRAIN\\r43,40,50,38,CAR\\r15,15,50,40,CAR\\r28,25,90,52,CAR\\r70,150,62,36,TRAIN\\r17,28,73,52,CAR\\r45,65,60,31,TRAIN\\r45,63,71,61,CAR\\r55,84,68,14,TRAIN\\r60,60,82,36,TRAIN\\r60,40,72,20,TRAIN\\r35,72,72,75,CAR\\r51,138,62,37,TRAIN\\r68,76,62,32,TRAIN\\r22,46,77,32,CAR\\r15,24,20,14,CAR\\r58,60,82,38,TRAIN\\r40,30,70,55,CAR\\r70,71,81,38,TRAIN\\r30,25,43,34,CAR\\r15,35,38,32,CAR\\r80,84,67,36,TRAIN\\r50,25,68,55,CAR\\r45,40,65,48,CAR\\r45,65,80,41,TRAIN\\r70,70,83,22,TRAIN\\r61,65,57,35,TRAIN\\r60,78,75,60,CAR\\r70,74,57,36,TRAIN\\r75,50,76,38,TRAIN\\r30,50,42,30,TRAIN\\r60,82,80,33,CAR\\r40,50,80,33,TRAIN\\r30,30,75,54,CAR\\r30,48,85,57,CAR\\r55,78,78,36,CAR\\r30,40,72,46,CAR\\r75,140,80,55,CAR\\r60,74,72,36,TRAIN\\r46,67,77,55,CAR\\r70,64,60,35,TRAIN\\r52,160,80,30,TRAIN\\r40,56,60,49,CAR\\r60,144,66,38,TRAIN\\r30,20,59,40,CAR\\r15,28,48,32,CAR\\r30,36,32,24,TRAIN\\r70,35,67,55,CAR\\r85,134,67,40,TRAIN\\r60,72,60,41,TRAIN\\r65,60,65,31,TRAIN\\r40,50,91,71,CAR\\r50,64,70,53,CAR\\r75,154,60,34,TRAIN\\r30,48,60,47,CAR\\r60,180,64,33,TRAIN\\r60,80,75,36,TRAIN\\r68,30,65,26,TRAIN\\r65,88,76,41,TRAIN\\r65,60,73,26,TRAIN\\r37,40,57,26,TRAIN\\r45,35,65,35,TRAIN\\r65,137,73,33,TRAIN\\r60,145,54,36,TRAIN\\r55,140,74,36,TRAIN\\r60,100,50,36,TRAIN\\r65,50,100,50,CAR\\r50,140,85,63,CAR\\r75,72,63,30,TRAIN\\r35,30,48,29,TRAIN\\r15,24,28,25,CAR\\r53,56,42,26,TRAIN\\r25,60,65,31,CAR\\r45,54,67,33,CAR\\r25,28,48,39,CAR\\r27,50,52,40,CAR\\r25,25,63,80,CAR\\r50,50,80,50,CAR\\r25,25,39,20,CAR\\r35,64,95,40,CAR'}\n"
          ],
          "name": "stdout"
        }
      ]
    },
    {
      "cell_type": "code",
      "metadata": {
        "id": "uhRMTz4BXcm1"
      },
      "source": [
        "sydney = pd.read_csv(\"sydney.csv\")"
      ],
      "execution_count": 18,
      "outputs": []
    },
    {
      "cell_type": "code",
      "metadata": {
        "id": "Ptilr4KT2D3v",
        "colab": {
          "base_uri": "https://localhost:8080/"
        },
        "outputId": "e68c84dc-973c-4eb4-c6eb-e33e973d27fb"
      },
      "source": [
        "# creamos listas que permitan pasar de una varaible tipo string a una tipo binaria o dummy\r\n",
        "response_to_binary = {'TRAIN':1, 'CAR':0}\r\n",
        "\r\n",
        "#la funcion \"map()\" ejecuta una función sobre cada uno de los elementos de un iterador \r\n",
        "#(generalmente una lista o tupla) y retorna un nuevo iterador cuyos elementos \r\n",
        "#son el resultado de dicha operación.\r\n",
        "y = sydney['choice'].map(response_to_binary)\r\n",
        "y"
      ],
      "execution_count": 19,
      "outputs": [
        {
          "output_type": "execute_result",
          "data": {
            "text/plain": [
              "0      1\n",
              "1      1\n",
              "2      0\n",
              "3      0\n",
              "4      1\n",
              "      ..\n",
              "328    0\n",
              "329    0\n",
              "330    0\n",
              "331    0\n",
              "332    0\n",
              "Name: choice, Length: 333, dtype: int64"
            ]
          },
          "metadata": {
            "tags": []
          },
          "execution_count": 19
        }
      ]
    },
    {
      "cell_type": "code",
      "metadata": {
        "colab": {
          "base_uri": "https://localhost:8080/"
        },
        "id": "AzsJt8G5XSFx",
        "outputId": "585e9664-ee3b-4c56-e1a0-e5f17dbddf2b"
      },
      "source": [
        "#creamos objetos individuales con las columnas de las variables\r\n",
        "cartime = sydney['cartime']\r\n",
        "carcost = sydney['carcost']\r\n",
        "traintime = sydney['traintime']\r\n",
        "traincost = sydney['traincost']"
      ],
      "execution_count": 22,
      "outputs": [
        {
          "output_type": "execute_result",
          "data": {
            "text/plain": [
              "0      70\n",
              "1      50\n",
              "2      50\n",
              "3      60\n",
              "4      70\n",
              "       ..\n",
              "328    27\n",
              "329    25\n",
              "330    50\n",
              "331    25\n",
              "332    35\n",
              "Name: cartime, Length: 333, dtype: int64"
            ]
          },
          "metadata": {
            "tags": []
          },
          "execution_count": 22
        }
      ]
    },
    {
      "cell_type": "code",
      "metadata": {
        "id": "FuL8rwwy28Z2",
        "colab": {
          "base_uri": "https://localhost:8080/"
        },
        "outputId": "3945843b-d378-4631-b139-7971f36f9b69"
      },
      "source": [
        "# definimos una matriz para el predictor lineal\r\n",
        "\r\n",
        "#creamos un array del mismo tamaño de \"y\" y completada con \"1\"s\r\n",
        "Intercept = np.array([1] * len(y))\r\n",
        "\r\n",
        "#creamos una variable x con las varaibles rpredictoras e \"Intercept\"\r\n",
        "x = np.array([Intercept, cartime, carcost, traintime, traincost]).T\r\n",
        "print(x)"
      ],
      "execution_count": 25,
      "outputs": [
        {
          "output_type": "stream",
          "text": [
            "[[  1  70  50  64  39]\n",
            " [  1  50 230  60  32]\n",
            " [  1  50  70  58  40]\n",
            " ...\n",
            " [  1  50  50  80  50]\n",
            " [  1  25  25  39  20]\n",
            " [  1  35  64  95  40]]\n"
          ],
          "name": "stdout"
        }
      ]
    },
    {
      "cell_type": "code",
      "metadata": {
        "colab": {
          "base_uri": "https://localhost:8080/"
        },
        "id": "FBHZtV28ZMDz",
        "outputId": "863c302a-a7d0-4948-d482-fe1bc6336e39"
      },
      "source": [
        "# modelo linear generalizado para  regresión logistica}\r\n",
        "logistic_regression = sm.GLM(y, x, family=sm.families.Binomial())\r\n",
        "#la función GLM de sm funciona igual que R\r\n"
      ],
      "execution_count": 26,
      "outputs": [
        {
          "output_type": "execute_result",
          "data": {
            "text/plain": [
              "<statsmodels.genmod.generalized_linear_model.GLM at 0x7f1ec68008d0>"
            ]
          },
          "metadata": {
            "tags": []
          },
          "execution_count": 26
        }
      ]
    },
    {
      "cell_type": "code",
      "metadata": {
        "colab": {
          "base_uri": "https://localhost:8080/"
        },
        "id": "MFjwPFoPaZP6",
        "outputId": "4330cb5d-9be1-49ec-eb3e-e675ea792b98"
      },
      "source": [
        "#creamos el ajuste del modelo e imprimimos el resultado\r\n",
        "sydney_fit = logistic_regression.fit()\r\n",
        "print(sydney_fit.summary())"
      ],
      "execution_count": 27,
      "outputs": [
        {
          "output_type": "stream",
          "text": [
            "                 Generalized Linear Model Regression Results                  \n",
            "==============================================================================\n",
            "Dep. Variable:                 choice   No. Observations:                  333\n",
            "Model:                            GLM   Df Residuals:                      328\n",
            "Model Family:                Binomial   Df Model:                            4\n",
            "Link Function:                  logit   Scale:                          1.0000\n",
            "Method:                          IRLS   Log-Likelihood:                -136.32\n",
            "Date:                Wed, 17 Mar 2021   Deviance:                       272.63\n",
            "Time:                        13:39:46   Pearson chi2:                     326.\n",
            "No. Iterations:                     6                                         \n",
            "Covariance Type:            nonrobust                                         \n",
            "==============================================================================\n",
            "                 coef    std err          z      P>|z|      [0.025      0.975]\n",
            "------------------------------------------------------------------------------\n",
            "const         -1.4440      0.585     -2.468      0.014      -2.591      -0.297\n",
            "x1             0.0565      0.011      5.179      0.000       0.035       0.078\n",
            "x2             0.0298      0.007      4.283      0.000       0.016       0.043\n",
            "x3             0.0149      0.009      1.573      0.116      -0.004       0.034\n",
            "x4            -0.1113      0.017     -6.736      0.000      -0.144      -0.079\n",
            "==============================================================================\n"
          ],
          "name": "stdout"
        }
      ]
    },
    {
      "cell_type": "code",
      "metadata": {
        "colab": {
          "base_uri": "https://localhost:8080/"
        },
        "id": "A3Gb_n4nag9g",
        "outputId": "11a9dea0-7f17-44a4-b5ef-354abf45dee6"
      },
      "source": [
        "#creamos la varaible \"train_prob\" que indicara la redicion de uso del tren\r\n",
        "sydney['train_prob'] = sydney_fit.predict(linear = False) #agregamos el falso para que sea regresion logistica\r\n",
        "sydney['train_prob']"
      ],
      "execution_count": 30,
      "outputs": [
        {
          "output_type": "execute_result",
          "data": {
            "text/plain": [
              "0      0.649733\n",
              "1      0.996237\n",
              "2      0.470977\n",
              "3      0.414966\n",
              "4      0.918547\n",
              "         ...   \n",
              "328    0.108880\n",
              "329    0.000710\n",
              "330    0.182752\n",
              "331    0.283052\n",
              "332    0.356422\n",
              "Name: train_prob, Length: 333, dtype: float64"
            ]
          },
          "metadata": {
            "tags": []
          },
          "execution_count": 30
        }
      ]
    },
    {
      "cell_type": "code",
      "metadata": {
        "id": "bQw1EvBmZt2d"
      },
      "source": [
        "# función para convertir la probabilidad en una predicción de la elección que ahcen sobre el tren vs auto\r\n",
        "# si la respuesta esta por encima de \"cutoff\" sera train, caso contrario car.\r\n",
        "def prob_to_response(response_prob, cutoff):\r\n",
        "  if(response_prob > cutoff):\r\n",
        "    return('TRAIN')\r\n",
        "  else:\r\n",
        "    return('CAR')"
      ],
      "execution_count": 36,
      "outputs": []
    },
    {
      "cell_type": "code",
      "metadata": {
        "colab": {
          "base_uri": "https://localhost:8080/",
          "height": 202
        },
        "id": "mwkRNc45a5PU",
        "outputId": "51664880-184b-48ec-969a-149076aa5295"
      },
      "source": [
        "# añadimos predicciones binarias al data frame de sydney usando el valor de cutoff\r\n",
        "sydney['choice_pred'] = \\\r\n",
        "sydney['train_prob'].apply(lambda d: prob_to_response(d, cutoff = 0.50))\r\n",
        "# En lugar de usar def para definir nuestra función, hemos utilizado la palabra clave lambda; \r\n",
        "# a continuación escribimos x, y como argumentos de la función, y x + y como expresión.\r\n",
        "sydney.head()"
      ],
      "execution_count": 40,
      "outputs": [
        {
          "output_type": "execute_result",
          "data": {
            "text/html": [
              "<div>\n",
              "<style scoped>\n",
              "    .dataframe tbody tr th:only-of-type {\n",
              "        vertical-align: middle;\n",
              "    }\n",
              "\n",
              "    .dataframe tbody tr th {\n",
              "        vertical-align: top;\n",
              "    }\n",
              "\n",
              "    .dataframe thead th {\n",
              "        text-align: right;\n",
              "    }\n",
              "</style>\n",
              "<table border=\"1\" class=\"dataframe\">\n",
              "  <thead>\n",
              "    <tr style=\"text-align: right;\">\n",
              "      <th></th>\n",
              "      <th>cartime</th>\n",
              "      <th>carcost</th>\n",
              "      <th>traintime</th>\n",
              "      <th>traincost</th>\n",
              "      <th>choice</th>\n",
              "      <th>train_prob</th>\n",
              "      <th>choice_pred</th>\n",
              "    </tr>\n",
              "  </thead>\n",
              "  <tbody>\n",
              "    <tr>\n",
              "      <th>0</th>\n",
              "      <td>70</td>\n",
              "      <td>50</td>\n",
              "      <td>64</td>\n",
              "      <td>39</td>\n",
              "      <td>TRAIN</td>\n",
              "      <td>0.649733</td>\n",
              "      <td>TRAIN</td>\n",
              "    </tr>\n",
              "    <tr>\n",
              "      <th>1</th>\n",
              "      <td>50</td>\n",
              "      <td>230</td>\n",
              "      <td>60</td>\n",
              "      <td>32</td>\n",
              "      <td>TRAIN</td>\n",
              "      <td>0.996237</td>\n",
              "      <td>TRAIN</td>\n",
              "    </tr>\n",
              "    <tr>\n",
              "      <th>2</th>\n",
              "      <td>50</td>\n",
              "      <td>70</td>\n",
              "      <td>58</td>\n",
              "      <td>40</td>\n",
              "      <td>CAR</td>\n",
              "      <td>0.470977</td>\n",
              "      <td>CAR</td>\n",
              "    </tr>\n",
              "    <tr>\n",
              "      <th>3</th>\n",
              "      <td>60</td>\n",
              "      <td>108</td>\n",
              "      <td>93</td>\n",
              "      <td>62</td>\n",
              "      <td>CAR</td>\n",
              "      <td>0.414966</td>\n",
              "      <td>CAR</td>\n",
              "    </tr>\n",
              "    <tr>\n",
              "      <th>4</th>\n",
              "      <td>70</td>\n",
              "      <td>60</td>\n",
              "      <td>68</td>\n",
              "      <td>26</td>\n",
              "      <td>TRAIN</td>\n",
              "      <td>0.918547</td>\n",
              "      <td>TRAIN</td>\n",
              "    </tr>\n",
              "  </tbody>\n",
              "</table>\n",
              "</div>"
            ],
            "text/plain": [
              "   cartime  carcost  traintime  traincost choice  train_prob choice_pred\n",
              "0       70       50         64         39  TRAIN    0.649733       TRAIN\n",
              "1       50      230         60         32  TRAIN    0.996237       TRAIN\n",
              "2       50       70         58         40    CAR    0.470977         CAR\n",
              "3       60      108         93         62    CAR    0.414966         CAR\n",
              "4       70       60         68         26  TRAIN    0.918547       TRAIN"
            ]
          },
          "metadata": {
            "tags": []
          },
          "execution_count": 40
        }
      ]
    },
    {
      "cell_type": "code",
      "metadata": {
        "colab": {
          "base_uri": "https://localhost:8080/",
          "height": 141
        },
        "id": "aQAmSvYabhis",
        "outputId": "d1fdc4bf-64d6-4bc6-fa9e-1ff0f8e3d388"
      },
      "source": [
        "# evaluamos la performance del modelo de regresion logistica\r\n",
        "# obtenemos una matriz de confusión y proporcion de la observaciones correctamente PREDICHAS\r\n",
        "# de esa forma observamos que porcentaje de aceierto tenemos\r\n",
        "\r\n",
        "#creamos tabla con la predicción y la elección real\r\n",
        "# la funcion \"crosstab\" crea una tabal de frecuencias\r\n",
        "cmat = pd.crosstab(sydney['choice_pred'], sydney['choice'])\r\n",
        "cmat"
      ],
      "execution_count": 43,
      "outputs": [
        {
          "output_type": "execute_result",
          "data": {
            "text/html": [
              "<div>\n",
              "<style scoped>\n",
              "    .dataframe tbody tr th:only-of-type {\n",
              "        vertical-align: middle;\n",
              "    }\n",
              "\n",
              "    .dataframe tbody tr th {\n",
              "        vertical-align: top;\n",
              "    }\n",
              "\n",
              "    .dataframe thead th {\n",
              "        text-align: right;\n",
              "    }\n",
              "</style>\n",
              "<table border=\"1\" class=\"dataframe\">\n",
              "  <thead>\n",
              "    <tr style=\"text-align: right;\">\n",
              "      <th>choice</th>\n",
              "      <th>CAR</th>\n",
              "      <th>TRAIN</th>\n",
              "    </tr>\n",
              "    <tr>\n",
              "      <th>choice_pred</th>\n",
              "      <th></th>\n",
              "      <th></th>\n",
              "    </tr>\n",
              "  </thead>\n",
              "  <tbody>\n",
              "    <tr>\n",
              "      <th>CAR</th>\n",
              "      <td>155</td>\n",
              "      <td>30</td>\n",
              "    </tr>\n",
              "    <tr>\n",
              "      <th>TRAIN</th>\n",
              "      <td>28</td>\n",
              "      <td>120</td>\n",
              "    </tr>\n",
              "  </tbody>\n",
              "</table>\n",
              "</div>"
            ],
            "text/plain": [
              "choice       CAR  TRAIN\n",
              "choice_pred            \n",
              "CAR          155     30\n",
              "TRAIN         28    120"
            ]
          },
          "metadata": {
            "tags": []
          },
          "execution_count": 43
        }
      ]
    },
    {
      "cell_type": "code",
      "metadata": {
        "colab": {
          "base_uri": "https://localhost:8080/"
        },
        "id": "MY4d2cymdXYi",
        "outputId": "29a196aa-8085-4535-bd82-72290897cde0"
      },
      "source": [
        "#la funcion \".ix[]\" permite cortar la tabla segun nuesstras indicaciones\r\n",
        "#funion de la mima forma que \"loc\" o \"iloc\". Utilizo iloc, es mas facil\r\n",
        "a = float(cmat.iloc[0,0])\r\n",
        "b = float(cmat.iloc[0,1])\r\n",
        "c = float(cmat.iloc[1,0])\r\n",
        "d = float(cmat.iloc[1,1])\r\n",
        "n = a + b + c + d\r\n",
        "print(n)\r\n",
        "#la suma del total de registros"
      ],
      "execution_count": 47,
      "outputs": [
        {
          "output_type": "stream",
          "text": [
            "333.0\n"
          ],
          "name": "stdout"
        }
      ]
    },
    {
      "cell_type": "code",
      "metadata": {
        "colab": {
          "base_uri": "https://localhost:8080/"
        },
        "id": "Ayfpda8hdZv_",
        "outputId": "6c296eef-66f7-4a50-96b6-0c12288d697f"
      },
      "source": [
        "#calculamos el acierto del modelo\r\n",
        "predictive_accuracy = (a + d)/n\r\n",
        "print(cmat)\r\n",
        "print('\\n Percentage Correctly Predicted',\\\r\n",
        "round(predictive_accuracy, 3), \"\\n\")"
      ],
      "execution_count": 48,
      "outputs": [
        {
          "output_type": "stream",
          "text": [
            "choice       CAR  TRAIN\n",
            "choice_pred            \n",
            "CAR          155     30\n",
            "TRAIN         28    120\n",
            "\n",
            " Percentage Correctly Predicted 0.826 \n",
            "\n"
          ],
          "name": "stdout"
        }
      ]
    }
  ]
}