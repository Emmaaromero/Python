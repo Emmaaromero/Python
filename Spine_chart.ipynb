{
  "nbformat": 4,
  "nbformat_minor": 0,
  "metadata": {
    "colab": {
      "name": "Spine chart.ipynb",
      "provenance": []
    },
    "kernelspec": {
      "name": "python3",
      "display_name": "Python 3"
    }
  },
  "cells": [
    {
      "cell_type": "code",
      "metadata": {
        "id": "o7yE4c0zNdjV"
      },
      "source": [
        "# Traditional Conjoint Analysis (Python)\r\n",
        "# prepare for Python version 3x features and functions\r\n",
        "from __future__ import division, print_function\r\n",
        "# import packages for analysis and modeling\r\n"
      ],
      "execution_count": null,
      "outputs": []
    },
    {
      "cell_type": "code",
      "metadata": {
        "colab": {
          "resources": {
            "http://localhost:8080/nbextensions/google.colab/files.js": {
              "data": "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",
              "ok": true,
              "headers": [
                [
                  "content-type",
                  "application/javascript"
                ]
              ],
              "status": 200,
              "status_text": ""
            }
          },
          "base_uri": "https://localhost:8080/",
          "height": 72
        },
        "id": "V3wyPK-aNp-y",
        "outputId": "853f7989-df80-4e41-bcd8-8b4de64669e5"
      },
      "source": [
        "import pandas as pd # data frame operations\r\n",
        "import numpy as np # arrays and math functions\r\n",
        "import statsmodels.api as sm # statistical models (including regression)\r\n",
        "import statsmodels.formula.api as smf # R-like model specification\r\n",
        "from patsy.contrasts import Sum\r\n",
        "# read in conjoint survey profiles with respondent ranks\r\n",
        "#conjoint_data_frame = pd.read_csv('mobile_services_ranking.csv')\r\n",
        "from google.colab import files\r\n",
        "uploaded = files.upload()\r\n"
      ],
      "execution_count": null,
      "outputs": [
        {
          "output_type": "display_data",
          "data": {
            "text/html": [
              "\n",
              "     <input type=\"file\" id=\"files-2de6b8fb-219b-45ed-97d8-fc6a201226fd\" name=\"files[]\" multiple disabled\n",
              "        style=\"border:none\" />\n",
              "     <output id=\"result-2de6b8fb-219b-45ed-97d8-fc6a201226fd\">\n",
              "      Upload widget is only available when the cell has been executed in the\n",
              "      current browser session. Please rerun this cell to enable.\n",
              "      </output>\n",
              "      <script src=\"/nbextensions/google.colab/files.js\"></script> "
            ],
            "text/plain": [
              "<IPython.core.display.HTML object>"
            ]
          },
          "metadata": {
            "tags": []
          }
        },
        {
          "output_type": "stream",
          "text": [
            "Saving mobile_services_ranking.csv to mobile_services_ranking.csv\n"
          ],
          "name": "stdout"
        }
      ]
    },
    {
      "cell_type": "code",
      "metadata": {
        "colab": {
          "base_uri": "https://localhost:8080/",
          "height": 202
        },
        "id": "A77R4kSsPt3S",
        "outputId": "8ed53a07-bd83-4341-be35-a58e6bf3eed1"
      },
      "source": [
        "conjoint_data_frame = pd.read_csv('mobile_services_ranking.csv')\r\n",
        "conjoint_data_frame.head()"
      ],
      "execution_count": null,
      "outputs": [
        {
          "output_type": "execute_result",
          "data": {
            "text/html": [
              "<div>\n",
              "<style scoped>\n",
              "    .dataframe tbody tr th:only-of-type {\n",
              "        vertical-align: middle;\n",
              "    }\n",
              "\n",
              "    .dataframe tbody tr th {\n",
              "        vertical-align: top;\n",
              "    }\n",
              "\n",
              "    .dataframe thead th {\n",
              "        text-align: right;\n",
              "    }\n",
              "</style>\n",
              "<table border=\"1\" class=\"dataframe\">\n",
              "  <thead>\n",
              "    <tr style=\"text-align: right;\">\n",
              "      <th></th>\n",
              "      <th>brand</th>\n",
              "      <th>startup</th>\n",
              "      <th>monthly</th>\n",
              "      <th>service</th>\n",
              "      <th>retail</th>\n",
              "      <th>apple</th>\n",
              "      <th>samsung</th>\n",
              "      <th>google</th>\n",
              "      <th>ranking</th>\n",
              "    </tr>\n",
              "  </thead>\n",
              "  <tbody>\n",
              "    <tr>\n",
              "      <th>0</th>\n",
              "      <td>\"AT&amp;T\"</td>\n",
              "      <td>\"$100\"</td>\n",
              "      <td>\"$100\"</td>\n",
              "      <td>\"4G NO\"</td>\n",
              "      <td>\"Retail NO\"</td>\n",
              "      <td>\"Apple NO\"</td>\n",
              "      <td>\"Samsung NO\"</td>\n",
              "      <td>\"Nexus NO\"</td>\n",
              "      <td>11</td>\n",
              "    </tr>\n",
              "    <tr>\n",
              "      <th>1</th>\n",
              "      <td>\"Verizon\"</td>\n",
              "      <td>\"$300\"</td>\n",
              "      <td>\"$100\"</td>\n",
              "      <td>\"4G NO\"</td>\n",
              "      <td>\"Retail YES\"</td>\n",
              "      <td>\"Apple YES\"</td>\n",
              "      <td>\"Samsung YES\"</td>\n",
              "      <td>\"Nexus NO\"</td>\n",
              "      <td>12</td>\n",
              "    </tr>\n",
              "    <tr>\n",
              "      <th>2</th>\n",
              "      <td>\"US Cellular\"</td>\n",
              "      <td>\"$400\"</td>\n",
              "      <td>\"$200\"</td>\n",
              "      <td>\"4G NO\"</td>\n",
              "      <td>\"Retail NO\"</td>\n",
              "      <td>\"Apple NO\"</td>\n",
              "      <td>\"Samsung YES\"</td>\n",
              "      <td>\"Nexus NO\"</td>\n",
              "      <td>9</td>\n",
              "    </tr>\n",
              "    <tr>\n",
              "      <th>3</th>\n",
              "      <td>\"Verizon\"</td>\n",
              "      <td>\"$400\"</td>\n",
              "      <td>\"$400\"</td>\n",
              "      <td>\"4G YES\"</td>\n",
              "      <td>\"Retail YES\"</td>\n",
              "      <td>\"Apple NO\"</td>\n",
              "      <td>\"Samsung NO\"</td>\n",
              "      <td>\"Nexus NO\"</td>\n",
              "      <td>2</td>\n",
              "    </tr>\n",
              "    <tr>\n",
              "      <th>4</th>\n",
              "      <td>\"Verizon\"</td>\n",
              "      <td>\"$200\"</td>\n",
              "      <td>\"$300\"</td>\n",
              "      <td>\"4G NO\"</td>\n",
              "      <td>\"Retail NO\"</td>\n",
              "      <td>\"Apple NO\"</td>\n",
              "      <td>\"Samsung YES\"</td>\n",
              "      <td>\"Nexus YES\"</td>\n",
              "      <td>8</td>\n",
              "    </tr>\n",
              "  </tbody>\n",
              "</table>\n",
              "</div>"
            ],
            "text/plain": [
              "           brand startup monthly  ...        samsung       google ranking\n",
              "0         \"AT&T\"  \"$100\"  \"$100\"  ...   \"Samsung NO\"   \"Nexus NO\"      11\n",
              "1      \"Verizon\"  \"$300\"  \"$100\"  ...  \"Samsung YES\"   \"Nexus NO\"      12\n",
              "2  \"US Cellular\"  \"$400\"  \"$200\"  ...  \"Samsung YES\"   \"Nexus NO\"       9\n",
              "3      \"Verizon\"  \"$400\"  \"$400\"  ...   \"Samsung NO\"   \"Nexus NO\"       2\n",
              "4      \"Verizon\"  \"$200\"  \"$300\"  ...  \"Samsung YES\"  \"Nexus YES\"       8\n",
              "\n",
              "[5 rows x 9 columns]"
            ]
          },
          "metadata": {
            "tags": []
          },
          "execution_count": 17
        }
      ]
    },
    {
      "cell_type": "code",
      "metadata": {
        "colab": {
          "base_uri": "https://localhost:8080/",
          "height": 34
        },
        "id": "fqU4Xq0qNtai",
        "outputId": "f8522e1f-d6b3-4033-c04a-f5c3b846b3f4"
      },
      "source": [
        "# set up sum contrasts for effects coding as needed for conjoint analysis\r\n",
        "# using C(effect, Sum) notation within main effects model specification\r\n",
        "main_effects_model = 'ranking ~ C(brand, Sum) + C(startup, Sum) + \\\r\n",
        "C(monthly, Sum) + C(service, Sum) + C(retail, Sum) + C(apple, Sum) + \\\r\n",
        "C(samsung, Sum) + C(google, Sum)'\r\n",
        "main_effects_model"
      ],
      "execution_count": null,
      "outputs": [
        {
          "output_type": "execute_result",
          "data": {
            "application/vnd.google.colaboratory.intrinsic+json": {
              "type": "string"
            },
            "text/plain": [
              "'ranking ~ C(brand, Sum) + C(startup, Sum) + C(monthly, Sum) + C(service, Sum) + C(retail, Sum) + C(apple, Sum) + C(samsung, Sum) + C(google, Sum)'"
            ]
          },
          "metadata": {
            "tags": []
          },
          "execution_count": 16
        }
      ]
    },
    {
      "cell_type": "code",
      "metadata": {
        "id": "H9L2BWkNOLEo"
      },
      "source": [
        "# fit linear regression model using main effects only (no interaction terms)\r\n",
        "main_effects_model_fit = \\\r\n",
        "smf.ols(main_effects_model, data = conjoint_data_frame).fit()\r\n",
        "\r\n",
        "\r\n"
      ],
      "execution_count": null,
      "outputs": []
    },
    {
      "cell_type": "code",
      "metadata": {
        "colab": {
          "base_uri": "https://localhost:8080/"
        },
        "id": "FADQV9k_O6hO",
        "outputId": "31c156f3-7bb7-4b7e-b5d9-55d50033f2c8"
      },
      "source": [
        "print(main_effects_model_fit.summary())\r\n",
        "\r\n"
      ],
      "execution_count": null,
      "outputs": [
        {
          "output_type": "stream",
          "text": [
            "                            OLS Regression Results                            \n",
            "==============================================================================\n",
            "Dep. Variable:                ranking   R-squared:                       0.999\n",
            "Model:                            OLS   Adj. R-squared:                  0.989\n",
            "Method:                 Least Squares   F-statistic:                     97.07\n",
            "Date:                Tue, 16 Mar 2021   Prob (F-statistic):             0.0794\n",
            "Time:                        13:35:27   Log-Likelihood:                 10.568\n",
            "No. Observations:                  16   AIC:                             8.864\n",
            "Df Residuals:                       1   BIC:                             20.45\n",
            "Df Model:                          14                                         \n",
            "Covariance Type:            nonrobust                                         \n",
            "===================================================================================================\n",
            "                                      coef    std err          t      P>|t|      [0.025      0.975]\n",
            "---------------------------------------------------------------------------------------------------\n",
            "Intercept                           8.5000      0.125     68.000      0.009       6.912      10.088\n",
            "C(brand, Sum)[S.\"AT&T\"]         -8.882e-16      0.217   -4.1e-15      1.000      -2.751       2.751\n",
            "C(brand, Sum)[S.\"T-Mobile\"]        -0.2500      0.217     -1.155      0.454      -3.001       2.501\n",
            "C(brand, Sum)[S.\"US Cellular\"]    2.22e-16      0.217   1.03e-15      1.000      -2.751       2.751\n",
            "C(startup, Sum)[S.\"$100\"]           0.7500      0.217      3.464      0.179      -2.001       3.501\n",
            "C(startup, Sum)[S.\"$200\"]       -1.371e-14      0.217  -6.33e-14      1.000      -2.751       2.751\n",
            "C(startup, Sum)[S.\"$300\"]        3.109e-15      0.217   1.44e-14      1.000      -2.751       2.751\n",
            "C(monthly, Sum)[S.\"$100\"]           5.0000      0.217     23.094      0.028       2.249       7.751\n",
            "C(monthly, Sum)[S.\"$200\"]           2.0000      0.217      9.238      0.069      -0.751       4.751\n",
            "C(monthly, Sum)[S.\"$300\"]          -1.2500      0.217     -5.774      0.109      -4.001       1.501\n",
            "C(service, Sum)[S.\"4G NO\"]         -1.7500      0.125    -14.000      0.045      -3.338      -0.162\n",
            "C(retail, Sum)[S.\"Retail NO\"]       0.2500      0.125      2.000      0.295      -1.338       1.838\n",
            "C(apple, Sum)[S.\"Apple NO\"]         0.2500      0.125      2.000      0.295      -1.338       1.838\n",
            "C(samsung, Sum)[S.\"Samsung NO\"]    -1.1250      0.125     -9.000      0.070      -2.713       0.463\n",
            "C(google, Sum)[S.\"Nexus NO\"]       -0.7500      0.125     -6.000      0.105      -2.338       0.838\n",
            "==============================================================================\n",
            "Omnibus:                       30.796   Durbin-Watson:                   2.000\n",
            "Prob(Omnibus):                  0.000   Jarque-Bera (JB):                2.667\n",
            "Skew:                           0.000   Prob(JB):                        0.264\n",
            "Kurtosis:                       1.000   Cond. No.                         2.00\n",
            "==============================================================================\n",
            "\n",
            "Warnings:\n",
            "[1] Standard Errors assume that the covariance matrix of the errors is correctly specified.\n"
          ],
          "name": "stdout"
        },
        {
          "output_type": "stream",
          "text": [
            "/usr/local/lib/python3.7/dist-packages/scipy/stats/stats.py:1535: UserWarning: kurtosistest only valid for n>=20 ... continuing anyway, n=16\n",
            "  \"anyway, n=%i\" % int(n))\n"
          ],
          "name": "stderr"
        }
      ]
    },
    {
      "cell_type": "code",
      "metadata": {
        "colab": {
          "base_uri": "https://localhost:8080/"
        },
        "id": "NIBeZn6VP6rd",
        "outputId": "7fb69882-30fd-4df2-904a-cf9cca89bc25"
      },
      "source": [
        "conjoint_attributes = ['brand', 'startup', 'monthly', 'service', \\\r\n",
        "'retail', 'apple', 'samsung', 'google']\r\n",
        "conjoint_attributes"
      ],
      "execution_count": null,
      "outputs": [
        {
          "output_type": "execute_result",
          "data": {
            "text/plain": [
              "['brand',\n",
              " 'startup',\n",
              " 'monthly',\n",
              " 'service',\n",
              " 'retail',\n",
              " 'apple',\n",
              " 'samsung',\n",
              " 'google']"
            ]
          },
          "metadata": {
            "tags": []
          },
          "execution_count": 20
        }
      ]
    },
    {
      "cell_type": "code",
      "metadata": {
        "id": "5dJdE_G0OP7j"
      },
      "source": [
        "# build part-worth information one attribute at a time\r\n",
        "level_name = []\r\n",
        "part_worth = []\r\n",
        "part_worth_range = []\r\n",
        "end = 1 # initialize index for coefficient in params"
      ],
      "execution_count": null,
      "outputs": []
    },
    {
      "cell_type": "code",
      "metadata": {
        "colab": {
          "base_uri": "https://localhost:8080/"
        },
        "id": "S8sXEe8WRjUH",
        "outputId": "399accec-bf98-4aab-f34f-8bb7bab9b2e3"
      },
      "source": [
        "list(conjoint_data_frame[item])"
      ],
      "execution_count": null,
      "outputs": [
        {
          "output_type": "execute_result",
          "data": {
            "text/plain": [
              "['\"AT&T\"',\n",
              " '\"Verizon\"',\n",
              " '\"US Cellular\"',\n",
              " '\"Verizon\"',\n",
              " '\"Verizon\"',\n",
              " '\"Verizon\"',\n",
              " '\"US Cellular\"',\n",
              " '\"AT&T\"',\n",
              " '\"AT&T\"',\n",
              " '\"T-Mobile\"',\n",
              " '\"US Cellular\"',\n",
              " '\"T-Mobile\"',\n",
              " '\"T-Mobile\"',\n",
              " '\"US Cellular\"',\n",
              " '\"T-Mobile\"',\n",
              " '\"AT&T\"']"
            ]
          },
          "metadata": {
            "tags": []
          },
          "execution_count": 28
        }
      ]
    },
    {
      "cell_type": "code",
      "metadata": {
        "id": "RcbbJfguRGQY"
      },
      "source": [
        "import numpy as np\r\n",
        "\r\n",
        "for item in conjoint_attributes:\r\n",
        "  nlevels = len(list(np.unique(conjoint_data_frame[item]))) #devuelve la longitud de una cadena de caracteres o el número de elementos de una lista\r\n",
        "  level_name.append(list(np.unique(conjoint_data_frame[item])))\r\n",
        "  begin = end\r\n",
        "  end = begin + nlevels - 1\r\n",
        "  new_part_worth = list(main_effects_model_fit.params[begin:end])\r\n",
        "  new_part_worth.append((-1) * sum(new_part_worth))\r\n",
        "  part_worth_range.append(max(new_part_worth) - min(new_part_worth))\r\n",
        "  part_worth.append(new_part_worth)\r\n",
        "# end set to begin next iteration"
      ],
      "execution_count": null,
      "outputs": []
    },
    {
      "cell_type": "code",
      "metadata": {
        "id": "r-1taMokQRPa"
      },
      "source": [
        "# compute attribute relative importance values from ranges\r\n",
        "attribute_importance = []\r\n",
        "\r\n",
        "for item in part_worth_range:\r\n",
        "  attribute_importance.append(round(100 * (item / sum(part_worth_range)),2))\r\n"
      ],
      "execution_count": null,
      "outputs": []
    },
    {
      "cell_type": "code",
      "metadata": {
        "id": "Tg8QaGH2QUPs"
      },
      "source": [
        "# user-defined dictionary for printing descriptive attribute names\r\n",
        "effect_name_dict = {'brand' : 'Mobile Service Provider', \\\r\n",
        "'startup' : 'Start-up Cost', 'monthly' : 'Monthly Cost', \\\r\n",
        "'service' : 'Offers 4G Service', 'retail' : 'Has Nearby Retail Store', \\\r\n",
        "'apple' : 'Sells Apple Products', 'samsung' : 'Sells Samsung Products', \\\r\n",
        "'google' : 'Sells Google/Nexus Products'}\r\n"
      ],
      "execution_count": null,
      "outputs": []
    },
    {
      "cell_type": "code",
      "metadata": {
        "colab": {
          "base_uri": "https://localhost:8080/"
        },
        "id": "nf8ZTeqcQWtO",
        "outputId": "ba8b99de-084f-4bdf-d40b-83b9f1e53e7c"
      },
      "source": [
        "# report conjoint measures to console\r\n",
        "index = 0 # initialize for use in for-loop\r\n",
        "\r\n",
        "for item in conjoint_attributes:\r\n",
        "  print('\\nAttribute:', effect_name_dict[item])\r\n",
        "  print(' Importance:', attribute_importance[index])\r\n",
        "  print(' Level Part-Worths')\r\n",
        "  for level in range(len(level_name[index])):\r\n",
        "    print(' ',level_name[index][level], part_worth[index][level]) \r\n",
        "  index = index + 1"
      ],
      "execution_count": null,
      "outputs": [
        {
          "output_type": "stream",
          "text": [
            "\n",
            "Attribute: Mobile Service Provider\n",
            " Importance: 2.38\n",
            " Level Part-Worths\n",
            "  \"AT&T\" -8.881784197001252e-16\n",
            "  \"T-Mobile\" -0.24999999999999944\n",
            "  \"US Cellular\" 2.220446049250313e-16\n",
            "  \"Verizon\" 0.2500000000000001\n",
            "\n",
            "Attribute: Start-up Cost\n",
            " Importance: 7.14\n",
            " Level Part-Worths\n",
            "  \"$100\" 0.7500000000000089\n",
            "  \"$200\" -1.3711254354120683e-14\n",
            "  \"$300\" 3.1086244689504383e-15\n",
            "  \"$400\" -0.7499999999999982\n",
            "\n",
            "Attribute: Monthly Cost\n",
            " Importance: 51.19\n",
            " Level Part-Worths\n",
            "  \"$100\" 5.000000000000005\n",
            "  \"$200\" 2.000000000000001\n",
            "  \"$300\" -1.2500000000000053\n",
            "  \"$400\" -5.750000000000001\n",
            "\n",
            "Attribute: Offers 4G Service\n",
            " Importance: 16.67\n",
            " Level Part-Worths\n",
            "  \"4G NO\" -1.7500000000000007\n",
            "  \"4G YES\" 1.7500000000000007\n",
            "\n",
            "Attribute: Has Nearby Retail Store\n",
            " Importance: 2.38\n",
            " Level Part-Worths\n",
            "  \"Retail NO\" 0.25000000000000067\n",
            "  \"Retail YES\" -0.25000000000000067\n",
            "\n",
            "Attribute: Sells Apple Products\n",
            " Importance: 2.38\n",
            " Level Part-Worths\n",
            "  \"Apple NO\" 0.25000000000000044\n",
            "  \"Apple YES\" -0.25000000000000044\n",
            "\n",
            "Attribute: Sells Samsung Products\n",
            " Importance: 10.71\n",
            " Level Part-Worths\n",
            "  \"Samsung NO\" -1.1249999999999991\n",
            "  \"Samsung YES\" 1.1249999999999991\n",
            "\n",
            "Attribute: Sells Google/Nexus Products\n",
            " Importance: 7.14\n",
            " Level Part-Worths\n",
            "  \"Nexus NO\" -0.7500000000000004\n",
            "  \"Nexus YES\" 0.7500000000000004\n"
          ],
          "name": "stdout"
        }
      ]
    }
  ]
}